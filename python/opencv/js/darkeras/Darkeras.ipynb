{
 "cells": [
  {
   "cell_type": "code",
   "execution_count": 12,
   "metadata": {
    "collapsed": false
   },
   "outputs": [],
   "source": [
    "import os\n",
    "import glob\n",
    "import h5py\n",
    "import numpy as np\n",
    "from keras import backend as K\n",
    "\n",
    "import keras\n",
    "from keras.models import Sequential\n",
    "from keras.layers.convolutional import Convolution2D, MaxPooling2D\n",
    "from keras.layers.advanced_activations import LeakyReLU\n",
    "from keras.layers.core import Flatten, Dense, Activation, Reshape"
   ]
  },
  {
   "cell_type": "code",
   "execution_count": 17,
   "metadata": {
    "collapsed": true
   },
   "outputs": [],
   "source": [
    "keras.backend.set_image_dim_ordering('tf')\n",
    "weights_path = 'yolo-tiny.weights'"
   ]
  },
  {
   "cell_type": "code",
   "execution_count": 31,
   "metadata": {
    "collapsed": false
   },
   "outputs": [],
   "source": [
    "model = Sequential()\n",
    "model.add(Convolution2D(16, 3, 3,input_shape=(448,448,3),border_mode='same',subsample=(1,1)))\n",
    "model.add(LeakyReLU(alpha=0.1))\n",
    "model.add(MaxPooling2D(pool_size=(2, 2)))\n",
    "model.add(Convolution2D(32,3,3 ,border_mode='same', activation=LeakyReLU(alpha=0.1)))\n",
    "model.add(MaxPooling2D(pool_size=(2, 2),border_mode='valid'))\n",
    "model.add(Convolution2D(64,3,3 ,border_mode='same'))\n",
    "model.add(LeakyReLU(alpha=0.1))\n",
    "model.add(MaxPooling2D(pool_size=(2, 2),border_mode='valid'))\n",
    "model.add(Convolution2D(128,3,3 ,border_mode='same'))\n",
    "model.add(LeakyReLU(alpha=0.1))\n",
    "model.add(MaxPooling2D(pool_size=(2, 2),border_mode='valid'))\n",
    "model.add(Convolution2D(256,3,3 ,border_mode='same'))\n",
    "model.add(LeakyReLU(alpha=0.1))\n",
    "model.add(MaxPooling2D(pool_size=(2, 2),border_mode='valid'))\n",
    "model.add(Convolution2D(512,3,3 ,border_mode='same'))\n",
    "model.add(LeakyReLU(alpha=0.1))\n",
    "model.add(MaxPooling2D(pool_size=(2, 2),border_mode='valid'))\n",
    "model.add(Convolution2D(1024,3,3 ,border_mode='same'))\n",
    "model.add(LeakyReLU(alpha=0.1))\n",
    "model.add(Convolution2D(1024,3,3 ,border_mode='same'))\n",
    "model.add(LeakyReLU(alpha=0.1))\n",
    "model.add(Convolution2D(1024,3,3 ,border_mode='same'))\n",
    "model.add(LeakyReLU(alpha=0.1))\n",
    "model.add(Flatten())\n",
    "model.add(Dense(256))\n",
    "model.add(Dense(4096))\n",
    "model.add(LeakyReLU(alpha=0.1))\n",
    "model.add(Dense(1470))"
   ]
  },
  {
   "cell_type": "code",
   "execution_count": 37,
   "metadata": {
    "collapsed": true
   },
   "outputs": [],
   "source": [
    "def say(*words, verbalise=False):\n",
    "    if verbalise:\n",
    "        print(list(words))\n",
    "\n",
    "def convert_darkweights2keras(model, weigths_path, verbalise=False):\n",
    "    data = np.fromfile(weights_path, np.float32)\n",
    "    data = data[4:]\n",
    "    say(\"weights shape : \", data.shape, verbalise=verbalise)\n",
    "    idx = 0\n",
    "    for i,layer in enumerate(model.layers):\n",
    "        shape = [w.shape for w in layer.get_weights()]\n",
    "        if shape != []:\n",
    "            kshape,bshape = shape\n",
    "            bia = data[idx:idx+np.prod(bshape)].reshape(bshape)\n",
    "            idx += np.prod(bshape)\n",
    "            ker = data[idx:idx+np.prod(kshape)].reshape(kshape)\n",
    "            idx += np.prod(kshape)\n",
    "            layer.set_weights([ker,bia])\n",
    "    say(\"convert np weights file -> kears models\", verbalise=verbalise)"
   ]
  },
  {
   "cell_type": "code",
   "execution_count": 38,
   "metadata": {
    "collapsed": false
   },
   "outputs": [
    {
     "name": "stdout",
     "output_type": "stream",
     "text": [
      "['weights shape : ', (45089374,)]\n",
      "['convert np weights file -> kears models']\n"
     ]
    }
   ],
   "source": [
    "convert_darkweights2keras(model, weights_path, verbalise=True)"
   ]
  },
  {
   "cell_type": "code",
   "execution_count": 28,
   "metadata": {
    "collapsed": false
   },
   "outputs": [
    {
     "name": "stdout",
     "output_type": "stream",
     "text": [
      "____________________________________________________________________________________________________\n",
      "Layer (type)                     Output Shape          Param #     Connected to                     \n",
      "====================================================================================================\n",
      "convolution2d_14 (Convolution2D) (None, 448, 448, 16)  448         convolution2d_input_4[0][0]      \n",
      "____________________________________________________________________________________________________\n",
      "leakyrelu_15 (LeakyReLU)         (None, 448, 448, 16)  0           convolution2d_14[0][0]           \n",
      "____________________________________________________________________________________________________\n",
      "maxpooling2d_11 (MaxPooling2D)   (None, 224, 224, 16)  0           leakyrelu_15[0][0]               \n",
      "____________________________________________________________________________________________________\n",
      "convolution2d_15 (Convolution2D) (None, 224, 224, 32)  4640        maxpooling2d_11[0][0]            \n",
      "____________________________________________________________________________________________________\n",
      "leakyrelu_16 (LeakyReLU)         (None, 224, 224, 32)  0           convolution2d_15[0][0]           \n",
      "____________________________________________________________________________________________________\n",
      "maxpooling2d_12 (MaxPooling2D)   (None, 112, 112, 32)  0           leakyrelu_16[0][0]               \n",
      "____________________________________________________________________________________________________\n",
      "convolution2d_16 (Convolution2D) (None, 112, 112, 64)  18496       maxpooling2d_12[0][0]            \n",
      "____________________________________________________________________________________________________\n",
      "leakyrelu_17 (LeakyReLU)         (None, 112, 112, 64)  0           convolution2d_16[0][0]           \n",
      "____________________________________________________________________________________________________\n",
      "maxpooling2d_13 (MaxPooling2D)   (None, 56, 56, 64)    0           leakyrelu_17[0][0]               \n",
      "____________________________________________________________________________________________________\n",
      "convolution2d_17 (Convolution2D) (None, 56, 56, 128)   73856       maxpooling2d_13[0][0]            \n",
      "____________________________________________________________________________________________________\n",
      "leakyrelu_18 (LeakyReLU)         (None, 56, 56, 128)   0           convolution2d_17[0][0]           \n",
      "____________________________________________________________________________________________________\n",
      "maxpooling2d_14 (MaxPooling2D)   (None, 28, 28, 128)   0           leakyrelu_18[0][0]               \n",
      "____________________________________________________________________________________________________\n",
      "convolution2d_18 (Convolution2D) (None, 28, 28, 256)   295168      maxpooling2d_14[0][0]            \n",
      "____________________________________________________________________________________________________\n",
      "leakyrelu_19 (LeakyReLU)         (None, 28, 28, 256)   0           convolution2d_18[0][0]           \n",
      "____________________________________________________________________________________________________\n",
      "maxpooling2d_15 (MaxPooling2D)   (None, 14, 14, 256)   0           leakyrelu_19[0][0]               \n",
      "____________________________________________________________________________________________________\n",
      "convolution2d_19 (Convolution2D) (None, 14, 14, 512)   1180160     maxpooling2d_15[0][0]            \n",
      "____________________________________________________________________________________________________\n",
      "leakyrelu_20 (LeakyReLU)         (None, 14, 14, 512)   0           convolution2d_19[0][0]           \n",
      "____________________________________________________________________________________________________\n",
      "maxpooling2d_16 (MaxPooling2D)   (None, 7, 7, 512)     0           leakyrelu_20[0][0]               \n",
      "____________________________________________________________________________________________________\n",
      "convolution2d_20 (Convolution2D) (None, 7, 7, 1024)    4719616     maxpooling2d_16[0][0]            \n",
      "____________________________________________________________________________________________________\n",
      "leakyrelu_21 (LeakyReLU)         (None, 7, 7, 1024)    0           convolution2d_20[0][0]           \n",
      "____________________________________________________________________________________________________\n",
      "convolution2d_21 (Convolution2D) (None, 7, 7, 1024)    9438208     leakyrelu_21[0][0]               \n",
      "____________________________________________________________________________________________________\n",
      "leakyrelu_22 (LeakyReLU)         (None, 7, 7, 1024)    0           convolution2d_21[0][0]           \n",
      "____________________________________________________________________________________________________\n",
      "convolution2d_22 (Convolution2D) (None, 7, 7, 1024)    9438208     leakyrelu_22[0][0]               \n",
      "____________________________________________________________________________________________________\n",
      "leakyrelu_23 (LeakyReLU)         (None, 7, 7, 1024)    0           convolution2d_22[0][0]           \n",
      "____________________________________________________________________________________________________\n",
      "flatten_2 (Flatten)              (None, 50176)         0           leakyrelu_23[0][0]               \n",
      "____________________________________________________________________________________________________\n",
      "dense_4 (Dense)                  (None, 256)           12845312    flatten_2[0][0]                  \n",
      "____________________________________________________________________________________________________\n",
      "dense_5 (Dense)                  (None, 4096)          1052672     dense_4[0][0]                    \n",
      "____________________________________________________________________________________________________\n",
      "leakyrelu_24 (LeakyReLU)         (None, 4096)          0           dense_5[0][0]                    \n",
      "____________________________________________________________________________________________________\n",
      "dense_6 (Dense)                  (None, 1470)          6022590     leakyrelu_24[0][0]               \n",
      "====================================================================================================\n",
      "Total params: 45,089,374\n",
      "Trainable params: 45,089,374\n",
      "Non-trainable params: 0\n",
      "____________________________________________________________________________________________________\n"
     ]
    }
   ],
   "source": [
    "model.summary()"
   ]
  },
  {
   "cell_type": "code",
   "execution_count": null,
   "metadata": {
    "collapsed": true
   },
   "outputs": [],
   "source": []
  }
 ],
 "metadata": {
  "kernelspec": {
   "display_name": "Python 3",
   "language": "python",
   "name": "python3"
  },
  "language_info": {
   "codemirror_mode": {
    "name": "ipython",
    "version": 3
   },
   "file_extension": ".py",
   "mimetype": "text/x-python",
   "name": "python",
   "nbconvert_exporter": "python",
   "pygments_lexer": "ipython3",
   "version": "3.5.3"
  }
 },
 "nbformat": 4,
 "nbformat_minor": 2
}
