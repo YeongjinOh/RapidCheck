{
 "cells": [
  {
   "cell_type": "code",
   "execution_count": 12,
   "metadata": {
    "collapsed": false
   },
   "outputs": [],
   "source": [
    "import os\n",
    "import glob\n",
    "import h5py\n",
    "import numpy as np\n",
    "from keras import backend as K\n",
    "\n",
    "import keras\n",
    "from keras.models import Sequential\n",
    "from keras.layers.convolutional import Convolution2D, MaxPooling2D\n",
    "from keras.layers.advanced_activations import LeakyReLU\n",
    "from keras.layers.core import Flatten, Dense, Activation, Reshape"
   ]
  },
  {
   "cell_type": "code",
   "execution_count": 44,
   "metadata": {
    "collapsed": true
   },
   "outputs": [],
   "source": [
    "keras.backend.set_image_dim_ordering('tf')\n",
    "weights_path = 'yolo-tiny.weights'\n",
    "is_freeze = True"
   ]
  },
  {
   "cell_type": "code",
   "execution_count": 45,
   "metadata": {
    "collapsed": false
   },
   "outputs": [],
   "source": [
    "model = Sequential()\n",
    "model.add(Convolution2D(16, 3, 3,input_shape=(448,448,3),border_mode='same',subsample=(1,1), \n",
    "                        activation=LeakyReLU(alpha=0.1), trainable=not is_freeze))\n",
    "model.add(MaxPooling2D(pool_size=(2, 2)))\n",
    "model.add(Convolution2D(32,3,3 ,border_mode='same', \n",
    "                        activation=LeakyReLU(alpha=0.1), trainable=not is_freeze))\n",
    "model.add(MaxPooling2D(pool_size=(2, 2),border_mode='valid'))\n",
    "model.add(Convolution2D(64,3,3 ,border_mode='same', \n",
    "                        activation=LeakyReLU(alpha=0.1), trainable=not is_freeze))\n",
    "model.add(MaxPooling2D(pool_size=(2, 2),border_mode='valid'))\n",
    "model.add(Convolution2D(128,3,3 ,border_mode='same', \n",
    "                        activation=LeakyReLU(alpha=0.1), trainable=not is_freeze))\n",
    "model.add(MaxPooling2D(pool_size=(2, 2),border_mode='valid'))\n",
    "model.add(Convolution2D(256,3,3 ,border_mode='same', \n",
    "                        activation=LeakyReLU(alpha=0.1), trainable=not is_freeze))\n",
    "model.add(MaxPooling2D(pool_size=(2, 2),border_mode='valid'))\n",
    "model.add(Convolution2D(512,3,3 ,border_mode='same', \n",
    "                        activation=LeakyReLU(alpha=0.1), trainable=not is_freeze))\n",
    "model.add(MaxPooling2D(pool_size=(2, 2),border_mode='valid'))\n",
    "model.add(Convolution2D(1024,3,3 ,border_mode='same', activation=LeakyReLU(alpha=0.1), trainable=not is_freeze))\n",
    "model.add(Convolution2D(1024,3,3 ,border_mode='same', activation=LeakyReLU(alpha=0.1), trainable=not is_freeze))\n",
    "model.add(Convolution2D(1024,3,3 ,border_mode='same', activation=LeakyReLU(alpha=0.1), trainable=not is_freeze))\n",
    "model.add(Flatten())\n",
    "model.add(Dense(256))\n",
    "model.add(Dense(4096))\n",
    "model.add(LeakyReLU(alpha=0.1))\n",
    "model.add(Dense(1470))"
   ]
  },
  {
   "cell_type": "code",
   "execution_count": 46,
   "metadata": {
    "collapsed": true
   },
   "outputs": [],
   "source": [
    "def say(*words, verbalise=False):\n",
    "    if verbalise:\n",
    "        print(list(words))\n",
    "\n",
    "def convert_darkweights2keras(model, weigths_path, verbalise=False):\n",
    "    data = np.fromfile(weights_path, np.float32)\n",
    "    data = data[4:]\n",
    "    say(\"weights shape : \", data.shape, verbalise=verbalise)\n",
    "    idx = 0\n",
    "    for i,layer in enumerate(model.layers):\n",
    "        shape = [w.shape for w in layer.get_weights()]\n",
    "        if shape != []:\n",
    "            kshape,bshape = shape\n",
    "            bia = data[idx:idx+np.prod(bshape)].reshape(bshape)\n",
    "            idx += np.prod(bshape)\n",
    "            ker = data[idx:idx+np.prod(kshape)].reshape(kshape)\n",
    "            idx += np.prod(kshape)\n",
    "            layer.set_weights([ker,bia])\n",
    "    say(\"convert np weights file -> kears models\", \"Successful\", verbalise=verbalise)"
   ]
  },
  {
   "cell_type": "code",
   "execution_count": 47,
   "metadata": {
    "collapsed": false
   },
   "outputs": [
    {
     "name": "stdout",
     "output_type": "stream",
     "text": [
      "['weights shape : ', (45089374,)]\n",
      "['convert np weights file -> kears models', 'Successful']\n"
     ]
    }
   ],
   "source": [
    "convert_darkweights2keras(model, weights_path, verbalise=True)"
   ]
  },
  {
   "cell_type": "code",
   "execution_count": 48,
   "metadata": {
    "collapsed": false
   },
   "outputs": [
    {
     "name": "stdout",
     "output_type": "stream",
     "text": [
      "____________________________________________________________________________________________________\n",
      "Layer (type)                     Output Shape          Param #     Connected to                     \n",
      "====================================================================================================\n",
      "convolution2d_50 (Convolution2D) (None, 448, 448, 16)  448         convolution2d_input_8[0][0]      \n",
      "____________________________________________________________________________________________________\n",
      "maxpooling2d_35 (MaxPooling2D)   (None, 224, 224, 16)  0           convolution2d_50[0][0]           \n",
      "____________________________________________________________________________________________________\n",
      "convolution2d_51 (Convolution2D) (None, 224, 224, 32)  4640        maxpooling2d_35[0][0]            \n",
      "____________________________________________________________________________________________________\n",
      "maxpooling2d_36 (MaxPooling2D)   (None, 112, 112, 32)  0           convolution2d_51[0][0]           \n",
      "____________________________________________________________________________________________________\n",
      "convolution2d_52 (Convolution2D) (None, 112, 112, 64)  18496       maxpooling2d_36[0][0]            \n",
      "____________________________________________________________________________________________________\n",
      "maxpooling2d_37 (MaxPooling2D)   (None, 56, 56, 64)    0           convolution2d_52[0][0]           \n",
      "____________________________________________________________________________________________________\n",
      "convolution2d_53 (Convolution2D) (None, 56, 56, 128)   73856       maxpooling2d_37[0][0]            \n",
      "____________________________________________________________________________________________________\n",
      "maxpooling2d_38 (MaxPooling2D)   (None, 28, 28, 128)   0           convolution2d_53[0][0]           \n",
      "____________________________________________________________________________________________________\n",
      "convolution2d_54 (Convolution2D) (None, 28, 28, 256)   295168      maxpooling2d_38[0][0]            \n",
      "____________________________________________________________________________________________________\n",
      "maxpooling2d_39 (MaxPooling2D)   (None, 14, 14, 256)   0           convolution2d_54[0][0]           \n",
      "____________________________________________________________________________________________________\n",
      "convolution2d_55 (Convolution2D) (None, 14, 14, 512)   1180160     maxpooling2d_39[0][0]            \n",
      "____________________________________________________________________________________________________\n",
      "maxpooling2d_40 (MaxPooling2D)   (None, 7, 7, 512)     0           convolution2d_55[0][0]           \n",
      "____________________________________________________________________________________________________\n",
      "convolution2d_56 (Convolution2D) (None, 7, 7, 1024)    4719616     maxpooling2d_40[0][0]            \n",
      "____________________________________________________________________________________________________\n",
      "convolution2d_57 (Convolution2D) (None, 7, 7, 1024)    9438208     convolution2d_56[0][0]           \n",
      "____________________________________________________________________________________________________\n",
      "convolution2d_58 (Convolution2D) (None, 7, 7, 1024)    9438208     convolution2d_57[0][0]           \n",
      "____________________________________________________________________________________________________\n",
      "flatten_6 (Flatten)              (None, 50176)         0           convolution2d_58[0][0]           \n",
      "____________________________________________________________________________________________________\n",
      "dense_16 (Dense)                 (None, 256)           12845312    flatten_6[0][0]                  \n",
      "____________________________________________________________________________________________________\n",
      "dense_17 (Dense)                 (None, 4096)          1052672     dense_16[0][0]                   \n",
      "____________________________________________________________________________________________________\n",
      "leakyrelu_64 (LeakyReLU)         (None, 4096)          0           dense_17[0][0]                   \n",
      "____________________________________________________________________________________________________\n",
      "dense_18 (Dense)                 (None, 1470)          6022590     leakyrelu_64[0][0]               \n",
      "====================================================================================================\n",
      "Total params: 45,089,374\n",
      "Trainable params: 19,920,574\n",
      "Non-trainable params: 25,168,800\n",
      "____________________________________________________________________________________________________\n"
     ]
    }
   ],
   "source": [
    "model.summary()"
   ]
  },
  {
   "cell_type": "markdown",
   "metadata": {},
   "source": [
    "## Test Forward Path"
   ]
  },
  {
   "cell_type": "code",
   "execution_count": 54,
   "metadata": {
    "collapsed": false
   },
   "outputs": [
    {
     "ename": "TabError",
     "evalue": "inconsistent use of tabs and spaces in indentation (BoxUtils.py, line 141)",
     "output_type": "error",
     "traceback": [
      "\u001b[1;36m  File \u001b[1;32m\"C:\\Users\\SoMa\\myworkspace\\RapidCheck\\python\\opencv\\js\\darkeras\\utils\\BoxUtils.py\"\u001b[1;36m, line \u001b[1;32m141\u001b[0m\n\u001b[1;33m    imgcv = cv2.imread(im)\u001b[0m\n\u001b[1;37m                          ^\u001b[0m\n\u001b[1;31mTabError\u001b[0m\u001b[1;31m:\u001b[0m inconsistent use of tabs and spaces in indentation\n"
     ]
    }
   ],
   "source": [
    "from utils.BoxUtils import post_progress"
   ]
  },
  {
   "cell_type": "code",
   "execution_count": null,
   "metadata": {
    "collapsed": true
   },
   "outputs": [],
   "source": []
  }
 ],
 "metadata": {
  "kernelspec": {
   "display_name": "Python 3",
   "language": "python",
   "name": "python3"
  },
  "language_info": {
   "codemirror_mode": {
    "name": "ipython",
    "version": 3
   },
   "file_extension": ".py",
   "mimetype": "text/x-python",
   "name": "python",
   "nbconvert_exporter": "python",
   "pygments_lexer": "ipython3",
   "version": "3.5.3"
  }
 },
 "nbformat": 4,
 "nbformat_minor": 2
}
