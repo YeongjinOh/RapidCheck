{
 "cells": [
  {
   "cell_type": "code",
   "execution_count": 1,
   "metadata": {
    "collapsed": true
   },
   "outputs": [],
   "source": [
    "import numpy as np\n",
    "import tensorflow as tf\n",
    "from tensorflow.examples.tutorials.mnist import input_data"
   ]
  },
  {
   "cell_type": "code",
   "execution_count": 4,
   "metadata": {
    "collapsed": false
   },
   "outputs": [
    {
     "name": "stdout",
     "output_type": "stream",
     "text": [
      "Extracting MNIST_data/train-images-idx3-ubyte.gz\n",
      "Extracting MNIST_data/train-labels-idx1-ubyte.gz\n",
      "Extracting MNIST_data/t10k-images-idx3-ubyte.gz\n",
      "Extracting MNIST_data/t10k-labels-idx1-ubyte.gz\n"
     ]
    }
   ],
   "source": [
    "mnist = input_data.read_data_sets('MNIST_data/', one_hot=True)\n",
    "train_instance_num, pixel_num = mnist.train.images.shape\n",
    "test_instance_num, class_num = mnist.test.labels.shape"
   ]
  },
  {
   "cell_type": "code",
   "execution_count": 3,
   "metadata": {
    "collapsed": true
   },
   "outputs": [],
   "source": [
    "sess = tf.Session()\n",
    "sess.run(tf.global_variables_initializer())"
   ]
  },
  {
   "cell_type": "code",
   "execution_count": 5,
   "metadata": {
    "collapsed": true
   },
   "outputs": [],
   "source": [
    "x = tf.placeholder('float', shape=[None, pixel_num], name='x_images')\n",
    "y_answer = tf.placeholder('float', shape=[None, class_num], name='y_labels')"
   ]
  },
  {
   "cell_type": "code",
   "execution_count": 6,
   "metadata": {
    "collapsed": false
   },
   "outputs": [
    {
     "data": {
      "text/plain": [
       "<tf.Tensor 'Reshape:0' shape=(?, 28, 28, 1) dtype=float32>"
      ]
     },
     "execution_count": 6,
     "metadata": {},
     "output_type": "execute_result"
    }
   ],
   "source": [
    "x_image = tf.reshape(x, [-1, 28, 28, 1]) # 입력데이터를 원래 이미지의 구조로 재구성한다.\n",
    "x_image"
   ]
  },
  {
   "cell_type": "code",
   "execution_count": 7,
   "metadata": {
    "collapsed": false
   },
   "outputs": [
    {
     "data": {
      "text/plain": [
       "<tf.Tensor 'conv1/Relu:0' shape=(?, 28, 28, 32) dtype=float32>"
      ]
     },
     "execution_count": 7,
     "metadata": {},
     "output_type": "execute_result"
    }
   ],
   "source": [
    "conv1 = tf.layers.conv2d(inputs=x_image,\n",
    "                filters=32,\n",
    "                kernel_size=[3,3],\n",
    "                padding='same',\n",
    "                activation=tf.nn.relu,\n",
    "                trainable=False,\n",
    "                name='conv1')\n",
    "conv1"
   ]
  },
  {
   "cell_type": "code",
   "execution_count": 8,
   "metadata": {
    "collapsed": false
   },
   "outputs": [
    {
     "data": {
      "text/plain": [
       "<tf.Tensor 'max_pooling2d/MaxPool:0' shape=(?, 14, 14, 32) dtype=float32>"
      ]
     },
     "execution_count": 8,
     "metadata": {},
     "output_type": "execute_result"
    }
   ],
   "source": [
    "pool1 = tf.layers.max_pooling2d(inputs=conv1, pool_size=[2,2], strides=2)\n",
    "pool1"
   ]
  },
  {
   "cell_type": "code",
   "execution_count": 9,
   "metadata": {
    "collapsed": false
   },
   "outputs": [
    {
     "data": {
      "text/plain": [
       "<tf.Tensor 'conv2/Relu:0' shape=(?, 14, 14, 64) dtype=float32>"
      ]
     },
     "execution_count": 9,
     "metadata": {},
     "output_type": "execute_result"
    }
   ],
   "source": [
    "conv2 = tf.layers.conv2d(inputs=pool1, \n",
    "                         filters=64, \n",
    "                         kernel_size=[3,3], \n",
    "                         padding='same', \n",
    "                         activation=tf.nn.relu, \n",
    "                         trainable=True, \n",
    "                         name='conv2')\n",
    "conv2"
   ]
  },
  {
   "cell_type": "code",
   "execution_count": 10,
   "metadata": {
    "collapsed": false
   },
   "outputs": [
    {
     "data": {
      "text/plain": [
       "<tf.Tensor 'max_pooling2d_2/MaxPool:0' shape=(?, 7, 7, 64) dtype=float32>"
      ]
     },
     "execution_count": 10,
     "metadata": {},
     "output_type": "execute_result"
    }
   ],
   "source": [
    "pool2 = tf.layers.max_pooling2d(inputs=conv2, pool_size=[2,2], strides=2)\n",
    "pool2"
   ]
  },
  {
   "cell_type": "code",
   "execution_count": 11,
   "metadata": {
    "collapsed": false
   },
   "outputs": [
    {
     "data": {
      "text/plain": [
       "<tf.Tensor 'Reshape_1:0' shape=(?, 3136) dtype=float32>"
      ]
     },
     "execution_count": 11,
     "metadata": {},
     "output_type": "execute_result"
    }
   ],
   "source": [
    "pool2_flat = tf.reshape(pool2, [-1, pool2.shape[1].value*pool2.shape[2].value*pool2.shape[3].value])\n",
    "pool2_flat"
   ]
  },
  {
   "cell_type": "code",
   "execution_count": 12,
   "metadata": {
    "collapsed": false
   },
   "outputs": [
    {
     "data": {
      "text/plain": [
       "<tf.Tensor 'dense/Relu:0' shape=(?, 1024) dtype=float32>"
      ]
     },
     "execution_count": 12,
     "metadata": {},
     "output_type": "execute_result"
    }
   ],
   "source": [
    "dense1 = tf.layers.dense(inputs=pool2_flat, units=1024, activation=tf.nn.relu)\n",
    "dense1"
   ]
  },
  {
   "cell_type": "code",
   "execution_count": 13,
   "metadata": {
    "collapsed": false
   },
   "outputs": [
    {
     "data": {
      "text/plain": [
       "<tf.Tensor 'dense_2/Softmax:0' shape=(?, 10) dtype=float32>"
      ]
     },
     "execution_count": 13,
     "metadata": {},
     "output_type": "execute_result"
    }
   ],
   "source": [
    "dense2 = tf.layers.dense(inputs=dense1, units=10, activation=tf.nn.softmax)\n",
    "dense2"
   ]
  },
  {
   "cell_type": "code",
   "execution_count": 14,
   "metadata": {
    "collapsed": true
   },
   "outputs": [],
   "source": [
    "cross_entropy = - tf.reduce_sum(y_answer*tf.log(dense2)) # 크로스 엔트로피 방식으로 오차값을 선정\n",
    "train_step = tf.train.AdamOptimizer(1e-4).minimize(cross_entropy)\n",
    "correct_prediction = tf.equal(tf.argmax(dense2, 1), tf.argmax(y_answer, 1))\n",
    "accuracy = tf.reduce_mean(tf.cast(correct_prediction, 'float'))"
   ]
  },
  {
   "cell_type": "code",
   "execution_count": 15,
   "metadata": {
    "collapsed": false
   },
   "outputs": [
    {
     "data": {
      "text/plain": [
       "<tensorflow.python.training.saver.Saver at 0x244abfc1438>"
      ]
     },
     "execution_count": 15,
     "metadata": {},
     "output_type": "execute_result"
    }
   ],
   "source": [
    "saver = tf.train.Saver()\n",
    "saver"
   ]
  },
  {
   "cell_type": "code",
   "execution_count": 17,
   "metadata": {
    "collapsed": false
   },
   "outputs": [
    {
     "name": "stdout",
     "output_type": "stream",
     "text": [
      "INFO:tensorflow:Restoring parameters from mnist_ckpt/total-layers-model\n"
     ]
    }
   ],
   "source": [
    "saver.restore(sess, 'mnist_ckpt/total-layers-model')"
   ]
  },
  {
   "cell_type": "code",
   "execution_count": 24,
   "metadata": {
    "collapsed": false
   },
   "outputs": [
    {
     "data": {
      "text/plain": [
       "['init',\n",
       " 'x_images',\n",
       " 'y_labels',\n",
       " 'Reshape/shape',\n",
       " 'Reshape',\n",
       " 'conv1/kernel/Initializer/random_uniform/shape',\n",
       " 'conv1/kernel/Initializer/random_uniform/min',\n",
       " 'conv1/kernel/Initializer/random_uniform/max',\n",
       " 'conv1/kernel/Initializer/random_uniform/RandomUniform',\n",
       " 'conv1/kernel/Initializer/random_uniform/sub',\n",
       " 'conv1/kernel/Initializer/random_uniform/mul',\n",
       " 'conv1/kernel/Initializer/random_uniform',\n",
       " 'conv1/kernel',\n",
       " 'conv1/kernel/Assign',\n",
       " 'conv1/kernel/read',\n",
       " 'conv1/bias/Initializer/Const',\n",
       " 'conv1/bias',\n",
       " 'conv1/bias/Assign',\n",
       " 'conv1/bias/read',\n",
       " 'conv1/convolution/Shape',\n",
       " 'conv1/convolution/dilation_rate',\n",
       " 'conv1/convolution',\n",
       " 'conv1/BiasAdd',\n",
       " 'conv1/Relu',\n",
       " 'max_pooling2d/MaxPool',\n",
       " 'conv2/kernel/Initializer/random_uniform/shape',\n",
       " 'conv2/kernel/Initializer/random_uniform/min',\n",
       " 'conv2/kernel/Initializer/random_uniform/max',\n",
       " 'conv2/kernel/Initializer/random_uniform/RandomUniform',\n",
       " 'conv2/kernel/Initializer/random_uniform/sub',\n",
       " 'conv2/kernel/Initializer/random_uniform/mul',\n",
       " 'conv2/kernel/Initializer/random_uniform',\n",
       " 'conv2/kernel',\n",
       " 'conv2/kernel/Assign',\n",
       " 'conv2/kernel/read',\n",
       " 'conv2/bias/Initializer/Const',\n",
       " 'conv2/bias',\n",
       " 'conv2/bias/Assign',\n",
       " 'conv2/bias/read',\n",
       " 'conv2/convolution/Shape',\n",
       " 'conv2/convolution/dilation_rate',\n",
       " 'conv2/convolution',\n",
       " 'conv2/BiasAdd',\n",
       " 'conv2/Relu',\n",
       " 'max_pooling2d_2/MaxPool',\n",
       " 'Reshape_1/shape',\n",
       " 'Reshape_1',\n",
       " 'dense/kernel/Initializer/random_uniform/shape',\n",
       " 'dense/kernel/Initializer/random_uniform/min',\n",
       " 'dense/kernel/Initializer/random_uniform/max',\n",
       " 'dense/kernel/Initializer/random_uniform/RandomUniform',\n",
       " 'dense/kernel/Initializer/random_uniform/sub',\n",
       " 'dense/kernel/Initializer/random_uniform/mul',\n",
       " 'dense/kernel/Initializer/random_uniform',\n",
       " 'dense/kernel',\n",
       " 'dense/kernel/Assign',\n",
       " 'dense/kernel/read',\n",
       " 'dense/bias/Initializer/Const',\n",
       " 'dense/bias',\n",
       " 'dense/bias/Assign',\n",
       " 'dense/bias/read',\n",
       " 'dense/MatMul',\n",
       " 'dense/BiasAdd',\n",
       " 'dense/Relu',\n",
       " 'dense_1/kernel/Initializer/random_uniform/shape',\n",
       " 'dense_1/kernel/Initializer/random_uniform/min',\n",
       " 'dense_1/kernel/Initializer/random_uniform/max',\n",
       " 'dense_1/kernel/Initializer/random_uniform/RandomUniform',\n",
       " 'dense_1/kernel/Initializer/random_uniform/sub',\n",
       " 'dense_1/kernel/Initializer/random_uniform/mul',\n",
       " 'dense_1/kernel/Initializer/random_uniform',\n",
       " 'dense_1/kernel',\n",
       " 'dense_1/kernel/Assign',\n",
       " 'dense_1/kernel/read',\n",
       " 'dense_1/bias/Initializer/Const',\n",
       " 'dense_1/bias',\n",
       " 'dense_1/bias/Assign',\n",
       " 'dense_1/bias/read',\n",
       " 'dense_2/MatMul',\n",
       " 'dense_2/BiasAdd',\n",
       " 'dense_2/Softmax',\n",
       " 'Log',\n",
       " 'mul',\n",
       " 'Const',\n",
       " 'Sum',\n",
       " 'Neg',\n",
       " 'gradients/Shape',\n",
       " 'gradients/Const',\n",
       " 'gradients/Fill',\n",
       " 'gradients/Neg_grad/Neg',\n",
       " 'gradients/Sum_grad/Reshape/shape',\n",
       " 'gradients/Sum_grad/Reshape',\n",
       " 'gradients/Sum_grad/Shape',\n",
       " 'gradients/Sum_grad/Tile',\n",
       " 'gradients/mul_grad/Shape',\n",
       " 'gradients/mul_grad/Shape_1',\n",
       " 'gradients/mul_grad/BroadcastGradientArgs',\n",
       " 'gradients/mul_grad/mul',\n",
       " 'gradients/mul_grad/Sum',\n",
       " 'gradients/mul_grad/Reshape',\n",
       " 'gradients/mul_grad/mul_1',\n",
       " 'gradients/mul_grad/Sum_1',\n",
       " 'gradients/mul_grad/Reshape_1',\n",
       " 'gradients/mul_grad/tuple/group_deps',\n",
       " 'gradients/mul_grad/tuple/control_dependency',\n",
       " 'gradients/mul_grad/tuple/control_dependency_1',\n",
       " 'gradients/Log_grad/Reciprocal',\n",
       " 'gradients/Log_grad/mul',\n",
       " 'gradients/dense_2/Softmax_grad/mul',\n",
       " 'gradients/dense_2/Softmax_grad/Sum/reduction_indices',\n",
       " 'gradients/dense_2/Softmax_grad/Sum',\n",
       " 'gradients/dense_2/Softmax_grad/Reshape/shape',\n",
       " 'gradients/dense_2/Softmax_grad/Reshape',\n",
       " 'gradients/dense_2/Softmax_grad/sub',\n",
       " 'gradients/dense_2/Softmax_grad/mul_1',\n",
       " 'gradients/dense_2/BiasAdd_grad/BiasAddGrad',\n",
       " 'gradients/dense_2/BiasAdd_grad/tuple/group_deps',\n",
       " 'gradients/dense_2/BiasAdd_grad/tuple/control_dependency',\n",
       " 'gradients/dense_2/BiasAdd_grad/tuple/control_dependency_1',\n",
       " 'gradients/dense_2/MatMul_grad/MatMul',\n",
       " 'gradients/dense_2/MatMul_grad/MatMul_1',\n",
       " 'gradients/dense_2/MatMul_grad/tuple/group_deps',\n",
       " 'gradients/dense_2/MatMul_grad/tuple/control_dependency',\n",
       " 'gradients/dense_2/MatMul_grad/tuple/control_dependency_1',\n",
       " 'gradients/dense/Relu_grad/ReluGrad',\n",
       " 'gradients/dense/BiasAdd_grad/BiasAddGrad',\n",
       " 'gradients/dense/BiasAdd_grad/tuple/group_deps',\n",
       " 'gradients/dense/BiasAdd_grad/tuple/control_dependency',\n",
       " 'gradients/dense/BiasAdd_grad/tuple/control_dependency_1',\n",
       " 'gradients/dense/MatMul_grad/MatMul',\n",
       " 'gradients/dense/MatMul_grad/MatMul_1',\n",
       " 'gradients/dense/MatMul_grad/tuple/group_deps',\n",
       " 'gradients/dense/MatMul_grad/tuple/control_dependency',\n",
       " 'gradients/dense/MatMul_grad/tuple/control_dependency_1',\n",
       " 'gradients/Reshape_1_grad/Shape',\n",
       " 'gradients/Reshape_1_grad/Reshape',\n",
       " 'gradients/max_pooling2d_2/MaxPool_grad/MaxPoolGrad',\n",
       " 'gradients/conv2/Relu_grad/ReluGrad',\n",
       " 'gradients/conv2/BiasAdd_grad/BiasAddGrad',\n",
       " 'gradients/conv2/BiasAdd_grad/tuple/group_deps',\n",
       " 'gradients/conv2/BiasAdd_grad/tuple/control_dependency',\n",
       " 'gradients/conv2/BiasAdd_grad/tuple/control_dependency_1',\n",
       " 'gradients/conv2/convolution_grad/Shape',\n",
       " 'gradients/conv2/convolution_grad/Conv2DBackpropInput',\n",
       " 'gradients/conv2/convolution_grad/Shape_1',\n",
       " 'gradients/conv2/convolution_grad/Conv2DBackpropFilter',\n",
       " 'gradients/conv2/convolution_grad/tuple/group_deps',\n",
       " 'gradients/conv2/convolution_grad/tuple/control_dependency',\n",
       " 'gradients/conv2/convolution_grad/tuple/control_dependency_1',\n",
       " 'beta1_power/initial_value',\n",
       " 'beta1_power',\n",
       " 'beta1_power/Assign',\n",
       " 'beta1_power/read',\n",
       " 'beta2_power/initial_value',\n",
       " 'beta2_power',\n",
       " 'beta2_power/Assign',\n",
       " 'beta2_power/read',\n",
       " 'conv2/kernel/Adam/Initializer/Const',\n",
       " 'conv2/kernel/Adam',\n",
       " 'conv2/kernel/Adam/Assign',\n",
       " 'conv2/kernel/Adam/read',\n",
       " 'conv2/kernel/Adam_1/Initializer/Const',\n",
       " 'conv2/kernel/Adam_1',\n",
       " 'conv2/kernel/Adam_1/Assign',\n",
       " 'conv2/kernel/Adam_1/read',\n",
       " 'conv2/bias/Adam/Initializer/Const',\n",
       " 'conv2/bias/Adam',\n",
       " 'conv2/bias/Adam/Assign',\n",
       " 'conv2/bias/Adam/read',\n",
       " 'conv2/bias/Adam_1/Initializer/Const',\n",
       " 'conv2/bias/Adam_1',\n",
       " 'conv2/bias/Adam_1/Assign',\n",
       " 'conv2/bias/Adam_1/read',\n",
       " 'dense/kernel/Adam/Initializer/Const',\n",
       " 'dense/kernel/Adam',\n",
       " 'dense/kernel/Adam/Assign',\n",
       " 'dense/kernel/Adam/read',\n",
       " 'dense/kernel/Adam_1/Initializer/Const',\n",
       " 'dense/kernel/Adam_1',\n",
       " 'dense/kernel/Adam_1/Assign',\n",
       " 'dense/kernel/Adam_1/read',\n",
       " 'dense/bias/Adam/Initializer/Const',\n",
       " 'dense/bias/Adam',\n",
       " 'dense/bias/Adam/Assign',\n",
       " 'dense/bias/Adam/read',\n",
       " 'dense/bias/Adam_1/Initializer/Const',\n",
       " 'dense/bias/Adam_1',\n",
       " 'dense/bias/Adam_1/Assign',\n",
       " 'dense/bias/Adam_1/read',\n",
       " 'dense_1/kernel/Adam/Initializer/Const',\n",
       " 'dense_1/kernel/Adam',\n",
       " 'dense_1/kernel/Adam/Assign',\n",
       " 'dense_1/kernel/Adam/read',\n",
       " 'dense_1/kernel/Adam_1/Initializer/Const',\n",
       " 'dense_1/kernel/Adam_1',\n",
       " 'dense_1/kernel/Adam_1/Assign',\n",
       " 'dense_1/kernel/Adam_1/read',\n",
       " 'dense_1/bias/Adam/Initializer/Const',\n",
       " 'dense_1/bias/Adam',\n",
       " 'dense_1/bias/Adam/Assign',\n",
       " 'dense_1/bias/Adam/read',\n",
       " 'dense_1/bias/Adam_1/Initializer/Const',\n",
       " 'dense_1/bias/Adam_1',\n",
       " 'dense_1/bias/Adam_1/Assign',\n",
       " 'dense_1/bias/Adam_1/read',\n",
       " 'Adam/learning_rate',\n",
       " 'Adam/beta1',\n",
       " 'Adam/beta2',\n",
       " 'Adam/epsilon',\n",
       " 'Adam/update_conv2/kernel/ApplyAdam',\n",
       " 'Adam/update_conv2/bias/ApplyAdam',\n",
       " 'Adam/update_dense/kernel/ApplyAdam',\n",
       " 'Adam/update_dense/bias/ApplyAdam',\n",
       " 'Adam/update_dense_1/kernel/ApplyAdam',\n",
       " 'Adam/update_dense_1/bias/ApplyAdam',\n",
       " 'Adam/mul',\n",
       " 'Adam/Assign',\n",
       " 'Adam/mul_1',\n",
       " 'Adam/Assign_1',\n",
       " 'Adam',\n",
       " 'ArgMax/dimension',\n",
       " 'ArgMax',\n",
       " 'ArgMax_1/dimension',\n",
       " 'ArgMax_1',\n",
       " 'Equal',\n",
       " 'Cast',\n",
       " 'Const_1',\n",
       " 'Mean',\n",
       " 'save/Const',\n",
       " 'save/SaveV2/tensor_names',\n",
       " 'save/SaveV2/shape_and_slices',\n",
       " 'save/SaveV2',\n",
       " 'save/control_dependency',\n",
       " 'save/RestoreV2/tensor_names',\n",
       " 'save/RestoreV2/shape_and_slices',\n",
       " 'save/RestoreV2',\n",
       " 'save/Assign',\n",
       " 'save/RestoreV2_1/tensor_names',\n",
       " 'save/RestoreV2_1/shape_and_slices',\n",
       " 'save/RestoreV2_1',\n",
       " 'save/Assign_1',\n",
       " 'save/RestoreV2_2/tensor_names',\n",
       " 'save/RestoreV2_2/shape_and_slices',\n",
       " 'save/RestoreV2_2',\n",
       " 'save/Assign_2',\n",
       " 'save/RestoreV2_3/tensor_names',\n",
       " 'save/RestoreV2_3/shape_and_slices',\n",
       " 'save/RestoreV2_3',\n",
       " 'save/Assign_3',\n",
       " 'save/RestoreV2_4/tensor_names',\n",
       " 'save/RestoreV2_4/shape_and_slices',\n",
       " 'save/RestoreV2_4',\n",
       " 'save/Assign_4',\n",
       " 'save/RestoreV2_5/tensor_names',\n",
       " 'save/RestoreV2_5/shape_and_slices',\n",
       " 'save/RestoreV2_5',\n",
       " 'save/Assign_5',\n",
       " 'save/RestoreV2_6/tensor_names',\n",
       " 'save/RestoreV2_6/shape_and_slices',\n",
       " 'save/RestoreV2_6',\n",
       " 'save/Assign_6',\n",
       " 'save/RestoreV2_7/tensor_names',\n",
       " 'save/RestoreV2_7/shape_and_slices',\n",
       " 'save/RestoreV2_7',\n",
       " 'save/Assign_7',\n",
       " 'save/RestoreV2_8/tensor_names',\n",
       " 'save/RestoreV2_8/shape_and_slices',\n",
       " 'save/RestoreV2_8',\n",
       " 'save/Assign_8',\n",
       " 'save/RestoreV2_9/tensor_names',\n",
       " 'save/RestoreV2_9/shape_and_slices',\n",
       " 'save/RestoreV2_9',\n",
       " 'save/Assign_9',\n",
       " 'save/RestoreV2_10/tensor_names',\n",
       " 'save/RestoreV2_10/shape_and_slices',\n",
       " 'save/RestoreV2_10',\n",
       " 'save/Assign_10',\n",
       " 'save/RestoreV2_11/tensor_names',\n",
       " 'save/RestoreV2_11/shape_and_slices',\n",
       " 'save/RestoreV2_11',\n",
       " 'save/Assign_11',\n",
       " 'save/RestoreV2_12/tensor_names',\n",
       " 'save/RestoreV2_12/shape_and_slices',\n",
       " 'save/RestoreV2_12',\n",
       " 'save/Assign_12',\n",
       " 'save/RestoreV2_13/tensor_names',\n",
       " 'save/RestoreV2_13/shape_and_slices',\n",
       " 'save/RestoreV2_13',\n",
       " 'save/Assign_13',\n",
       " 'save/RestoreV2_14/tensor_names',\n",
       " 'save/RestoreV2_14/shape_and_slices',\n",
       " 'save/RestoreV2_14',\n",
       " 'save/Assign_14',\n",
       " 'save/RestoreV2_15/tensor_names',\n",
       " 'save/RestoreV2_15/shape_and_slices',\n",
       " 'save/RestoreV2_15',\n",
       " 'save/Assign_15',\n",
       " 'save/RestoreV2_16/tensor_names',\n",
       " 'save/RestoreV2_16/shape_and_slices',\n",
       " 'save/RestoreV2_16',\n",
       " 'save/Assign_16',\n",
       " 'save/RestoreV2_17/tensor_names',\n",
       " 'save/RestoreV2_17/shape_and_slices',\n",
       " 'save/RestoreV2_17',\n",
       " 'save/Assign_17',\n",
       " 'save/RestoreV2_18/tensor_names',\n",
       " 'save/RestoreV2_18/shape_and_slices',\n",
       " 'save/RestoreV2_18',\n",
       " 'save/Assign_18',\n",
       " 'save/RestoreV2_19/tensor_names',\n",
       " 'save/RestoreV2_19/shape_and_slices',\n",
       " 'save/RestoreV2_19',\n",
       " 'save/Assign_19',\n",
       " 'save/RestoreV2_20/tensor_names',\n",
       " 'save/RestoreV2_20/shape_and_slices',\n",
       " 'save/RestoreV2_20',\n",
       " 'save/Assign_20',\n",
       " 'save/RestoreV2_21/tensor_names',\n",
       " 'save/RestoreV2_21/shape_and_slices',\n",
       " 'save/RestoreV2_21',\n",
       " 'save/Assign_21',\n",
       " 'save/restore_all']"
      ]
     },
     "execution_count": 24,
     "metadata": {},
     "output_type": "execute_result"
    }
   ],
   "source": [
    "[n.name for n in tf.get_default_graph().as_graph_def().node]"
   ]
  },
  {
   "cell_type": "code",
   "execution_count": 34,
   "metadata": {
    "collapsed": false
   },
   "outputs": [
    {
     "name": "stdout",
     "output_type": "stream",
     "text": [
      "[-0.04327706  0.10378996  0.15576044 -0.10679744  0.03725898  0.02170954\n",
      " -0.15367696  0.15149818 -0.07106207  0.07409309]\n",
      "[-0.05084438  0.00514666 -0.05015267  0.06133039 -0.00184576  0.02939141\n",
      "  0.06201126 -0.06127528 -0.05732324  0.02453694]\n"
     ]
    }
   ],
   "source": [
    "conv1_kernel = sess.graph.get_tensor_by_name('conv1/kernel:0')[0][0][0][0:10]\n",
    "conv2_kernel = sess.graph.get_tensor_by_name('conv2/kernel:0')[0][0][0][0:10]\n",
    "print(sess.run(conv1_kernel))\n",
    "print(sess.run(conv2_kernel))"
   ]
  },
  {
   "cell_type": "code",
   "execution_count": 35,
   "metadata": {
    "collapsed": false
   },
   "outputs": [
    {
     "data": {
      "text/plain": [
       "[<tf.Variable 'conv2/kernel:0' shape=(3, 3, 32, 64) dtype=float32_ref>,\n",
       " <tf.Variable 'conv2/bias:0' shape=(64,) dtype=float32_ref>,\n",
       " <tf.Variable 'dense/kernel:0' shape=(3136, 1024) dtype=float32_ref>,\n",
       " <tf.Variable 'dense/bias:0' shape=(1024,) dtype=float32_ref>,\n",
       " <tf.Variable 'dense_1/kernel:0' shape=(1024, 10) dtype=float32_ref>,\n",
       " <tf.Variable 'dense_1/bias:0' shape=(10,) dtype=float32_ref>]"
      ]
     },
     "execution_count": 35,
     "metadata": {},
     "output_type": "execute_result"
    }
   ],
   "source": [
    "tf.trainable_variables()"
   ]
  },
  {
   "cell_type": "code",
   "execution_count": 36,
   "metadata": {
    "collapsed": false
   },
   "outputs": [
    {
     "name": "stdout",
     "output_type": "stream",
     "text": [
      "step 0, training accuracy : 0.97\n",
      "[-0.04327706  0.10378996  0.15576044 -0.10679744  0.03725898  0.02170954\n",
      " -0.15367696  0.15149818 -0.07106207  0.07409309]\n",
      "[-0.05084438  0.00514666 -0.05015267  0.06133039 -0.00184576  0.02939141\n",
      "  0.06201126 -0.06127528 -0.05732324  0.02453694]\n",
      "step 100, training accuracy : 0.99\n",
      "[-0.04327706  0.10378996  0.15576044 -0.10679744  0.03725898  0.02170954\n",
      " -0.15367696  0.15149818 -0.07106207  0.07409309]\n",
      "[-0.0509394   0.00455901 -0.04979987  0.06091654 -0.00128749  0.02936536\n",
      "  0.06205282 -0.06180337 -0.05735058  0.02536311]\n",
      "step 200, training accuracy : 0.98\n",
      "[-0.04327706  0.10378996  0.15576044 -0.10679744  0.03725898  0.02170954\n",
      " -0.15367696  0.15149818 -0.07106207  0.07409309]\n",
      "[-0.05068157  0.00436091 -0.05033682  0.06034876 -0.00168623  0.02882719\n",
      "  0.06253471 -0.06262124 -0.05709907  0.02539417]\n",
      "step 300, training accuracy : 0.97\n",
      "[-0.04327706  0.10378996  0.15576044 -0.10679744  0.03725898  0.02170954\n",
      " -0.15367696  0.15149818 -0.07106207  0.07409309]\n",
      "[-0.05122371  0.0045428  -0.05011683  0.06034821 -0.00112854  0.02840895\n",
      "  0.06237049 -0.06359259 -0.05682509  0.02583248]\n",
      "step 400, training accuracy : 0.97\n",
      "[-0.04327706  0.10378996  0.15576044 -0.10679744  0.03725898  0.02170954\n",
      " -0.15367696  0.15149818 -0.07106207  0.07409309]\n",
      "[-0.05112521  0.00482092 -0.05050064  0.06049098 -0.00153419  0.02872212\n",
      "  0.06318423 -0.06458498 -0.05733803  0.02629098]\n",
      "step 500, training accuracy : 0.99\n",
      "[-0.04327706  0.10378996  0.15576044 -0.10679744  0.03725898  0.02170954\n",
      " -0.15367696  0.15149818 -0.07106207  0.07409309]\n",
      "[-0.05182078  0.00421228 -0.0506731   0.05967463 -0.00183544  0.02881231\n",
      "  0.06297974 -0.06475676 -0.05764531  0.02600151]\n",
      "step 600, training accuracy : 0.97\n",
      "[-0.04327706  0.10378996  0.15576044 -0.10679744  0.03725898  0.02170954\n",
      " -0.15367696  0.15149818 -0.07106207  0.07409309]\n",
      "[-0.05197146  0.00480151 -0.05095332  0.06006403 -0.00207816  0.02916963\n",
      "  0.06366735 -0.06476457 -0.05835484  0.02644905]\n",
      "step 700, training accuracy : 0.99\n",
      "[-0.04327706  0.10378996  0.15576044 -0.10679744  0.03725898  0.02170954\n",
      " -0.15367696  0.15149818 -0.07106207  0.07409309]\n",
      "[-0.05279965  0.00483752 -0.05064872  0.05975911 -0.00225222  0.02883258\n",
      "  0.06377041 -0.06475337 -0.058656    0.02612086]\n",
      "step 800, training accuracy : 0.98\n",
      "[-0.04327706  0.10378996  0.15576044 -0.10679744  0.03725898  0.02170954\n",
      " -0.15367696  0.15149818 -0.07106207  0.07409309]\n",
      "[-0.05252678  0.00348982 -0.05053148  0.0587108  -0.00202792  0.02834853\n",
      "  0.06362873 -0.06551699 -0.05853273  0.02665395]\n",
      "step 900, training accuracy : 0.98\n",
      "[-0.04327706  0.10378996  0.15576044 -0.10679744  0.03725898  0.02170954\n",
      " -0.15367696  0.15149818 -0.07106207  0.07409309]\n",
      "[-0.05193456  0.00383741 -0.05064491  0.05913966 -0.00188563  0.02896347\n",
      "  0.06406866 -0.0663615  -0.05839329  0.02659889]\n",
      "===최종학습 결과===\n",
      "test accuracy : 0.9841\n"
     ]
    },
    {
     "data": {
      "text/plain": [
       "'mnist_ckpt/part-layers-model'"
      ]
     },
     "execution_count": 36,
     "metadata": {},
     "output_type": "execute_result"
    }
   ],
   "source": [
    "for i in range(1000):\n",
    "    batch = mnist.train.next_batch(100) # 100 개씩 랜덤하게 픽해서 가져와 학습\n",
    "    if i % 100 == 0:\n",
    "        train_accuracy = sess.run(accuracy, feed_dict={x:batch[0], y_answer:batch[1]})\n",
    "        print(\"step %d, training accuracy : %g\" % (i, train_accuracy))\n",
    "        print(sess.run(conv1_kernel))\n",
    "        print(sess.run(conv2_kernel))\n",
    "        saver.save(sess, 'mnist_ckpt/part-layers-model', global_step=i, write_meta_graph=False)\n",
    "    sess.run(train_step, feed_dict={x:batch[0], y_answer:batch[1]})\n",
    "\n",
    "print(\"===최종학습 결과===\")\n",
    "print(\"test accuracy : %g\" % sess.run(accuracy, feed_dict={x:mnist.test.images, y_answer:mnist.test.labels}))\n",
    "saver.save(sess, 'mnist_ckpt/part-layers-model')"
   ]
  },
  {
   "cell_type": "code",
   "execution_count": null,
   "metadata": {
    "collapsed": true
   },
   "outputs": [],
   "source": []
  }
 ],
 "metadata": {
  "kernelspec": {
   "display_name": "Python 3",
   "language": "python",
   "name": "python3"
  },
  "language_info": {
   "codemirror_mode": {
    "name": "ipython",
    "version": 3
   },
   "file_extension": ".py",
   "mimetype": "text/x-python",
   "name": "python",
   "nbconvert_exporter": "python",
   "pygments_lexer": "ipython3",
   "version": "3.5.3"
  }
 },
 "nbformat": 4,
 "nbformat_minor": 2
}
