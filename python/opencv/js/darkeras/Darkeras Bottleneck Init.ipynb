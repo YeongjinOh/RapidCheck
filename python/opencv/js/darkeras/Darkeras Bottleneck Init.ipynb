{
 "cells": [
  {
   "cell_type": "code",
   "execution_count": 1,
   "metadata": {
    "collapsed": false
   },
   "outputs": [
    {
     "name": "stderr",
     "output_type": "stream",
     "text": [
      "Using TensorFlow backend.\n"
     ]
    }
   ],
   "source": [
    "import os\n",
    "import glob\n",
    "import h5py\n",
    "import numpy as np\n",
    "import cv2\n",
    "import matplotlib.pyplot as plt\n",
    "%matplotlib inline\n",
    "from keras import backend as K\n",
    "\n",
    "import keras\n",
    "from keras.models import Sequential\n",
    "from keras.layers.convolutional import Conv2D, MaxPooling2D\n",
    "from keras.layers.advanced_activations import LeakyReLU\n",
    "from keras.layers.core import Flatten, Dense, Activation, Reshape\n",
    "\n",
    "import tensorflow as tf\n",
    "import yolo.config as cfg\n",
    "from utils.help import say"
   ]
  },
  {
   "cell_type": "code",
   "execution_count": 2,
   "metadata": {
    "collapsed": true
   },
   "outputs": [],
   "source": [
    "sess = tf.Session()\n",
    "K.set_session(sess)\n",
    "\n",
    "K.set_image_dim_ordering('th')\n",
    "weights_path = 'yolo-tiny-origin.h5'\n",
    "is_freeze = True\n",
    "verbalise = True"
   ]
  },
  {
   "cell_type": "code",
   "execution_count": 3,
   "metadata": {
    "collapsed": true
   },
   "outputs": [],
   "source": [
    "def make_yolotiny_network(is_freeze=True):\n",
    "    model = Sequential()\n",
    "    model.add(Conv2D(16, (3, 3), input_shape=(3,448,448),padding='same', \n",
    "                            activation=LeakyReLU(alpha=0.1), trainable=not is_freeze))\n",
    "    model.add(MaxPooling2D(pool_size=(2, 2)))\n",
    "    model.add(Conv2D(32,(3,3), padding='same', \n",
    "                            activation=LeakyReLU(alpha=0.1), trainable=not is_freeze))\n",
    "    model.add(MaxPooling2D(pool_size=(2, 2),padding='valid'))\n",
    "    model.add(Conv2D(64,(3,3), padding='same', \n",
    "                            activation=LeakyReLU(alpha=0.1), trainable=not is_freeze))\n",
    "    model.add(MaxPooling2D(pool_size=(2, 2),padding='valid'))\n",
    "    model.add(Conv2D(128,(3,3), padding='same', \n",
    "                            activation=LeakyReLU(alpha=0.1), trainable=not is_freeze))\n",
    "    model.add(MaxPooling2D(pool_size=(2, 2),padding='valid'))\n",
    "    model.add(Conv2D(256,(3,3), padding='same', \n",
    "                            activation=LeakyReLU(alpha=0.1), trainable=not is_freeze))\n",
    "    model.add(MaxPooling2D(pool_size=(2, 2),padding='valid'))\n",
    "    model.add(Conv2D(512,(3,3), padding='same', \n",
    "                            activation=LeakyReLU(alpha=0.1), trainable=not is_freeze))\n",
    "    model.add(MaxPooling2D(pool_size=(2, 2),padding='valid'))\n",
    "    model.add(Conv2D(1024,(3,3), padding='same', activation=LeakyReLU(alpha=0.1), trainable=not is_freeze))\n",
    "    model.add(Conv2D(1024,(3,3), padding='same', activation=LeakyReLU(alpha=0.1), trainable=not is_freeze))\n",
    "    model.add(Conv2D(1024,(3,3), padding='same', activation=LeakyReLU(alpha=0.1), trainable=not is_freeze))\n",
    "    model.add(Flatten())\n",
    "    model.add(Dense(256))\n",
    "    model.add(Dense(4096))\n",
    "    model.add(LeakyReLU(alpha=0.1))\n",
    "    model.add(Dense(1470))\n",
    "    \n",
    "    return model"
   ]
  },
  {
   "cell_type": "code",
   "execution_count": 4,
   "metadata": {
    "collapsed": false
   },
   "outputs": [],
   "source": [
    "def make_bottleneck_network(model):\n",
    "    model.add(Dense(256, input_shape=model.output_shape, \n",
    "                    kernel_initializer='random_uniform',\n",
    "                    bias_initializer='zeros'))\n",
    "    model.add(Dense(4096,\n",
    "                    kernel_initializer='random_uniform',\n",
    "                    bias_initializer='zeros'))\n",
    "    model.add(LeakyReLU(alpha=0.1))\n",
    "    model.add(Dense(1470,\n",
    "                    kernel_initializer='random_uniform',\n",
    "                    bias_initializer='zeros'))\n",
    "    \n",
    "    return model"
   ]
  },
  {
   "cell_type": "code",
   "execution_count": 5,
   "metadata": {
    "collapsed": false
   },
   "outputs": [
    {
     "name": "stdout",
     "output_type": "stream",
     "text": [
      "_________________________________________________________________\n",
      "Layer (type)                 Output Shape              Param #   \n",
      "=================================================================\n",
      "conv2d_1 (Conv2D)            (None, 16, 448, 448)      448       \n",
      "_________________________________________________________________\n",
      "max_pooling2d_1 (MaxPooling2 (None, 16, 224, 224)      0         \n",
      "_________________________________________________________________\n",
      "conv2d_2 (Conv2D)            (None, 32, 224, 224)      4640      \n",
      "_________________________________________________________________\n",
      "max_pooling2d_2 (MaxPooling2 (None, 32, 112, 112)      0         \n",
      "_________________________________________________________________\n",
      "conv2d_3 (Conv2D)            (None, 64, 112, 112)      18496     \n",
      "_________________________________________________________________\n",
      "max_pooling2d_3 (MaxPooling2 (None, 64, 56, 56)        0         \n",
      "_________________________________________________________________\n",
      "conv2d_4 (Conv2D)            (None, 128, 56, 56)       73856     \n",
      "_________________________________________________________________\n",
      "max_pooling2d_4 (MaxPooling2 (None, 128, 28, 28)       0         \n",
      "_________________________________________________________________\n",
      "conv2d_5 (Conv2D)            (None, 256, 28, 28)       295168    \n",
      "_________________________________________________________________\n",
      "max_pooling2d_5 (MaxPooling2 (None, 256, 14, 14)       0         \n",
      "_________________________________________________________________\n",
      "conv2d_6 (Conv2D)            (None, 512, 14, 14)       1180160   \n",
      "_________________________________________________________________\n",
      "max_pooling2d_6 (MaxPooling2 (None, 512, 7, 7)         0         \n",
      "_________________________________________________________________\n",
      "conv2d_7 (Conv2D)            (None, 1024, 7, 7)        4719616   \n",
      "_________________________________________________________________\n",
      "conv2d_8 (Conv2D)            (None, 1024, 7, 7)        9438208   \n",
      "_________________________________________________________________\n",
      "conv2d_9 (Conv2D)            (None, 1024, 7, 7)        9438208   \n",
      "_________________________________________________________________\n",
      "flatten_1 (Flatten)          (None, 50176)             0         \n",
      "_________________________________________________________________\n",
      "dense_1 (Dense)              (None, 256)               12845312  \n",
      "_________________________________________________________________\n",
      "dense_2 (Dense)              (None, 4096)              1052672   \n",
      "_________________________________________________________________\n",
      "leaky_re_lu_10 (LeakyReLU)   (None, 4096)              0         \n",
      "_________________________________________________________________\n",
      "dense_3 (Dense)              (None, 1470)              6022590   \n",
      "=================================================================\n",
      "Total params: 45,089,374\n",
      "Trainable params: 19,920,574\n",
      "Non-trainable params: 25,168,800\n",
      "_________________________________________________________________\n"
     ]
    }
   ],
   "source": [
    "model = make_yolotiny_network()\n",
    "model.summary()"
   ]
  },
  {
   "cell_type": "code",
   "execution_count": 6,
   "metadata": {
    "collapsed": false
   },
   "outputs": [],
   "source": [
    "from yolo.training_v1 import darkeras_loss, _TRAINER\n",
    "from yolo.datacenter.data import shuffle"
   ]
  },
  {
   "cell_type": "markdown",
   "metadata": {},
   "source": [
    "### 처음에는 랜덤 이니셜라이즈가 된걸로 보임"
   ]
  },
  {
   "cell_type": "code",
   "execution_count": 7,
   "metadata": {
    "collapsed": false
   },
   "outputs": [
    {
     "name": "stdout",
     "output_type": "stream",
     "text": [
      "conv1 : \n",
      "[-0.17770042 -0.09734315  0.04980351  0.08971766  0.03622699  0.03267483\n",
      "  0.02295871  0.12204838 -0.00864786  0.10797963 -0.12393852 -0.08594502\n",
      "  0.12667552  0.06479004  0.1661678   0.1166352 ]\n",
      "danse last : \n",
      "[-0.02657805  0.02436714  0.00917208  0.01819196 -0.01418575 -0.00403487\n",
      "  0.00861444 -0.01984378 -0.02592226  0.02687271]\n"
     ]
    }
   ],
   "source": [
    "sess.run(tf.global_variables_initializer())\n",
    "\n",
    "inp_x = model.input\n",
    "net_out = model.output\n",
    "\n",
    "conv1 = model.layers[0]\n",
    "dense_last = model.layers[-1]\n",
    "print(\"conv1 : \")\n",
    "print(sess.run(conv1.weights[0])[0][0][0])\n",
    "print(\"danse last : \")\n",
    "print(sess.run(dense_last.weights[0])[0][0:10])"
   ]
  },
  {
   "cell_type": "markdown",
   "metadata": {},
   "source": [
    "### 강제로 global initializer 를 시키면?"
   ]
  },
  {
   "cell_type": "code",
   "execution_count": 8,
   "metadata": {
    "collapsed": false
   },
   "outputs": [
    {
     "data": {
      "text/plain": [
       "[<tf.Variable 'dense_1/kernel:0' shape=(50176, 256) dtype=float32_ref>,\n",
       " <tf.Variable 'dense_1/bias:0' shape=(256,) dtype=float32_ref>,\n",
       " <tf.Variable 'dense_2/kernel:0' shape=(256, 4096) dtype=float32_ref>,\n",
       " <tf.Variable 'dense_2/bias:0' shape=(4096,) dtype=float32_ref>,\n",
       " <tf.Variable 'dense_3/kernel:0' shape=(4096, 1470) dtype=float32_ref>,\n",
       " <tf.Variable 'dense_3/bias:0' shape=(1470,) dtype=float32_ref>]"
      ]
     },
     "execution_count": 8,
     "metadata": {},
     "output_type": "execute_result"
    }
   ],
   "source": [
    "model.trainable_weights"
   ]
  },
  {
   "cell_type": "code",
   "execution_count": 9,
   "metadata": {
    "collapsed": false
   },
   "outputs": [
    {
     "name": "stdout",
     "output_type": "stream",
     "text": [
      "['Building yolo-tiny loss function']\n",
      "Building yolo-tiny loss\n",
      "['Building yolo-tiny train optimizer']\n",
      "conv1 : \n",
      "[-0.1152859   0.1666998  -0.12276138  0.11065465 -0.18027841 -0.1055052\n",
      "  0.08193085 -0.01095307  0.0993349  -0.08545657  0.08402526  0.02083692\n",
      "  0.16605207  0.11977512 -0.11258174  0.09514982]\n",
      "danse last : \n",
      "[ 0.00687876  0.01418922 -0.02760005  0.01720214 -0.020932    0.00023801\n",
      "  0.02182424  0.02264647 -0.00902974 -0.01353666]\n"
     ]
    }
   ],
   "source": [
    "inp_x = model.input\n",
    "net_out = model.output\n",
    "\n",
    "\n",
    "say(\"Building {} loss function\".format(cfg.model_name), verbalise=verbalise)\n",
    "loss_ph, loss_op = darkeras_loss(net_out)\n",
    "say(\"Building {} train optimizer\".format(cfg.model_name), verbalise=verbalise)\n",
    "optimizer = _TRAINER[cfg.trainer](cfg.lr)\n",
    "gradients = optimizer.compute_gradients(loss_op, var_list=model.trainable_weights)\n",
    "train_op = optimizer.apply_gradients(gradients)\n",
    "\n",
    "sess.run(tf.global_variables_initializer())\n",
    "\n",
    "conv1 = model.layers[0]\n",
    "dense_last = model.layers[-1]\n",
    "print(\"conv1 : \")\n",
    "print(sess.run(conv1.weights[0])[0][0][0])\n",
    "print(\"danse last : \")\n",
    "print(sess.run(dense_last.weights[0])[0][0:10])"
   ]
  },
  {
   "cell_type": "code",
   "execution_count": 10,
   "metadata": {
    "collapsed": false
   },
   "outputs": [
    {
     "name": "stdout",
     "output_type": "stream",
     "text": [
      "['Setting weigths : {}', 'yolo-tiny-origin.h5']\n",
      "['None layer poped']\n",
      "['None layer poped']\n",
      "['None layer poped']\n",
      "['None layer poped']\n",
      "_________________________________________________________________\n",
      "Layer (type)                 Output Shape              Param #   \n",
      "=================================================================\n",
      "conv2d_1 (Conv2D)            (None, 16, 448, 448)      448       \n",
      "_________________________________________________________________\n",
      "max_pooling2d_1 (MaxPooling2 (None, 16, 224, 224)      0         \n",
      "_________________________________________________________________\n",
      "conv2d_2 (Conv2D)            (None, 32, 224, 224)      4640      \n",
      "_________________________________________________________________\n",
      "max_pooling2d_2 (MaxPooling2 (None, 32, 112, 112)      0         \n",
      "_________________________________________________________________\n",
      "conv2d_3 (Conv2D)            (None, 64, 112, 112)      18496     \n",
      "_________________________________________________________________\n",
      "max_pooling2d_3 (MaxPooling2 (None, 64, 56, 56)        0         \n",
      "_________________________________________________________________\n",
      "conv2d_4 (Conv2D)            (None, 128, 56, 56)       73856     \n",
      "_________________________________________________________________\n",
      "max_pooling2d_4 (MaxPooling2 (None, 128, 28, 28)       0         \n",
      "_________________________________________________________________\n",
      "conv2d_5 (Conv2D)            (None, 256, 28, 28)       295168    \n",
      "_________________________________________________________________\n",
      "max_pooling2d_5 (MaxPooling2 (None, 256, 14, 14)       0         \n",
      "_________________________________________________________________\n",
      "conv2d_6 (Conv2D)            (None, 512, 14, 14)       1180160   \n",
      "_________________________________________________________________\n",
      "max_pooling2d_6 (MaxPooling2 (None, 512, 7, 7)         0         \n",
      "_________________________________________________________________\n",
      "conv2d_7 (Conv2D)            (None, 1024, 7, 7)        4719616   \n",
      "_________________________________________________________________\n",
      "conv2d_8 (Conv2D)            (None, 1024, 7, 7)        9438208   \n",
      "_________________________________________________________________\n",
      "conv2d_9 (Conv2D)            (None, 1024, 7, 7)        9438208   \n",
      "_________________________________________________________________\n",
      "flatten_1 (Flatten)          (None, 50176)             0         \n",
      "=================================================================\n",
      "Total params: 25,168,800\n",
      "Trainable params: 0\n",
      "Non-trainable params: 25,168,800\n",
      "_________________________________________________________________\n",
      "(None, 50176)\n"
     ]
    }
   ],
   "source": [
    "model.load_weights(weights_path)\n",
    "say(\"Setting weigths : {}\",format(weights_path), verbalise=verbalise)\n",
    "\n",
    "pop_layer = model.pop() # dense_25\n",
    "say(\"{} layer poped\".format(pop_layer), verbalise=verbalise)\n",
    "pop_layer = model.pop() # leakyrelu_34\n",
    "say(\"{} layer poped\".format(pop_layer), verbalise=verbalise)\n",
    "pop_layer = model.pop() # dense_24\n",
    "say(\"{} layer poped\".format(pop_layer), verbalise=verbalise)\n",
    "pop_layer = model.pop() # dense 23\n",
    "say(\"{} layer poped\".format(pop_layer), verbalise=verbalise)\n",
    "\n",
    "model.summary()\n",
    "print(model.output_shape)"
   ]
  },
  {
   "cell_type": "code",
   "execution_count": 11,
   "metadata": {
    "collapsed": false
   },
   "outputs": [
    {
     "name": "stdout",
     "output_type": "stream",
     "text": [
      "_________________________________________________________________\n",
      "Layer (type)                 Output Shape              Param #   \n",
      "=================================================================\n",
      "conv2d_1 (Conv2D)            (None, 16, 448, 448)      448       \n",
      "_________________________________________________________________\n",
      "max_pooling2d_1 (MaxPooling2 (None, 16, 224, 224)      0         \n",
      "_________________________________________________________________\n",
      "conv2d_2 (Conv2D)            (None, 32, 224, 224)      4640      \n",
      "_________________________________________________________________\n",
      "max_pooling2d_2 (MaxPooling2 (None, 32, 112, 112)      0         \n",
      "_________________________________________________________________\n",
      "conv2d_3 (Conv2D)            (None, 64, 112, 112)      18496     \n",
      "_________________________________________________________________\n",
      "max_pooling2d_3 (MaxPooling2 (None, 64, 56, 56)        0         \n",
      "_________________________________________________________________\n",
      "conv2d_4 (Conv2D)            (None, 128, 56, 56)       73856     \n",
      "_________________________________________________________________\n",
      "max_pooling2d_4 (MaxPooling2 (None, 128, 28, 28)       0         \n",
      "_________________________________________________________________\n",
      "conv2d_5 (Conv2D)            (None, 256, 28, 28)       295168    \n",
      "_________________________________________________________________\n",
      "max_pooling2d_5 (MaxPooling2 (None, 256, 14, 14)       0         \n",
      "_________________________________________________________________\n",
      "conv2d_6 (Conv2D)            (None, 512, 14, 14)       1180160   \n",
      "_________________________________________________________________\n",
      "max_pooling2d_6 (MaxPooling2 (None, 512, 7, 7)         0         \n",
      "_________________________________________________________________\n",
      "conv2d_7 (Conv2D)            (None, 1024, 7, 7)        4719616   \n",
      "_________________________________________________________________\n",
      "conv2d_8 (Conv2D)            (None, 1024, 7, 7)        9438208   \n",
      "_________________________________________________________________\n",
      "conv2d_9 (Conv2D)            (None, 1024, 7, 7)        9438208   \n",
      "_________________________________________________________________\n",
      "flatten_1 (Flatten)          (None, 50176)             0         \n",
      "_________________________________________________________________\n",
      "dense_4 (Dense)              (None, 256)               12845312  \n",
      "_________________________________________________________________\n",
      "dense_5 (Dense)              (None, 4096)              1052672   \n",
      "_________________________________________________________________\n",
      "leaky_re_lu_11 (LeakyReLU)   (None, 4096)              0         \n",
      "_________________________________________________________________\n",
      "dense_6 (Dense)              (None, 1470)              6022590   \n",
      "=================================================================\n",
      "Total params: 45,089,374\n",
      "Trainable params: 19,920,574\n",
      "Non-trainable params: 25,168,800\n",
      "_________________________________________________________________\n"
     ]
    }
   ],
   "source": [
    "model = make_bottleneck_network(model)\n",
    "model.summary()"
   ]
  },
  {
   "cell_type": "code",
   "execution_count": 12,
   "metadata": {
    "collapsed": false
   },
   "outputs": [
    {
     "data": {
      "text/plain": [
       "[<tf.Variable 'dense_4/kernel:0' shape=(50176, 256) dtype=float32_ref>,\n",
       " <tf.Variable 'dense_4/bias:0' shape=(256,) dtype=float32_ref>,\n",
       " <tf.Variable 'dense_5/kernel:0' shape=(256, 4096) dtype=float32_ref>,\n",
       " <tf.Variable 'dense_5/bias:0' shape=(4096,) dtype=float32_ref>,\n",
       " <tf.Variable 'dense_6/kernel:0' shape=(4096, 1470) dtype=float32_ref>,\n",
       " <tf.Variable 'dense_6/bias:0' shape=(1470,) dtype=float32_ref>]"
      ]
     },
     "execution_count": 12,
     "metadata": {},
     "output_type": "execute_result"
    }
   ],
   "source": [
    "model.trainable_weights"
   ]
  },
  {
   "cell_type": "code",
   "execution_count": null,
   "metadata": {
    "collapsed": false
   },
   "outputs": [],
   "source": [
    "# sess.run(tf.local_variables_initializer(model.trainable_weights))"
   ]
  },
  {
   "cell_type": "code",
   "execution_count": 17,
   "metadata": {
    "collapsed": false,
    "scrolled": true
   },
   "outputs": [
    {
     "name": "stdout",
     "output_type": "stream",
     "text": [
      "Dataset of 9963 instance(s)\n",
      "shuffle index :  [2272 1244   83 ..., 6689 4642 6164]\n",
      "['step 0 - loss 2.8707242012023926']\n",
      "['Save weights : ', 'layerfreeze-epoch0.h5']\n",
      "['step 1 - loss 2.407315731048584']\n",
      "conv1 :  [[[[ True  True  True  True  True  True  True  True  True  True  True  True\n",
      "     True  True  True  True]\n",
      "   [ True  True  True  True  True  True  True  True  True  True  True  True\n",
      "     True  True  True  True]\n",
      "   [ True  True  True  True  True  True  True  True  True  True  True  True\n",
      "     True  True  True  True]]\n",
      "\n",
      "  [[ True  True  True  True  True  True  True  True  True  True  True  True\n",
      "     True  True  True  True]\n",
      "   [ True  True  True  True  True  True  True  True  True  True  True  True\n",
      "     True  True  True  True]\n",
      "   [ True  True  True  True  True  True  True  True  True  True  True  True\n",
      "     True  True  True  True]]\n",
      "\n",
      "  [[ True  True  True  True  True  True  True  True  True  True  True  True\n",
      "     True  True  True  True]\n",
      "   [ True  True  True  True  True  True  True  True  True  True  True  True\n",
      "     True  True  True  True]\n",
      "   [ True  True  True  True  True  True  True  True  True  True  True  True\n",
      "     True  True  True  True]]]\n",
      "\n",
      "\n",
      " [[[ True  True  True  True  True  True  True  True  True  True  True  True\n",
      "     True  True  True  True]\n",
      "   [ True  True  True  True  True  True  True  True  True  True  True  True\n",
      "     True  True  True  True]\n",
      "   [ True  True  True  True  True  True  True  True  True  True  True  True\n",
      "     True  True  True  True]]\n",
      "\n",
      "  [[ True  True  True  True  True  True  True  True  True  True  True  True\n",
      "     True  True  True  True]\n",
      "   [ True  True  True  True  True  True  True  True  True  True  True  True\n",
      "     True  True  True  True]\n",
      "   [ True  True  True  True  True  True  True  True  True  True  True  True\n",
      "     True  True  True  True]]\n",
      "\n",
      "  [[ True  True  True  True  True  True  True  True  True  True  True  True\n",
      "     True  True  True  True]\n",
      "   [ True  True  True  True  True  True  True  True  True  True  True  True\n",
      "     True  True  True  True]\n",
      "   [ True  True  True  True  True  True  True  True  True  True  True  True\n",
      "     True  True  True  True]]]\n",
      "\n",
      "\n",
      " [[[ True  True  True  True  True  True  True  True  True  True  True  True\n",
      "     True  True  True  True]\n",
      "   [ True  True  True  True  True  True  True  True  True  True  True  True\n",
      "     True  True  True  True]\n",
      "   [ True  True  True  True  True  True  True  True  True  True  True  True\n",
      "     True  True  True  True]]\n",
      "\n",
      "  [[ True  True  True  True  True  True  True  True  True  True  True  True\n",
      "     True  True  True  True]\n",
      "   [ True  True  True  True  True  True  True  True  True  True  True  True\n",
      "     True  True  True  True]\n",
      "   [ True  True  True  True  True  True  True  True  True  True  True  True\n",
      "     True  True  True  True]]\n",
      "\n",
      "  [[ True  True  True  True  True  True  True  True  True  True  True  True\n",
      "     True  True  True  True]\n",
      "   [ True  True  True  True  True  True  True  True  True  True  True  True\n",
      "     True  True  True  True]\n",
      "   [ True  True  True  True  True  True  True  True  True  True  True  True\n",
      "     True  True  True  True]]]]\n"
     ]
    },
    {
     "ename": "AttributeError",
     "evalue": "'NoneType' object has no attribute 'all'",
     "output_type": "error",
     "traceback": [
      "\u001b[1;31m---------------------------------------------------------------------------\u001b[0m",
      "\u001b[1;31mAttributeError\u001b[0m                            Traceback (most recent call last)",
      "\u001b[1;32m<ipython-input-17-08e2fb662da9>\u001b[0m in \u001b[0;36m<module>\u001b[1;34m()\u001b[0m\n\u001b[0;32m     21\u001b[0m         \u001b[0mtrainable_layer_weights\u001b[0m \u001b[1;33m=\u001b[0m \u001b[0msess\u001b[0m\u001b[1;33m.\u001b[0m\u001b[0mrun\u001b[0m\u001b[1;33m(\u001b[0m\u001b[0mdense_last\u001b[0m\u001b[1;33m.\u001b[0m\u001b[0mweights\u001b[0m\u001b[1;33m[\u001b[0m\u001b[1;36m0\u001b[0m\u001b[1;33m]\u001b[0m\u001b[1;33m)\u001b[0m\u001b[1;33m\u001b[0m\u001b[0m\n\u001b[0;32m     22\u001b[0m     \u001b[1;32melse\u001b[0m\u001b[1;33m:\u001b[0m\u001b[1;33m\u001b[0m\u001b[0m\n\u001b[1;32m---> 23\u001b[1;33m         \u001b[0mprint\u001b[0m\u001b[1;33m(\u001b[0m\u001b[1;34m\"conv1 : \"\u001b[0m\u001b[1;33m,\u001b[0m \u001b[0mfreeze_layer_weights\u001b[0m \u001b[1;33m==\u001b[0m \u001b[0msess\u001b[0m\u001b[1;33m.\u001b[0m\u001b[0mrun\u001b[0m\u001b[1;33m(\u001b[0m\u001b[0mconv1\u001b[0m\u001b[1;33m.\u001b[0m\u001b[0mweights\u001b[0m\u001b[1;33m[\u001b[0m\u001b[1;36m0\u001b[0m\u001b[1;33m]\u001b[0m\u001b[1;33m)\u001b[0m\u001b[1;33m)\u001b[0m\u001b[1;33m.\u001b[0m\u001b[0mall\u001b[0m\u001b[1;33m(\u001b[0m\u001b[1;33m)\u001b[0m\u001b[1;33m\u001b[0m\u001b[0m\n\u001b[0m\u001b[0;32m     24\u001b[0m         \u001b[1;31m# print(sess.run(conv1.weights[0])[0][0][0])\u001b[0m\u001b[1;33m\u001b[0m\u001b[1;33m\u001b[0m\u001b[0m\n\u001b[0;32m     25\u001b[0m         \u001b[0mprint\u001b[0m\u001b[1;33m(\u001b[0m\u001b[1;34m\"danse last : \"\u001b[0m\u001b[1;33m,\u001b[0m \u001b[0mdense_last\u001b[0m\u001b[1;33m.\u001b[0m\u001b[0mname\u001b[0m\u001b[1;33m,\u001b[0m \u001b[0mtrainable_layer_weights\u001b[0m \u001b[1;33m==\u001b[0m \u001b[0msess\u001b[0m\u001b[1;33m.\u001b[0m\u001b[0mrun\u001b[0m\u001b[1;33m(\u001b[0m\u001b[0mdense_last\u001b[0m\u001b[1;33m.\u001b[0m\u001b[0mweights\u001b[0m\u001b[1;33m[\u001b[0m\u001b[1;36m0\u001b[0m\u001b[1;33m]\u001b[0m\u001b[1;33m)\u001b[0m\u001b[1;33m)\u001b[0m\u001b[1;33m.\u001b[0m\u001b[0mall\u001b[0m\u001b[1;33m(\u001b[0m\u001b[1;33m)\u001b[0m\u001b[1;33m\u001b[0m\u001b[0m\n",
      "\u001b[1;31mAttributeError\u001b[0m: 'NoneType' object has no attribute 'all'"
     ]
    }
   ],
   "source": [
    "freeze_layer_weights = None\n",
    "trainable_layer_weights = None\n",
    "\n",
    "batches = shuffle()\n",
    "for i, (x_batch, datum) in enumerate(batches):\n",
    "    train_feed_dict = {\n",
    "       loss_ph[key]:datum[key] for key in loss_ph \n",
    "    }\n",
    "    train_feed_dict[inp_x] = x_batch\n",
    "    # print(\"feed_dict.keys() : \", len(train_feed_dict.keys()), train_feed_dict.keys())\n",
    "    fetches = [train_op, loss_op] \n",
    "    fetched = sess.run(fetches, feed_dict=train_feed_dict)\n",
    "    \n",
    "    loss_val = fetched[1]\n",
    "    say(\"step {} - loss {}\".format(i, loss_val), verbalise=True)\n",
    "    \n",
    "    conv1 = model.layers[0]\n",
    "    dense_last = model.layers[-1]\n",
    "    if freeze_layer_weights is None:\n",
    "        freeze_layer_weights = sess.run(conv1.weights[0])\n",
    "        trainable_layer_weights = sess.run(dense_last.weights[0])\n",
    "    else:\n",
    "        print(\"conv1 : \", freeze_layer_weights == sess.run(conv1.weights[0]))\n",
    "        # print(sess.run(conv1.weights[0])[0][0][0])\n",
    "        print(\"danse last : \", dense_last.name, trainable_layer_weights == sess.run(dense_last.weights[0]))\n",
    "        # print(sess.run(dense_last.weights[0])[0][0:10])\n",
    "    \n",
    "    if i == 1:\n",
    "        save_step_weigths_path = 'layerfreeze-step{}.h5'.format(i)\n",
    "        model.save_weights(save_step_weigths_path)\n",
    "        print(\"Saved weigths : \", save_step_weigths_path)\n",
    "    if i % 310 == 0:\n",
    "        model.save_weights('layerfreeze-epoch{}.h5'.format(i//310))\n",
    "        say(\"Save weights : \", 'layerfreeze-epoch{}.h5'.format(i//310), verbalise=verbalise)"
   ]
  },
  {
   "cell_type": "code",
   "execution_count": null,
   "metadata": {
    "collapsed": true
   },
   "outputs": [],
   "source": [
    "sess.close()"
   ]
  },
  {
   "cell_type": "code",
   "execution_count": null,
   "metadata": {
    "collapsed": true
   },
   "outputs": [],
   "source": []
  }
 ],
 "metadata": {
  "kernelspec": {
   "display_name": "Python 3",
   "language": "python",
   "name": "python3"
  },
  "language_info": {
   "codemirror_mode": {
    "name": "ipython",
    "version": 3
   },
   "file_extension": ".py",
   "mimetype": "text/x-python",
   "name": "python",
   "nbconvert_exporter": "python",
   "pygments_lexer": "ipython3",
   "version": "3.5.3"
  }
 },
 "nbformat": 4,
 "nbformat_minor": 2
}
