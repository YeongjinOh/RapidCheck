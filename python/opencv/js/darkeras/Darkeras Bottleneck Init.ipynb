{
 "cells": [
  {
   "cell_type": "code",
   "execution_count": 1,
   "metadata": {
    "collapsed": false
   },
   "outputs": [
    {
     "name": "stderr",
     "output_type": "stream",
     "text": [
      "Using TensorFlow backend.\n"
     ]
    }
   ],
   "source": [
    "import os\n",
    "import glob\n",
    "import h5py\n",
    "import numpy as np\n",
    "import cv2\n",
    "import matplotlib.pyplot as plt\n",
    "%matplotlib inline\n",
    "from keras import backend as K\n",
    "\n",
    "import keras\n",
    "from keras.models import Sequential\n",
    "from keras.layers.convolutional import Conv2D, MaxPooling2D\n",
    "from keras.layers.advanced_activations import LeakyReLU\n",
    "from keras.layers.core import Flatten, Dense, Activation, Reshape\n",
    "\n",
    "import tensorflow as tf\n",
    "import yolo.config as cfg\n",
    "from utils.help import say"
   ]
  },
  {
   "cell_type": "code",
   "execution_count": 2,
   "metadata": {
    "collapsed": true
   },
   "outputs": [],
   "source": [
    "sess = tf.Session()\n",
    "K.set_session(sess)\n",
    "\n",
    "K.set_image_dim_ordering('th')\n",
    "weights_path = 'yolo-tiny-origin.h5'\n",
    "is_freeze = True\n",
    "verbalise = True"
   ]
  },
  {
   "cell_type": "code",
   "execution_count": 3,
   "metadata": {
    "collapsed": true
   },
   "outputs": [],
   "source": [
    "def make_yolotiny_network(is_freeze=True):\n",
    "    model = Sequential()\n",
    "    model.add(Conv2D(16, (3, 3), input_shape=(3,448,448),padding='same', \n",
    "                            activation=LeakyReLU(alpha=0.1), trainable=not is_freeze))\n",
    "    model.add(MaxPooling2D(pool_size=(2, 2)))\n",
    "    model.add(Conv2D(32,(3,3), padding='same', \n",
    "                            activation=LeakyReLU(alpha=0.1), trainable=not is_freeze))\n",
    "    model.add(MaxPooling2D(pool_size=(2, 2),padding='valid'))\n",
    "    model.add(Conv2D(64,(3,3), padding='same', \n",
    "                            activation=LeakyReLU(alpha=0.1), trainable=not is_freeze))\n",
    "    model.add(MaxPooling2D(pool_size=(2, 2),padding='valid'))\n",
    "    model.add(Conv2D(128,(3,3), padding='same', \n",
    "                            activation=LeakyReLU(alpha=0.1), trainable=not is_freeze))\n",
    "    model.add(MaxPooling2D(pool_size=(2, 2),padding='valid'))\n",
    "    model.add(Conv2D(256,(3,3), padding='same', \n",
    "                            activation=LeakyReLU(alpha=0.1), trainable=not is_freeze))\n",
    "    model.add(MaxPooling2D(pool_size=(2, 2),padding='valid'))\n",
    "    model.add(Conv2D(512,(3,3), padding='same', \n",
    "                            activation=LeakyReLU(alpha=0.1), trainable=not is_freeze))\n",
    "    model.add(MaxPooling2D(pool_size=(2, 2),padding='valid'))\n",
    "    model.add(Conv2D(1024,(3,3), padding='same', activation=LeakyReLU(alpha=0.1), trainable=not is_freeze))\n",
    "    model.add(Conv2D(1024,(3,3), padding='same', activation=LeakyReLU(alpha=0.1), trainable=not is_freeze))\n",
    "    model.add(Conv2D(1024,(3,3), padding='same', activation=LeakyReLU(alpha=0.1), trainable=not is_freeze))\n",
    "    model.add(Flatten())\n",
    "    model.add(Dense(256))\n",
    "    model.add(Dense(4096))\n",
    "    model.add(LeakyReLU(alpha=0.1))\n",
    "    model.add(Dense(1470))\n",
    "    \n",
    "    return model"
   ]
  },
  {
   "cell_type": "code",
   "execution_count": 4,
   "metadata": {
    "collapsed": false
   },
   "outputs": [],
   "source": [
    "def make_bottleneck_network(model):\n",
    "    model.add(Dense(256, input_shape=model.output_shape))\n",
    "    model.add(Dense(4096))\n",
    "    model.add(LeakyReLU(alpha=0.1))\n",
    "    model.add(Dense(1470))\n",
    "    \n",
    "    return model"
   ]
  },
  {
   "cell_type": "code",
   "execution_count": 5,
   "metadata": {
    "collapsed": false
   },
   "outputs": [
    {
     "name": "stdout",
     "output_type": "stream",
     "text": [
      "_________________________________________________________________\n",
      "Layer (type)                 Output Shape              Param #   \n",
      "=================================================================\n",
      "conv2d_1 (Conv2D)            (None, 16, 448, 448)      448       \n",
      "_________________________________________________________________\n",
      "max_pooling2d_1 (MaxPooling2 (None, 16, 224, 224)      0         \n",
      "_________________________________________________________________\n",
      "conv2d_2 (Conv2D)            (None, 32, 224, 224)      4640      \n",
      "_________________________________________________________________\n",
      "max_pooling2d_2 (MaxPooling2 (None, 32, 112, 112)      0         \n",
      "_________________________________________________________________\n",
      "conv2d_3 (Conv2D)            (None, 64, 112, 112)      18496     \n",
      "_________________________________________________________________\n",
      "max_pooling2d_3 (MaxPooling2 (None, 64, 56, 56)        0         \n",
      "_________________________________________________________________\n",
      "conv2d_4 (Conv2D)            (None, 128, 56, 56)       73856     \n",
      "_________________________________________________________________\n",
      "max_pooling2d_4 (MaxPooling2 (None, 128, 28, 28)       0         \n",
      "_________________________________________________________________\n",
      "conv2d_5 (Conv2D)            (None, 256, 28, 28)       295168    \n",
      "_________________________________________________________________\n",
      "max_pooling2d_5 (MaxPooling2 (None, 256, 14, 14)       0         \n",
      "_________________________________________________________________\n",
      "conv2d_6 (Conv2D)            (None, 512, 14, 14)       1180160   \n",
      "_________________________________________________________________\n",
      "max_pooling2d_6 (MaxPooling2 (None, 512, 7, 7)         0         \n",
      "_________________________________________________________________\n",
      "conv2d_7 (Conv2D)            (None, 1024, 7, 7)        4719616   \n",
      "_________________________________________________________________\n",
      "conv2d_8 (Conv2D)            (None, 1024, 7, 7)        9438208   \n",
      "_________________________________________________________________\n",
      "conv2d_9 (Conv2D)            (None, 1024, 7, 7)        9438208   \n",
      "_________________________________________________________________\n",
      "flatten_1 (Flatten)          (None, 50176)             0         \n",
      "_________________________________________________________________\n",
      "dense_1 (Dense)              (None, 256)               12845312  \n",
      "_________________________________________________________________\n",
      "dense_2 (Dense)              (None, 4096)              1052672   \n",
      "_________________________________________________________________\n",
      "leaky_re_lu_10 (LeakyReLU)   (None, 4096)              0         \n",
      "_________________________________________________________________\n",
      "dense_3 (Dense)              (None, 1470)              6022590   \n",
      "=================================================================\n",
      "Total params: 45,089,374\n",
      "Trainable params: 19,920,574\n",
      "Non-trainable params: 25,168,800\n",
      "_________________________________________________________________\n"
     ]
    }
   ],
   "source": [
    "model = make_yolotiny_network()\n",
    "model.summary()"
   ]
  },
  {
   "cell_type": "code",
   "execution_count": 6,
   "metadata": {
    "collapsed": false
   },
   "outputs": [],
   "source": [
    "from yolo.training_v1 import darkeras_loss, _TRAINER\n",
    "from yolo.datacenter.data import shuffle"
   ]
  },
  {
   "cell_type": "markdown",
   "metadata": {},
   "source": [
    "### 처음에는 랜덤 이니셜라이즈가 된걸로 보임"
   ]
  },
  {
   "cell_type": "code",
   "execution_count": 8,
   "metadata": {
    "collapsed": false
   },
   "outputs": [
    {
     "name": "stdout",
     "output_type": "stream",
     "text": [
      "conv1 : \n",
      "[-0.10797721  0.17980772  0.10209945  0.08317301 -0.16234875  0.01490965\n",
      " -0.09045276 -0.16318287  0.11130679  0.1397835  -0.15183559 -0.10002695\n",
      " -0.0053302  -0.07572366  0.05486624  0.10980004]\n",
      "danse last : \n",
      "[ 0.02892222 -0.01035621 -0.02166484  0.01330325 -0.02072718 -0.02225607\n",
      "  0.01895375  0.0305136   0.01021824 -0.00729086]\n"
     ]
    }
   ],
   "source": [
    "sess.run(tf.global_variables_initializer())\n",
    "\n",
    "inp_x = model.input\n",
    "net_out = model.output\n",
    "\n",
    "conv1 = model.layers[0]\n",
    "dense_last = model.layers[-1]\n",
    "print(\"conv1 : \")\n",
    "print(sess.run(conv1.weights[0])[0][0][0])\n",
    "print(\"danse last : \")\n",
    "print(sess.run(dense_last.weights[0])[0][0:10])"
   ]
  },
  {
   "cell_type": "markdown",
   "metadata": {},
   "source": [
    "### 강제로 global initializer 를 시키면?"
   ]
  },
  {
   "cell_type": "code",
   "execution_count": 9,
   "metadata": {
    "collapsed": false
   },
   "outputs": [
    {
     "name": "stdout",
     "output_type": "stream",
     "text": [
      "['Building yolo-tiny loss function']\n",
      "Building yolo-tiny loss\n",
      "['Building yolo-tiny train optimizer']\n",
      "conv1 : \n",
      "[-0.10797721  0.17980772  0.10209945  0.08317301 -0.16234875  0.01490965\n",
      " -0.09045276 -0.16318287  0.11130679  0.1397835  -0.15183559 -0.10002695\n",
      " -0.0053302  -0.07572366  0.05486624  0.10980004]\n",
      "danse last : \n",
      "[ 0.02892222 -0.01035621 -0.02166484  0.01330325 -0.02072718 -0.02225607\n",
      "  0.01895375  0.0305136   0.01021824 -0.00729086]\n"
     ]
    }
   ],
   "source": [
    "inp_x = model.input\n",
    "net_out = model.output\n",
    "\n",
    "\n",
    "say(\"Building {} loss function\".format(cfg.model_name), verbalise=verbalise)\n",
    "loss_ph, loss_op = darkeras_loss(net_out)\n",
    "say(\"Building {} train optimizer\".format(cfg.model_name), verbalise=verbalise)\n",
    "optimizer = _TRAINER[cfg.trainer](cfg.lr)\n",
    "gradients = optimizer.compute_gradients(loss_op)\n",
    "train_op = optimizer.apply_gradients(gradients)\n",
    "\n",
    "\n",
    "conv1 = model.layers[0]\n",
    "dense_last = model.layers[-1]\n",
    "print(\"conv1 : \")\n",
    "print(sess.run(conv1.weights[0])[0][0][0])\n",
    "print(\"danse last : \")\n",
    "print(sess.run(dense_last.weights[0])[0][0:10])"
   ]
  },
  {
   "cell_type": "code",
   "execution_count": 9,
   "metadata": {
    "collapsed": false
   },
   "outputs": [
    {
     "name": "stdout",
     "output_type": "stream",
     "text": [
      "['Setting weigths : {}', 'yolo-tiny-origin.h5']\n",
      "conv1 : \n",
      "[ 0.35519508 -0.22792202 -0.59281367  0.01867884  0.06647962  0.351217\n",
      "  0.05631017  0.4962424   0.51120818  0.13387974 -0.09508803 -0.21474499\n",
      " -0.70027256  0.57914382  0.18591353 -0.28030169]\n",
      "danse last : \n",
      "[  3.06502054e-03  -1.85736606e-03  -5.30227517e-05  -6.94487384e-03\n",
      "  -1.01462668e-02  -3.37091595e-04   5.96690690e-03   2.54362170e-03\n",
      "  -6.02794159e-03   3.24628293e-03]\n"
     ]
    }
   ],
   "source": [
    "# model.load_weights(weights_path)\n",
    "# say(\"Setting weigths : {}\",format(weights_path), verbalise=verbalise)\n",
    "\n",
    "# conv1 = model.layers[0]\n",
    "# dense_last = model.layers[-1]\n",
    "# print(\"conv1 : \")\n",
    "# print(sess.run(conv1.weights[0])[0][0][0])\n",
    "# print(\"danse last : \")\n",
    "# print(sess.run(dense_last.weights[0])[0][0:10])"
   ]
  },
  {
   "cell_type": "code",
   "execution_count": 10,
   "metadata": {
    "collapsed": false
   },
   "outputs": [
    {
     "name": "stdout",
     "output_type": "stream",
     "text": [
      "['None layer poped']\n",
      "['None layer poped']\n",
      "['None layer poped']\n",
      "['None layer poped']\n"
     ]
    },
    {
     "data": {
      "text/plain": [
       "[<keras.layers.convolutional.Conv2D at 0x1e61b6c2710>,\n",
       " <keras.layers.pooling.MaxPooling2D at 0x1e622235588>,\n",
       " <keras.layers.convolutional.Conv2D at 0x1e622253c50>,\n",
       " <keras.layers.pooling.MaxPooling2D at 0x1e622253898>,\n",
       " <keras.layers.convolutional.Conv2D at 0x1e61b6c2e10>,\n",
       " <keras.layers.pooling.MaxPooling2D at 0x1e622294b38>,\n",
       " <keras.layers.convolutional.Conv2D at 0x1e62226d4a8>,\n",
       " <keras.layers.pooling.MaxPooling2D at 0x1e6222d7be0>,\n",
       " <keras.layers.convolutional.Conv2D at 0x1e62229f9b0>,\n",
       " <keras.layers.pooling.MaxPooling2D at 0x1e622316be0>,\n",
       " <keras.layers.convolutional.Conv2D at 0x1e622324ac8>,\n",
       " <keras.layers.pooling.MaxPooling2D at 0x1e62237a0f0>,\n",
       " <keras.layers.convolutional.Conv2D at 0x1e622368a58>,\n",
       " <keras.layers.convolutional.Conv2D at 0x1e6223aaf60>,\n",
       " <keras.layers.convolutional.Conv2D at 0x1e6223d8f28>,\n",
       " <keras.layers.core.Flatten at 0x1e62244c2b0>]"
      ]
     },
     "execution_count": 10,
     "metadata": {},
     "output_type": "execute_result"
    }
   ],
   "source": [
    "# pop_layer = model.pop() # dense_25\n",
    "# say(\"{} layer poped\".format(pop_layer), verbalise=verbalise)\n",
    "# pop_layer = model.pop() # leakyrelu_34\n",
    "# say(\"{} layer poped\".format(pop_layer), verbalise=verbalise)\n",
    "# pop_layer = model.pop() # dense_24\n",
    "# say(\"{} layer poped\".format(pop_layer), verbalise=verbalise)\n",
    "# pop_layer = model.pop() # dense 23\n",
    "# say(\"{} layer poped\".format(pop_layer), verbalise=verbalise)\n",
    "# model.layers"
   ]
  },
  {
   "cell_type": "code",
   "execution_count": 10,
   "metadata": {
    "collapsed": false
   },
   "outputs": [
    {
     "data": {
      "text/plain": [
       "[<keras.layers.convolutional.Conv2D at 0x266096a24e0>,\n",
       " <keras.layers.pooling.MaxPooling2D at 0x266102485f8>,\n",
       " <keras.layers.convolutional.Conv2D at 0x266096a2eb8>,\n",
       " <keras.layers.pooling.MaxPooling2D at 0x2661028a0f0>,\n",
       " <keras.layers.convolutional.Conv2D at 0x2661027f320>,\n",
       " <keras.layers.pooling.MaxPooling2D at 0x266102a6ba8>,\n",
       " <keras.layers.convolutional.Conv2D at 0x266102668d0>,\n",
       " <keras.layers.pooling.MaxPooling2D at 0x266102e9c50>,\n",
       " <keras.layers.convolutional.Conv2D at 0x2660927dc18>,\n",
       " <keras.layers.pooling.MaxPooling2D at 0x2661032cc50>,\n",
       " <keras.layers.convolutional.Conv2D at 0x26610310d30>,\n",
       " <keras.layers.pooling.MaxPooling2D at 0x26610352d30>,\n",
       " <keras.layers.convolutional.Conv2D at 0x26610378e48>,\n",
       " <keras.layers.convolutional.Conv2D at 0x266103bce80>,\n",
       " <keras.layers.convolutional.Conv2D at 0x26610409860>,\n",
       " <keras.layers.core.Flatten at 0x26610411c88>,\n",
       " <keras.layers.core.Dense at 0x2661041c3c8>,\n",
       " <keras.layers.core.Dense at 0x266104866a0>,\n",
       " <keras.layers.advanced_activations.LeakyReLU at 0x2661048ff28>,\n",
       " <keras.layers.core.Dense at 0x266104a4748>,\n",
       " <keras.layers.core.Dense at 0x2661050b2b0>,\n",
       " <keras.layers.core.Dense at 0x2661050ba20>,\n",
       " <keras.layers.advanced_activations.LeakyReLU at 0x2661050bc50>,\n",
       " <keras.layers.core.Dense at 0x2661050bba8>]"
      ]
     },
     "execution_count": 10,
     "metadata": {},
     "output_type": "execute_result"
    }
   ],
   "source": [
    "# model = make_bottleneck_network(model)\n",
    "# model.layers"
   ]
  },
  {
   "cell_type": "code",
   "execution_count": 10,
   "metadata": {
    "collapsed": false
   },
   "outputs": [
    {
     "name": "stdout",
     "output_type": "stream",
     "text": [
      "['Setting weigths : {}', 'yolo-tiny-origin.h5']\n",
      "['None layer poped']\n",
      "['None layer poped']\n",
      "['None layer poped']\n",
      "['None layer poped']\n",
      "_________________________________________________________________\n",
      "Layer (type)                 Output Shape              Param #   \n",
      "=================================================================\n",
      "conv2d_1 (Conv2D)            (None, 16, 448, 448)      448       \n",
      "_________________________________________________________________\n",
      "max_pooling2d_1 (MaxPooling2 (None, 16, 224, 224)      0         \n",
      "_________________________________________________________________\n",
      "conv2d_2 (Conv2D)            (None, 32, 224, 224)      4640      \n",
      "_________________________________________________________________\n",
      "max_pooling2d_2 (MaxPooling2 (None, 32, 112, 112)      0         \n",
      "_________________________________________________________________\n",
      "conv2d_3 (Conv2D)            (None, 64, 112, 112)      18496     \n",
      "_________________________________________________________________\n",
      "max_pooling2d_3 (MaxPooling2 (None, 64, 56, 56)        0         \n",
      "_________________________________________________________________\n",
      "conv2d_4 (Conv2D)            (None, 128, 56, 56)       73856     \n",
      "_________________________________________________________________\n",
      "max_pooling2d_4 (MaxPooling2 (None, 128, 28, 28)       0         \n",
      "_________________________________________________________________\n",
      "conv2d_5 (Conv2D)            (None, 256, 28, 28)       295168    \n",
      "_________________________________________________________________\n",
      "max_pooling2d_5 (MaxPooling2 (None, 256, 14, 14)       0         \n",
      "_________________________________________________________________\n",
      "conv2d_6 (Conv2D)            (None, 512, 14, 14)       1180160   \n",
      "_________________________________________________________________\n",
      "max_pooling2d_6 (MaxPooling2 (None, 512, 7, 7)         0         \n",
      "_________________________________________________________________\n",
      "conv2d_7 (Conv2D)            (None, 1024, 7, 7)        4719616   \n",
      "_________________________________________________________________\n",
      "conv2d_8 (Conv2D)            (None, 1024, 7, 7)        9438208   \n",
      "_________________________________________________________________\n",
      "conv2d_9 (Conv2D)            (None, 1024, 7, 7)        9438208   \n",
      "_________________________________________________________________\n",
      "flatten_1 (Flatten)          (None, 50176)             0         \n",
      "=================================================================\n",
      "Total params: 25,168,800\n",
      "Trainable params: 0\n",
      "Non-trainable params: 25,168,800\n",
      "_________________________________________________________________\n",
      "(None, 50176)\n"
     ]
    }
   ],
   "source": [
    "model.load_weights(weights_path)\n",
    "say(\"Setting weigths : {}\",format(weights_path), verbalise=verbalise)\n",
    "\n",
    "pop_layer = model.pop() # dense_25\n",
    "say(\"{} layer poped\".format(pop_layer), verbalise=verbalise)\n",
    "pop_layer = model.pop() # leakyrelu_34\n",
    "say(\"{} layer poped\".format(pop_layer), verbalise=verbalise)\n",
    "pop_layer = model.pop() # dense_24\n",
    "say(\"{} layer poped\".format(pop_layer), verbalise=verbalise)\n",
    "pop_layer = model.pop() # dense 23\n",
    "say(\"{} layer poped\".format(pop_layer), verbalise=verbalise)\n",
    "\n",
    "model.summary()\n",
    "print(model.output_shape)"
   ]
  },
  {
   "cell_type": "code",
   "execution_count": 11,
   "metadata": {
    "collapsed": false
   },
   "outputs": [
    {
     "name": "stdout",
     "output_type": "stream",
     "text": [
      "_________________________________________________________________\n",
      "Layer (type)                 Output Shape              Param #   \n",
      "=================================================================\n",
      "conv2d_1 (Conv2D)            (None, 16, 448, 448)      448       \n",
      "_________________________________________________________________\n",
      "max_pooling2d_1 (MaxPooling2 (None, 16, 224, 224)      0         \n",
      "_________________________________________________________________\n",
      "conv2d_2 (Conv2D)            (None, 32, 224, 224)      4640      \n",
      "_________________________________________________________________\n",
      "max_pooling2d_2 (MaxPooling2 (None, 32, 112, 112)      0         \n",
      "_________________________________________________________________\n",
      "conv2d_3 (Conv2D)            (None, 64, 112, 112)      18496     \n",
      "_________________________________________________________________\n",
      "max_pooling2d_3 (MaxPooling2 (None, 64, 56, 56)        0         \n",
      "_________________________________________________________________\n",
      "conv2d_4 (Conv2D)            (None, 128, 56, 56)       73856     \n",
      "_________________________________________________________________\n",
      "max_pooling2d_4 (MaxPooling2 (None, 128, 28, 28)       0         \n",
      "_________________________________________________________________\n",
      "conv2d_5 (Conv2D)            (None, 256, 28, 28)       295168    \n",
      "_________________________________________________________________\n",
      "max_pooling2d_5 (MaxPooling2 (None, 256, 14, 14)       0         \n",
      "_________________________________________________________________\n",
      "conv2d_6 (Conv2D)            (None, 512, 14, 14)       1180160   \n",
      "_________________________________________________________________\n",
      "max_pooling2d_6 (MaxPooling2 (None, 512, 7, 7)         0         \n",
      "_________________________________________________________________\n",
      "conv2d_7 (Conv2D)            (None, 1024, 7, 7)        4719616   \n",
      "_________________________________________________________________\n",
      "conv2d_8 (Conv2D)            (None, 1024, 7, 7)        9438208   \n",
      "_________________________________________________________________\n",
      "conv2d_9 (Conv2D)            (None, 1024, 7, 7)        9438208   \n",
      "_________________________________________________________________\n",
      "flatten_1 (Flatten)          (None, 50176)             0         \n",
      "_________________________________________________________________\n",
      "dense_4 (Dense)              (None, 256)               12845312  \n",
      "_________________________________________________________________\n",
      "dense_5 (Dense)              (None, 4096)              1052672   \n",
      "_________________________________________________________________\n",
      "leaky_re_lu_11 (LeakyReLU)   (None, 4096)              0         \n",
      "_________________________________________________________________\n",
      "dense_6 (Dense)              (None, 1470)              6022590   \n",
      "=================================================================\n",
      "Total params: 45,089,374\n",
      "Trainable params: 19,920,574\n",
      "Non-trainable params: 25,168,800\n",
      "_________________________________________________________________\n"
     ]
    }
   ],
   "source": [
    "model = make_bottleneck_network(model)\n",
    "model.summary()"
   ]
  },
  {
   "cell_type": "code",
   "execution_count": 12,
   "metadata": {
    "collapsed": false
   },
   "outputs": [
    {
     "data": {
      "text/plain": [
       "True"
      ]
     },
     "execution_count": 12,
     "metadata": {},
     "output_type": "execute_result"
    }
   ],
   "source": [
    "conv1 = model.layers[0]\n",
    "conv1.built"
   ]
  },
  {
   "cell_type": "code",
   "execution_count": 14,
   "metadata": {
    "collapsed": false,
    "scrolled": true
   },
   "outputs": [
    {
     "name": "stdout",
     "output_type": "stream",
     "text": [
      "Dataset of 9963 instance(s)\n",
      "shuffle index :  [ 436 5659 6995 ...,  239 2041 8592]\n",
      "['step 0 - loss 2.8475615978240967']\n",
      "conv1 : \n",
      "[ 0.35505235 -0.22811179 -0.59261441  0.01887837  0.06628548  0.35139766\n",
      "  0.05650574  0.49642369  0.51140738  0.13368623 -0.09527325 -0.21493055\n",
      " -0.70031995  0.57934397  0.18571344 -0.28040144]\n",
      "['Save weights : ', 'yolo-tiny-epoch0.h5']\n",
      "['step 1 - loss 2.555248737335205']\n",
      "conv1 : \n",
      "[ 0.3550244  -0.22819042 -0.59257895  0.018972    0.06619009  0.35148212\n",
      "  0.0565969   0.49648634  0.5115059   0.13359042 -0.0953503  -0.21491151\n",
      " -0.70027059  0.57943124  0.18562542 -0.28042778]\n",
      "Saved weigths :  yolo-tiny-step1.h5\n",
      "['step 2 - loss 2.632427215576172']\n",
      "conv1 : \n",
      "[ 0.35498244 -0.22823356 -0.59256691  0.01902446  0.06609867  0.35149047\n",
      "  0.05664805  0.49655351  0.51160401  0.13351972 -0.0953752  -0.21491593\n",
      " -0.70022213  0.57952332  0.1855337  -0.28048456]\n",
      "['step 3 - loss 2.460310935974121']\n",
      "conv1 : \n",
      "[ 0.35495365 -0.22826865 -0.59253889  0.01902069  0.06601952  0.3515088\n",
      "  0.05671632  0.49660975  0.51168889  0.133443   -0.09541153 -0.21489973\n",
      " -0.70018095  0.5795716   0.18544152 -0.28050843]\n",
      "['step 4 - loss 2.645150661468506']\n",
      "conv1 : \n",
      "[ 0.35494721 -0.22828457 -0.59251201  0.01904796  0.06593631  0.35148883\n",
      "  0.0567509   0.49664038  0.51176995  0.13338897 -0.09541669 -0.21487646\n",
      " -0.70014703  0.579557    0.18534859 -0.28049776]\n",
      "['step 5 - loss 1.6643438339233398']\n",
      "conv1 : \n",
      "[ 0.35494837 -0.22829933 -0.59246701  0.0191      0.06585106  0.35146615\n",
      "  0.05677493  0.49667254  0.51185697  0.13335215 -0.09540401 -0.21487339\n",
      " -0.70012993  0.57951564  0.18527326 -0.28045908]\n",
      "['step 6 - loss 1.948242425918579']\n",
      "conv1 : \n",
      "[ 0.35494432 -0.22834466 -0.59243596  0.01914953  0.06576656  0.35149723\n",
      "  0.05682141  0.49670109  0.51193112  0.13330138 -0.09542756 -0.21486299\n",
      " -0.70011973  0.57948703  0.18521562 -0.28043249]\n"
     ]
    },
    {
     "ename": "KeyboardInterrupt",
     "evalue": "",
     "output_type": "error",
     "traceback": [
      "\u001b[1;31m---------------------------------------------------------------------------\u001b[0m",
      "\u001b[1;31mKeyboardInterrupt\u001b[0m                         Traceback (most recent call last)",
      "\u001b[1;32m<ipython-input-14-d5f632f8f6c7>\u001b[0m in \u001b[0;36m<module>\u001b[1;34m()\u001b[0m\n\u001b[0;32m      7\u001b[0m     \u001b[1;31m# print(\"feed_dict.keys() : \", len(train_feed_dict.keys()), train_feed_dict.keys())\u001b[0m\u001b[1;33m\u001b[0m\u001b[1;33m\u001b[0m\u001b[0m\n\u001b[0;32m      8\u001b[0m     \u001b[0mfetches\u001b[0m \u001b[1;33m=\u001b[0m \u001b[1;33m[\u001b[0m\u001b[0mtrain_op\u001b[0m\u001b[1;33m,\u001b[0m \u001b[0mloss_op\u001b[0m\u001b[1;33m]\u001b[0m\u001b[1;33m\u001b[0m\u001b[0m\n\u001b[1;32m----> 9\u001b[1;33m     \u001b[0mfetched\u001b[0m \u001b[1;33m=\u001b[0m \u001b[0msess\u001b[0m\u001b[1;33m.\u001b[0m\u001b[0mrun\u001b[0m\u001b[1;33m(\u001b[0m\u001b[0mfetches\u001b[0m\u001b[1;33m,\u001b[0m \u001b[0mfeed_dict\u001b[0m\u001b[1;33m=\u001b[0m\u001b[0mtrain_feed_dict\u001b[0m\u001b[1;33m)\u001b[0m\u001b[1;33m\u001b[0m\u001b[0m\n\u001b[0m\u001b[0;32m     10\u001b[0m \u001b[1;33m\u001b[0m\u001b[0m\n\u001b[0;32m     11\u001b[0m     \u001b[0mloss_val\u001b[0m \u001b[1;33m=\u001b[0m \u001b[0mfetched\u001b[0m\u001b[1;33m[\u001b[0m\u001b[1;36m1\u001b[0m\u001b[1;33m]\u001b[0m\u001b[1;33m\u001b[0m\u001b[0m\n",
      "\u001b[1;32mC:\\Users\\SoMa\\Anaconda3\\envs\\venvJupyter\\lib\\site-packages\\tensorflow\\python\\client\\session.py\u001b[0m in \u001b[0;36mrun\u001b[1;34m(self, fetches, feed_dict, options, run_metadata)\u001b[0m\n\u001b[0;32m    776\u001b[0m     \u001b[1;32mtry\u001b[0m\u001b[1;33m:\u001b[0m\u001b[1;33m\u001b[0m\u001b[0m\n\u001b[0;32m    777\u001b[0m       result = self._run(None, fetches, feed_dict, options_ptr,\n\u001b[1;32m--> 778\u001b[1;33m                          run_metadata_ptr)\n\u001b[0m\u001b[0;32m    779\u001b[0m       \u001b[1;32mif\u001b[0m \u001b[0mrun_metadata\u001b[0m\u001b[1;33m:\u001b[0m\u001b[1;33m\u001b[0m\u001b[0m\n\u001b[0;32m    780\u001b[0m         \u001b[0mproto_data\u001b[0m \u001b[1;33m=\u001b[0m \u001b[0mtf_session\u001b[0m\u001b[1;33m.\u001b[0m\u001b[0mTF_GetBuffer\u001b[0m\u001b[1;33m(\u001b[0m\u001b[0mrun_metadata_ptr\u001b[0m\u001b[1;33m)\u001b[0m\u001b[1;33m\u001b[0m\u001b[0m\n",
      "\u001b[1;32mC:\\Users\\SoMa\\Anaconda3\\envs\\venvJupyter\\lib\\site-packages\\tensorflow\\python\\client\\session.py\u001b[0m in \u001b[0;36m_run\u001b[1;34m(self, handle, fetches, feed_dict, options, run_metadata)\u001b[0m\n\u001b[0;32m    980\u001b[0m     \u001b[1;32mif\u001b[0m \u001b[0mfinal_fetches\u001b[0m \u001b[1;32mor\u001b[0m \u001b[0mfinal_targets\u001b[0m\u001b[1;33m:\u001b[0m\u001b[1;33m\u001b[0m\u001b[0m\n\u001b[0;32m    981\u001b[0m       results = self._do_run(handle, final_targets, final_fetches,\n\u001b[1;32m--> 982\u001b[1;33m                              feed_dict_string, options, run_metadata)\n\u001b[0m\u001b[0;32m    983\u001b[0m     \u001b[1;32melse\u001b[0m\u001b[1;33m:\u001b[0m\u001b[1;33m\u001b[0m\u001b[0m\n\u001b[0;32m    984\u001b[0m       \u001b[0mresults\u001b[0m \u001b[1;33m=\u001b[0m \u001b[1;33m[\u001b[0m\u001b[1;33m]\u001b[0m\u001b[1;33m\u001b[0m\u001b[0m\n",
      "\u001b[1;32mC:\\Users\\SoMa\\Anaconda3\\envs\\venvJupyter\\lib\\site-packages\\tensorflow\\python\\client\\session.py\u001b[0m in \u001b[0;36m_do_run\u001b[1;34m(self, handle, target_list, fetch_list, feed_dict, options, run_metadata)\u001b[0m\n\u001b[0;32m   1030\u001b[0m     \u001b[1;32mif\u001b[0m \u001b[0mhandle\u001b[0m \u001b[1;32mis\u001b[0m \u001b[1;32mNone\u001b[0m\u001b[1;33m:\u001b[0m\u001b[1;33m\u001b[0m\u001b[0m\n\u001b[0;32m   1031\u001b[0m       return self._do_call(_run_fn, self._session, feed_dict, fetch_list,\n\u001b[1;32m-> 1032\u001b[1;33m                            target_list, options, run_metadata)\n\u001b[0m\u001b[0;32m   1033\u001b[0m     \u001b[1;32melse\u001b[0m\u001b[1;33m:\u001b[0m\u001b[1;33m\u001b[0m\u001b[0m\n\u001b[0;32m   1034\u001b[0m       return self._do_call(_prun_fn, self._session, handle, feed_dict,\n",
      "\u001b[1;32mC:\\Users\\SoMa\\Anaconda3\\envs\\venvJupyter\\lib\\site-packages\\tensorflow\\python\\client\\session.py\u001b[0m in \u001b[0;36m_do_call\u001b[1;34m(self, fn, *args)\u001b[0m\n\u001b[0;32m   1037\u001b[0m   \u001b[1;32mdef\u001b[0m \u001b[0m_do_call\u001b[0m\u001b[1;33m(\u001b[0m\u001b[0mself\u001b[0m\u001b[1;33m,\u001b[0m \u001b[0mfn\u001b[0m\u001b[1;33m,\u001b[0m \u001b[1;33m*\u001b[0m\u001b[0margs\u001b[0m\u001b[1;33m)\u001b[0m\u001b[1;33m:\u001b[0m\u001b[1;33m\u001b[0m\u001b[0m\n\u001b[0;32m   1038\u001b[0m     \u001b[1;32mtry\u001b[0m\u001b[1;33m:\u001b[0m\u001b[1;33m\u001b[0m\u001b[0m\n\u001b[1;32m-> 1039\u001b[1;33m       \u001b[1;32mreturn\u001b[0m \u001b[0mfn\u001b[0m\u001b[1;33m(\u001b[0m\u001b[1;33m*\u001b[0m\u001b[0margs\u001b[0m\u001b[1;33m)\u001b[0m\u001b[1;33m\u001b[0m\u001b[0m\n\u001b[0m\u001b[0;32m   1040\u001b[0m     \u001b[1;32mexcept\u001b[0m \u001b[0merrors\u001b[0m\u001b[1;33m.\u001b[0m\u001b[0mOpError\u001b[0m \u001b[1;32mas\u001b[0m \u001b[0me\u001b[0m\u001b[1;33m:\u001b[0m\u001b[1;33m\u001b[0m\u001b[0m\n\u001b[0;32m   1041\u001b[0m       \u001b[0mmessage\u001b[0m \u001b[1;33m=\u001b[0m \u001b[0mcompat\u001b[0m\u001b[1;33m.\u001b[0m\u001b[0mas_text\u001b[0m\u001b[1;33m(\u001b[0m\u001b[0me\u001b[0m\u001b[1;33m.\u001b[0m\u001b[0mmessage\u001b[0m\u001b[1;33m)\u001b[0m\u001b[1;33m\u001b[0m\u001b[0m\n",
      "\u001b[1;32mC:\\Users\\SoMa\\Anaconda3\\envs\\venvJupyter\\lib\\site-packages\\tensorflow\\python\\client\\session.py\u001b[0m in \u001b[0;36m_run_fn\u001b[1;34m(session, feed_dict, fetch_list, target_list, options, run_metadata)\u001b[0m\n\u001b[0;32m   1019\u001b[0m         return tf_session.TF_Run(session, options,\n\u001b[0;32m   1020\u001b[0m                                  \u001b[0mfeed_dict\u001b[0m\u001b[1;33m,\u001b[0m \u001b[0mfetch_list\u001b[0m\u001b[1;33m,\u001b[0m \u001b[0mtarget_list\u001b[0m\u001b[1;33m,\u001b[0m\u001b[1;33m\u001b[0m\u001b[0m\n\u001b[1;32m-> 1021\u001b[1;33m                                  status, run_metadata)\n\u001b[0m\u001b[0;32m   1022\u001b[0m \u001b[1;33m\u001b[0m\u001b[0m\n\u001b[0;32m   1023\u001b[0m     \u001b[1;32mdef\u001b[0m \u001b[0m_prun_fn\u001b[0m\u001b[1;33m(\u001b[0m\u001b[0msession\u001b[0m\u001b[1;33m,\u001b[0m \u001b[0mhandle\u001b[0m\u001b[1;33m,\u001b[0m \u001b[0mfeed_dict\u001b[0m\u001b[1;33m,\u001b[0m \u001b[0mfetch_list\u001b[0m\u001b[1;33m)\u001b[0m\u001b[1;33m:\u001b[0m\u001b[1;33m\u001b[0m\u001b[0m\n",
      "\u001b[1;31mKeyboardInterrupt\u001b[0m: "
     ]
    }
   ],
   "source": [
    "batches = shuffle()\n",
    "for i, (x_batch, datum) in enumerate(batches):\n",
    "    train_feed_dict = {\n",
    "       loss_ph[key]:datum[key] for key in loss_ph \n",
    "    }\n",
    "    train_feed_dict[inp_x] = x_batch\n",
    "    # print(\"feed_dict.keys() : \", len(train_feed_dict.keys()), train_feed_dict.keys())\n",
    "    fetches = [train_op, loss_op] \n",
    "    fetched = sess.run(fetches, feed_dict=train_feed_dict)\n",
    "    \n",
    "    loss_val = fetched[1]\n",
    "    say(\"step {} - loss {}\".format(i, loss_val), verbalise=True)\n",
    "    \n",
    "    conv1 = model.layers[0]\n",
    "    dense_last = model.layers[-1]\n",
    "    print(\"conv1 : \")\n",
    "    print(sess.run(conv1.weights[0])[0][0][0])\n",
    "#     print(\"danse last : \")\n",
    "#     print(sess.run(dense_last.weights[0])[0][0:10])\n",
    "    \n",
    "    if i == 1:\n",
    "        save_step_weigths_path = 'yolo-tiny-step{}.h5'.format(i)\n",
    "        model.save_weights(save_step_weigths_path)\n",
    "        print(\"Saved weigths : \", save_step_weigths_path)\n",
    "    if i % 310 == 0:\n",
    "        model.save_weights('yolo-tiny-epoch{}.h5'.format(i//310))\n",
    "        say(\"Save weights : \", 'yolo-tiny-epoch{}.h5'.format(i//310), verbalise=verbalise)"
   ]
  },
  {
   "cell_type": "code",
   "execution_count": 10,
   "metadata": {
    "collapsed": true
   },
   "outputs": [],
   "source": [
    "sess.close()"
   ]
  },
  {
   "cell_type": "code",
   "execution_count": 12,
   "metadata": {
    "collapsed": false
   },
   "outputs": [
    {
     "name": "stdout",
     "output_type": "stream",
     "text": [
      "convolution2d_1\n",
      "convolution2d_1/convolution2d_1_W:0\n",
      "convolution2d_1/convolution2d_1_b:0\n",
      "convolution2d_2\n",
      "convolution2d_2/convolution2d_2_W:0\n",
      "convolution2d_2/convolution2d_2_b:0\n",
      "convolution2d_3\n",
      "convolution2d_3/convolution2d_3_W:0\n",
      "convolution2d_3/convolution2d_3_b:0\n",
      "convolution2d_4\n",
      "convolution2d_4/convolution2d_4_W:0\n",
      "convolution2d_4/convolution2d_4_b:0\n",
      "convolution2d_5\n",
      "convolution2d_5/convolution2d_5_W:0\n",
      "convolution2d_5/convolution2d_5_b:0\n",
      "convolution2d_6\n",
      "convolution2d_6/convolution2d_6_W:0\n",
      "convolution2d_6/convolution2d_6_b:0\n",
      "convolution2d_7\n",
      "convolution2d_7/convolution2d_7_W:0\n",
      "convolution2d_7/convolution2d_7_b:0\n",
      "convolution2d_8\n",
      "convolution2d_8/convolution2d_8_W:0\n",
      "convolution2d_8/convolution2d_8_b:0\n",
      "convolution2d_9\n",
      "convolution2d_9/convolution2d_9_W:0\n",
      "convolution2d_9/convolution2d_9_b:0\n",
      "dense_1\n",
      "dense_1/dense_1_W:0\n",
      "dense_1/dense_1_b:0\n",
      "dense_2\n",
      "dense_2/dense_2_W:0\n",
      "dense_2/dense_2_b:0\n",
      "dense_3\n",
      "dense_3/dense_3_W:0\n",
      "dense_3/dense_3_b:0\n",
      "flatten_1\n",
      "leakyrelu_10\n",
      "maxpooling2d_1\n",
      "maxpooling2d_2\n",
      "maxpooling2d_3\n",
      "maxpooling2d_4\n",
      "maxpooling2d_5\n",
      "maxpooling2d_6\n"
     ]
    }
   ],
   "source": [
    "def printname(name):\n",
    "    print(name)\n",
    "\n",
    "f = h5py.File(weights_path)\n",
    "f.visit(printname)\n",
    "f.close()"
   ]
  },
  {
   "cell_type": "code",
   "execution_count": null,
   "metadata": {
    "collapsed": true
   },
   "outputs": [],
   "source": []
  }
 ],
 "metadata": {
  "kernelspec": {
   "display_name": "Python 3",
   "language": "python",
   "name": "python3"
  },
  "language_info": {
   "codemirror_mode": {
    "name": "ipython",
    "version": 3
   },
   "file_extension": ".py",
   "mimetype": "text/x-python",
   "name": "python",
   "nbconvert_exporter": "python",
   "pygments_lexer": "ipython3",
   "version": "3.5.3"
  }
 },
 "nbformat": 4,
 "nbformat_minor": 2
}
