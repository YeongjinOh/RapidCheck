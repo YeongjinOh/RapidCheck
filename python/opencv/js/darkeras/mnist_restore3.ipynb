{
 "cells": [
  {
   "cell_type": "markdown",
   "metadata": {},
   "source": [
    "# Net Load Name Test\n",
    "### 여기서는 Net 을 기존에 구성하여 저장한 뒤에, Variable 의 name 이 반드시 정확히 일치해야만 로드가 정확하게 들어가는지를 테스트 할 것 이다."
   ]
  },
  {
   "cell_type": "markdown",
   "metadata": {
    "collapsed": true
   },
   "source": [
    "### 메타 데이터 로드하지 않고, 넷을 구성하되 다른 이름으로 구성을 한뒤, 안의 내용물이 동일하게 들어가는지를 확인할 것 이다."
   ]
  },
  {
   "cell_type": "code",
   "execution_count": 1,
   "metadata": {
    "collapsed": true
   },
   "outputs": [],
   "source": [
    "import numpy as np\n",
    "import tensorflow as tf\n",
    "from tensorflow.examples.tutorials.mnist import input_data"
   ]
  },
  {
   "cell_type": "code",
   "execution_count": 2,
   "metadata": {
    "collapsed": false
   },
   "outputs": [
    {
     "name": "stdout",
     "output_type": "stream",
     "text": [
      "Extracting MNIST_data/train-images-idx3-ubyte.gz\n",
      "Extracting MNIST_data/train-labels-idx1-ubyte.gz\n",
      "Extracting MNIST_data/t10k-images-idx3-ubyte.gz\n",
      "Extracting MNIST_data/t10k-labels-idx1-ubyte.gz\n"
     ]
    }
   ],
   "source": [
    "mnist = input_data.read_data_sets('MNIST_data/', one_hot=True)\n",
    "train_instance_num, pixel_num = mnist.train.images.shape\n",
    "test_instance_num, class_num = mnist.test.labels.shape"
   ]
  },
  {
   "cell_type": "code",
   "execution_count": 3,
   "metadata": {
    "collapsed": true
   },
   "outputs": [],
   "source": [
    "sess = tf.Session()\n",
    "sess.run(tf.global_variables_initializer())"
   ]
  },
  {
   "cell_type": "code",
   "execution_count": 4,
   "metadata": {
    "collapsed": true
   },
   "outputs": [],
   "source": [
    "x = tf.placeholder('float', shape=[None, pixel_num], name='x_data')\n",
    "y_answer = tf.placeholder('float', shape=[None, class_num], name='y_labels')"
   ]
  },
  {
   "cell_type": "code",
   "execution_count": 5,
   "metadata": {
    "collapsed": false
   },
   "outputs": [
    {
     "data": {
      "text/plain": [
       "<tf.Tensor 'Reshape:0' shape=(?, 28, 28, 1) dtype=float32>"
      ]
     },
     "execution_count": 5,
     "metadata": {},
     "output_type": "execute_result"
    }
   ],
   "source": [
    "x_image = tf.reshape(x, [-1, 28, 28, 1]) # 입력데이터를 원래 이미지의 구조로 재구성한다.\n",
    "x_image"
   ]
  },
  {
   "cell_type": "code",
   "execution_count": 6,
   "metadata": {
    "collapsed": false
   },
   "outputs": [
    {
     "data": {
      "text/plain": [
       "<tf.Tensor 'convolution_1/Relu:0' shape=(?, 28, 28, 32) dtype=float32>"
      ]
     },
     "execution_count": 6,
     "metadata": {},
     "output_type": "execute_result"
    }
   ],
   "source": [
    "conv1 = tf.layers.conv2d(inputs=x_image,\n",
    "                filters=32,\n",
    "                kernel_size=[3,3],\n",
    "                padding='same',\n",
    "                activation=tf.nn.relu,\n",
    "                trainable=False,\n",
    "                name='convolution_1')\n",
    "conv1"
   ]
  },
  {
   "cell_type": "code",
   "execution_count": 7,
   "metadata": {
    "collapsed": false
   },
   "outputs": [
    {
     "data": {
      "text/plain": [
       "<tf.Tensor 'max_pooling2d/MaxPool:0' shape=(?, 14, 14, 32) dtype=float32>"
      ]
     },
     "execution_count": 7,
     "metadata": {},
     "output_type": "execute_result"
    }
   ],
   "source": [
    "pool1 = tf.layers.max_pooling2d(inputs=conv1, pool_size=[2,2], strides=2)\n",
    "pool1"
   ]
  },
  {
   "cell_type": "code",
   "execution_count": 8,
   "metadata": {
    "collapsed": false
   },
   "outputs": [
    {
     "data": {
      "text/plain": [
       "<tf.Tensor 'convolution_2/Relu:0' shape=(?, 14, 14, 64) dtype=float32>"
      ]
     },
     "execution_count": 8,
     "metadata": {},
     "output_type": "execute_result"
    }
   ],
   "source": [
    "conv2 = tf.layers.conv2d(inputs=pool1, \n",
    "                         filters=64, \n",
    "                         kernel_size=[3,3], \n",
    "                         padding='same', \n",
    "                         activation=tf.nn.relu, \n",
    "                         trainable=True, \n",
    "                         name='convolution_2')\n",
    "conv2"
   ]
  },
  {
   "cell_type": "code",
   "execution_count": 9,
   "metadata": {
    "collapsed": false
   },
   "outputs": [
    {
     "data": {
      "text/plain": [
       "<tf.Tensor 'max_pooling2d_2/MaxPool:0' shape=(?, 7, 7, 64) dtype=float32>"
      ]
     },
     "execution_count": 9,
     "metadata": {},
     "output_type": "execute_result"
    }
   ],
   "source": [
    "pool2 = tf.layers.max_pooling2d(inputs=conv2, pool_size=[2,2], strides=2)\n",
    "pool2"
   ]
  },
  {
   "cell_type": "code",
   "execution_count": 10,
   "metadata": {
    "collapsed": false
   },
   "outputs": [
    {
     "data": {
      "text/plain": [
       "<tf.Tensor 'Reshape_1:0' shape=(?, 3136) dtype=float32>"
      ]
     },
     "execution_count": 10,
     "metadata": {},
     "output_type": "execute_result"
    }
   ],
   "source": [
    "pool2_flat = tf.reshape(pool2, [-1, pool2.shape[1].value*pool2.shape[2].value*pool2.shape[3].value])\n",
    "pool2_flat"
   ]
  },
  {
   "cell_type": "code",
   "execution_count": 11,
   "metadata": {
    "collapsed": false
   },
   "outputs": [
    {
     "data": {
      "text/plain": [
       "<tf.Tensor 'dense/Relu:0' shape=(?, 1024) dtype=float32>"
      ]
     },
     "execution_count": 11,
     "metadata": {},
     "output_type": "execute_result"
    }
   ],
   "source": [
    "dense1 = tf.layers.dense(inputs=pool2_flat, units=1024, activation=tf.nn.relu)\n",
    "dense1"
   ]
  },
  {
   "cell_type": "code",
   "execution_count": 12,
   "metadata": {
    "collapsed": false
   },
   "outputs": [
    {
     "data": {
      "text/plain": [
       "<tf.Tensor 'dense_2/Softmax:0' shape=(?, 10) dtype=float32>"
      ]
     },
     "execution_count": 12,
     "metadata": {},
     "output_type": "execute_result"
    }
   ],
   "source": [
    "dense2 = tf.layers.dense(inputs=dense1, units=10, activation=tf.nn.softmax)\n",
    "dense2"
   ]
  },
  {
   "cell_type": "code",
   "execution_count": 13,
   "metadata": {
    "collapsed": true
   },
   "outputs": [],
   "source": [
    "cross_entropy = - tf.reduce_sum(y_answer*tf.log(dense2)) # 크로스 엔트로피 방식으로 오차값을 선정\n",
    "train_step = tf.train.AdamOptimizer(1e-4).minimize(cross_entropy)\n",
    "correct_prediction = tf.equal(tf.argmax(dense2, 1), tf.argmax(y_answer, 1))\n",
    "accuracy = tf.reduce_mean(tf.cast(correct_prediction, 'float'))"
   ]
  },
  {
   "cell_type": "code",
   "execution_count": 14,
   "metadata": {
    "collapsed": false
   },
   "outputs": [
    {
     "data": {
      "text/plain": [
       "<tensorflow.python.training.saver.Saver at 0x273859622e8>"
      ]
     },
     "execution_count": 14,
     "metadata": {},
     "output_type": "execute_result"
    }
   ],
   "source": [
    "saver = tf.train.Saver()\n",
    "saver"
   ]
  },
  {
   "cell_type": "code",
   "execution_count": 15,
   "metadata": {
    "collapsed": false
   },
   "outputs": [
    {
     "data": {
      "text/plain": [
       "['init',\n",
       " 'x_data',\n",
       " 'y_labels',\n",
       " 'Reshape/shape',\n",
       " 'Reshape',\n",
       " 'convolution_1/kernel/Initializer/random_uniform/shape',\n",
       " 'convolution_1/kernel/Initializer/random_uniform/min',\n",
       " 'convolution_1/kernel/Initializer/random_uniform/max',\n",
       " 'convolution_1/kernel/Initializer/random_uniform/RandomUniform',\n",
       " 'convolution_1/kernel/Initializer/random_uniform/sub',\n",
       " 'convolution_1/kernel/Initializer/random_uniform/mul',\n",
       " 'convolution_1/kernel/Initializer/random_uniform',\n",
       " 'convolution_1/kernel',\n",
       " 'convolution_1/kernel/Assign',\n",
       " 'convolution_1/kernel/read',\n",
       " 'convolution_1/bias/Initializer/Const',\n",
       " 'convolution_1/bias',\n",
       " 'convolution_1/bias/Assign',\n",
       " 'convolution_1/bias/read',\n",
       " 'convolution_1/convolution/Shape',\n",
       " 'convolution_1/convolution/dilation_rate',\n",
       " 'convolution_1/convolution',\n",
       " 'convolution_1/BiasAdd',\n",
       " 'convolution_1/Relu',\n",
       " 'max_pooling2d/MaxPool',\n",
       " 'convolution_2/kernel/Initializer/random_uniform/shape',\n",
       " 'convolution_2/kernel/Initializer/random_uniform/min',\n",
       " 'convolution_2/kernel/Initializer/random_uniform/max',\n",
       " 'convolution_2/kernel/Initializer/random_uniform/RandomUniform',\n",
       " 'convolution_2/kernel/Initializer/random_uniform/sub',\n",
       " 'convolution_2/kernel/Initializer/random_uniform/mul',\n",
       " 'convolution_2/kernel/Initializer/random_uniform',\n",
       " 'convolution_2/kernel',\n",
       " 'convolution_2/kernel/Assign',\n",
       " 'convolution_2/kernel/read',\n",
       " 'convolution_2/bias/Initializer/Const',\n",
       " 'convolution_2/bias',\n",
       " 'convolution_2/bias/Assign',\n",
       " 'convolution_2/bias/read',\n",
       " 'convolution_2/convolution/Shape',\n",
       " 'convolution_2/convolution/dilation_rate',\n",
       " 'convolution_2/convolution',\n",
       " 'convolution_2/BiasAdd',\n",
       " 'convolution_2/Relu',\n",
       " 'max_pooling2d_2/MaxPool',\n",
       " 'Reshape_1/shape',\n",
       " 'Reshape_1',\n",
       " 'dense/kernel/Initializer/random_uniform/shape',\n",
       " 'dense/kernel/Initializer/random_uniform/min',\n",
       " 'dense/kernel/Initializer/random_uniform/max',\n",
       " 'dense/kernel/Initializer/random_uniform/RandomUniform',\n",
       " 'dense/kernel/Initializer/random_uniform/sub',\n",
       " 'dense/kernel/Initializer/random_uniform/mul',\n",
       " 'dense/kernel/Initializer/random_uniform',\n",
       " 'dense/kernel',\n",
       " 'dense/kernel/Assign',\n",
       " 'dense/kernel/read',\n",
       " 'dense/bias/Initializer/Const',\n",
       " 'dense/bias',\n",
       " 'dense/bias/Assign',\n",
       " 'dense/bias/read',\n",
       " 'dense/MatMul',\n",
       " 'dense/BiasAdd',\n",
       " 'dense/Relu',\n",
       " 'dense_1/kernel/Initializer/random_uniform/shape',\n",
       " 'dense_1/kernel/Initializer/random_uniform/min',\n",
       " 'dense_1/kernel/Initializer/random_uniform/max',\n",
       " 'dense_1/kernel/Initializer/random_uniform/RandomUniform',\n",
       " 'dense_1/kernel/Initializer/random_uniform/sub',\n",
       " 'dense_1/kernel/Initializer/random_uniform/mul',\n",
       " 'dense_1/kernel/Initializer/random_uniform',\n",
       " 'dense_1/kernel',\n",
       " 'dense_1/kernel/Assign',\n",
       " 'dense_1/kernel/read',\n",
       " 'dense_1/bias/Initializer/Const',\n",
       " 'dense_1/bias',\n",
       " 'dense_1/bias/Assign',\n",
       " 'dense_1/bias/read',\n",
       " 'dense_2/MatMul',\n",
       " 'dense_2/BiasAdd',\n",
       " 'dense_2/Softmax',\n",
       " 'Log',\n",
       " 'mul',\n",
       " 'Const',\n",
       " 'Sum',\n",
       " 'Neg',\n",
       " 'gradients/Shape',\n",
       " 'gradients/Const',\n",
       " 'gradients/Fill',\n",
       " 'gradients/Neg_grad/Neg',\n",
       " 'gradients/Sum_grad/Reshape/shape',\n",
       " 'gradients/Sum_grad/Reshape',\n",
       " 'gradients/Sum_grad/Shape',\n",
       " 'gradients/Sum_grad/Tile',\n",
       " 'gradients/mul_grad/Shape',\n",
       " 'gradients/mul_grad/Shape_1',\n",
       " 'gradients/mul_grad/BroadcastGradientArgs',\n",
       " 'gradients/mul_grad/mul',\n",
       " 'gradients/mul_grad/Sum',\n",
       " 'gradients/mul_grad/Reshape',\n",
       " 'gradients/mul_grad/mul_1',\n",
       " 'gradients/mul_grad/Sum_1',\n",
       " 'gradients/mul_grad/Reshape_1',\n",
       " 'gradients/mul_grad/tuple/group_deps',\n",
       " 'gradients/mul_grad/tuple/control_dependency',\n",
       " 'gradients/mul_grad/tuple/control_dependency_1',\n",
       " 'gradients/Log_grad/Reciprocal',\n",
       " 'gradients/Log_grad/mul',\n",
       " 'gradients/dense_2/Softmax_grad/mul',\n",
       " 'gradients/dense_2/Softmax_grad/Sum/reduction_indices',\n",
       " 'gradients/dense_2/Softmax_grad/Sum',\n",
       " 'gradients/dense_2/Softmax_grad/Reshape/shape',\n",
       " 'gradients/dense_2/Softmax_grad/Reshape',\n",
       " 'gradients/dense_2/Softmax_grad/sub',\n",
       " 'gradients/dense_2/Softmax_grad/mul_1',\n",
       " 'gradients/dense_2/BiasAdd_grad/BiasAddGrad',\n",
       " 'gradients/dense_2/BiasAdd_grad/tuple/group_deps',\n",
       " 'gradients/dense_2/BiasAdd_grad/tuple/control_dependency',\n",
       " 'gradients/dense_2/BiasAdd_grad/tuple/control_dependency_1',\n",
       " 'gradients/dense_2/MatMul_grad/MatMul',\n",
       " 'gradients/dense_2/MatMul_grad/MatMul_1',\n",
       " 'gradients/dense_2/MatMul_grad/tuple/group_deps',\n",
       " 'gradients/dense_2/MatMul_grad/tuple/control_dependency',\n",
       " 'gradients/dense_2/MatMul_grad/tuple/control_dependency_1',\n",
       " 'gradients/dense/Relu_grad/ReluGrad',\n",
       " 'gradients/dense/BiasAdd_grad/BiasAddGrad',\n",
       " 'gradients/dense/BiasAdd_grad/tuple/group_deps',\n",
       " 'gradients/dense/BiasAdd_grad/tuple/control_dependency',\n",
       " 'gradients/dense/BiasAdd_grad/tuple/control_dependency_1',\n",
       " 'gradients/dense/MatMul_grad/MatMul',\n",
       " 'gradients/dense/MatMul_grad/MatMul_1',\n",
       " 'gradients/dense/MatMul_grad/tuple/group_deps',\n",
       " 'gradients/dense/MatMul_grad/tuple/control_dependency',\n",
       " 'gradients/dense/MatMul_grad/tuple/control_dependency_1',\n",
       " 'gradients/Reshape_1_grad/Shape',\n",
       " 'gradients/Reshape_1_grad/Reshape',\n",
       " 'gradients/max_pooling2d_2/MaxPool_grad/MaxPoolGrad',\n",
       " 'gradients/convolution_2/Relu_grad/ReluGrad',\n",
       " 'gradients/convolution_2/BiasAdd_grad/BiasAddGrad',\n",
       " 'gradients/convolution_2/BiasAdd_grad/tuple/group_deps',\n",
       " 'gradients/convolution_2/BiasAdd_grad/tuple/control_dependency',\n",
       " 'gradients/convolution_2/BiasAdd_grad/tuple/control_dependency_1',\n",
       " 'gradients/convolution_2/convolution_grad/Shape',\n",
       " 'gradients/convolution_2/convolution_grad/Conv2DBackpropInput',\n",
       " 'gradients/convolution_2/convolution_grad/Shape_1',\n",
       " 'gradients/convolution_2/convolution_grad/Conv2DBackpropFilter',\n",
       " 'gradients/convolution_2/convolution_grad/tuple/group_deps',\n",
       " 'gradients/convolution_2/convolution_grad/tuple/control_dependency',\n",
       " 'gradients/convolution_2/convolution_grad/tuple/control_dependency_1',\n",
       " 'beta1_power/initial_value',\n",
       " 'beta1_power',\n",
       " 'beta1_power/Assign',\n",
       " 'beta1_power/read',\n",
       " 'beta2_power/initial_value',\n",
       " 'beta2_power',\n",
       " 'beta2_power/Assign',\n",
       " 'beta2_power/read',\n",
       " 'convolution_2/kernel/Adam/Initializer/Const',\n",
       " 'convolution_2/kernel/Adam',\n",
       " 'convolution_2/kernel/Adam/Assign',\n",
       " 'convolution_2/kernel/Adam/read',\n",
       " 'convolution_2/kernel/Adam_1/Initializer/Const',\n",
       " 'convolution_2/kernel/Adam_1',\n",
       " 'convolution_2/kernel/Adam_1/Assign',\n",
       " 'convolution_2/kernel/Adam_1/read',\n",
       " 'convolution_2/bias/Adam/Initializer/Const',\n",
       " 'convolution_2/bias/Adam',\n",
       " 'convolution_2/bias/Adam/Assign',\n",
       " 'convolution_2/bias/Adam/read',\n",
       " 'convolution_2/bias/Adam_1/Initializer/Const',\n",
       " 'convolution_2/bias/Adam_1',\n",
       " 'convolution_2/bias/Adam_1/Assign',\n",
       " 'convolution_2/bias/Adam_1/read',\n",
       " 'dense/kernel/Adam/Initializer/Const',\n",
       " 'dense/kernel/Adam',\n",
       " 'dense/kernel/Adam/Assign',\n",
       " 'dense/kernel/Adam/read',\n",
       " 'dense/kernel/Adam_1/Initializer/Const',\n",
       " 'dense/kernel/Adam_1',\n",
       " 'dense/kernel/Adam_1/Assign',\n",
       " 'dense/kernel/Adam_1/read',\n",
       " 'dense/bias/Adam/Initializer/Const',\n",
       " 'dense/bias/Adam',\n",
       " 'dense/bias/Adam/Assign',\n",
       " 'dense/bias/Adam/read',\n",
       " 'dense/bias/Adam_1/Initializer/Const',\n",
       " 'dense/bias/Adam_1',\n",
       " 'dense/bias/Adam_1/Assign',\n",
       " 'dense/bias/Adam_1/read',\n",
       " 'dense_1/kernel/Adam/Initializer/Const',\n",
       " 'dense_1/kernel/Adam',\n",
       " 'dense_1/kernel/Adam/Assign',\n",
       " 'dense_1/kernel/Adam/read',\n",
       " 'dense_1/kernel/Adam_1/Initializer/Const',\n",
       " 'dense_1/kernel/Adam_1',\n",
       " 'dense_1/kernel/Adam_1/Assign',\n",
       " 'dense_1/kernel/Adam_1/read',\n",
       " 'dense_1/bias/Adam/Initializer/Const',\n",
       " 'dense_1/bias/Adam',\n",
       " 'dense_1/bias/Adam/Assign',\n",
       " 'dense_1/bias/Adam/read',\n",
       " 'dense_1/bias/Adam_1/Initializer/Const',\n",
       " 'dense_1/bias/Adam_1',\n",
       " 'dense_1/bias/Adam_1/Assign',\n",
       " 'dense_1/bias/Adam_1/read',\n",
       " 'Adam/learning_rate',\n",
       " 'Adam/beta1',\n",
       " 'Adam/beta2',\n",
       " 'Adam/epsilon',\n",
       " 'Adam/update_convolution_2/kernel/ApplyAdam',\n",
       " 'Adam/update_convolution_2/bias/ApplyAdam',\n",
       " 'Adam/update_dense/kernel/ApplyAdam',\n",
       " 'Adam/update_dense/bias/ApplyAdam',\n",
       " 'Adam/update_dense_1/kernel/ApplyAdam',\n",
       " 'Adam/update_dense_1/bias/ApplyAdam',\n",
       " 'Adam/mul',\n",
       " 'Adam/Assign',\n",
       " 'Adam/mul_1',\n",
       " 'Adam/Assign_1',\n",
       " 'Adam',\n",
       " 'ArgMax/dimension',\n",
       " 'ArgMax',\n",
       " 'ArgMax_1/dimension',\n",
       " 'ArgMax_1',\n",
       " 'Equal',\n",
       " 'Cast',\n",
       " 'Const_1',\n",
       " 'Mean',\n",
       " 'save/Const',\n",
       " 'save/SaveV2/tensor_names',\n",
       " 'save/SaveV2/shape_and_slices',\n",
       " 'save/SaveV2',\n",
       " 'save/control_dependency',\n",
       " 'save/RestoreV2/tensor_names',\n",
       " 'save/RestoreV2/shape_and_slices',\n",
       " 'save/RestoreV2',\n",
       " 'save/Assign',\n",
       " 'save/RestoreV2_1/tensor_names',\n",
       " 'save/RestoreV2_1/shape_and_slices',\n",
       " 'save/RestoreV2_1',\n",
       " 'save/Assign_1',\n",
       " 'save/RestoreV2_2/tensor_names',\n",
       " 'save/RestoreV2_2/shape_and_slices',\n",
       " 'save/RestoreV2_2',\n",
       " 'save/Assign_2',\n",
       " 'save/RestoreV2_3/tensor_names',\n",
       " 'save/RestoreV2_3/shape_and_slices',\n",
       " 'save/RestoreV2_3',\n",
       " 'save/Assign_3',\n",
       " 'save/RestoreV2_4/tensor_names',\n",
       " 'save/RestoreV2_4/shape_and_slices',\n",
       " 'save/RestoreV2_4',\n",
       " 'save/Assign_4',\n",
       " 'save/RestoreV2_5/tensor_names',\n",
       " 'save/RestoreV2_5/shape_and_slices',\n",
       " 'save/RestoreV2_5',\n",
       " 'save/Assign_5',\n",
       " 'save/RestoreV2_6/tensor_names',\n",
       " 'save/RestoreV2_6/shape_and_slices',\n",
       " 'save/RestoreV2_6',\n",
       " 'save/Assign_6',\n",
       " 'save/RestoreV2_7/tensor_names',\n",
       " 'save/RestoreV2_7/shape_and_slices',\n",
       " 'save/RestoreV2_7',\n",
       " 'save/Assign_7',\n",
       " 'save/RestoreV2_8/tensor_names',\n",
       " 'save/RestoreV2_8/shape_and_slices',\n",
       " 'save/RestoreV2_8',\n",
       " 'save/Assign_8',\n",
       " 'save/RestoreV2_9/tensor_names',\n",
       " 'save/RestoreV2_9/shape_and_slices',\n",
       " 'save/RestoreV2_9',\n",
       " 'save/Assign_9',\n",
       " 'save/RestoreV2_10/tensor_names',\n",
       " 'save/RestoreV2_10/shape_and_slices',\n",
       " 'save/RestoreV2_10',\n",
       " 'save/Assign_10',\n",
       " 'save/RestoreV2_11/tensor_names',\n",
       " 'save/RestoreV2_11/shape_and_slices',\n",
       " 'save/RestoreV2_11',\n",
       " 'save/Assign_11',\n",
       " 'save/RestoreV2_12/tensor_names',\n",
       " 'save/RestoreV2_12/shape_and_slices',\n",
       " 'save/RestoreV2_12',\n",
       " 'save/Assign_12',\n",
       " 'save/RestoreV2_13/tensor_names',\n",
       " 'save/RestoreV2_13/shape_and_slices',\n",
       " 'save/RestoreV2_13',\n",
       " 'save/Assign_13',\n",
       " 'save/RestoreV2_14/tensor_names',\n",
       " 'save/RestoreV2_14/shape_and_slices',\n",
       " 'save/RestoreV2_14',\n",
       " 'save/Assign_14',\n",
       " 'save/RestoreV2_15/tensor_names',\n",
       " 'save/RestoreV2_15/shape_and_slices',\n",
       " 'save/RestoreV2_15',\n",
       " 'save/Assign_15',\n",
       " 'save/RestoreV2_16/tensor_names',\n",
       " 'save/RestoreV2_16/shape_and_slices',\n",
       " 'save/RestoreV2_16',\n",
       " 'save/Assign_16',\n",
       " 'save/RestoreV2_17/tensor_names',\n",
       " 'save/RestoreV2_17/shape_and_slices',\n",
       " 'save/RestoreV2_17',\n",
       " 'save/Assign_17',\n",
       " 'save/RestoreV2_18/tensor_names',\n",
       " 'save/RestoreV2_18/shape_and_slices',\n",
       " 'save/RestoreV2_18',\n",
       " 'save/Assign_18',\n",
       " 'save/RestoreV2_19/tensor_names',\n",
       " 'save/RestoreV2_19/shape_and_slices',\n",
       " 'save/RestoreV2_19',\n",
       " 'save/Assign_19',\n",
       " 'save/RestoreV2_20/tensor_names',\n",
       " 'save/RestoreV2_20/shape_and_slices',\n",
       " 'save/RestoreV2_20',\n",
       " 'save/Assign_20',\n",
       " 'save/RestoreV2_21/tensor_names',\n",
       " 'save/RestoreV2_21/shape_and_slices',\n",
       " 'save/RestoreV2_21',\n",
       " 'save/Assign_21',\n",
       " 'save/restore_all']"
      ]
     },
     "execution_count": 15,
     "metadata": {},
     "output_type": "execute_result"
    }
   ],
   "source": [
    "[n.name for n in tf.get_default_graph().as_graph_def().node]"
   ]
  },
  {
   "cell_type": "code",
   "execution_count": 16,
   "metadata": {
    "collapsed": false
   },
   "outputs": [
    {
     "name": "stdout",
     "output_type": "stream",
     "text": [
      "INFO:tensorflow:Restoring parameters from mnist_ckpt/total-layers-model\n"
     ]
    },
    {
     "ename": "NotFoundError",
     "evalue": "Key convolution_2/bias/Adam not found in checkpoint\n\t [[Node: save/RestoreV2_5 = RestoreV2[dtypes=[DT_FLOAT], _device=\"/job:localhost/replica:0/task:0/cpu:0\"](_recv_save/Const_0, save/RestoreV2_5/tensor_names, save/RestoreV2_5/shape_and_slices)]]\n\t [[Node: save/RestoreV2_3/_43 = _Recv[client_terminated=false, recv_device=\"/job:localhost/replica:0/task:0/gpu:0\", send_device=\"/job:localhost/replica:0/task:0/cpu:0\", send_device_incarnation=1, tensor_name=\"edge_180_save/RestoreV2_3\", tensor_type=DT_FLOAT, _device=\"/job:localhost/replica:0/task:0/gpu:0\"]()]]\n\nCaused by op 'save/RestoreV2_5', defined at:\n  File \"C:\\Users\\SoMa\\Anaconda3\\envs\\venvJupyter\\lib\\runpy.py\", line 193, in _run_module_as_main\n    \"__main__\", mod_spec)\n  File \"C:\\Users\\SoMa\\Anaconda3\\envs\\venvJupyter\\lib\\runpy.py\", line 85, in _run_code\n    exec(code, run_globals)\n  File \"C:\\Users\\SoMa\\Anaconda3\\envs\\venvJupyter\\lib\\site-packages\\ipykernel\\__main__.py\", line 3, in <module>\n    app.launch_new_instance()\n  File \"C:\\Users\\SoMa\\Anaconda3\\envs\\venvJupyter\\lib\\site-packages\\traitlets\\config\\application.py\", line 658, in launch_instance\n    app.start()\n  File \"C:\\Users\\SoMa\\Anaconda3\\envs\\venvJupyter\\lib\\site-packages\\ipykernel\\kernelapp.py\", line 474, in start\n    ioloop.IOLoop.instance().start()\n  File \"C:\\Users\\SoMa\\Anaconda3\\envs\\venvJupyter\\lib\\site-packages\\zmq\\eventloop\\ioloop.py\", line 177, in start\n    super(ZMQIOLoop, self).start()\n  File \"C:\\Users\\SoMa\\Anaconda3\\envs\\venvJupyter\\lib\\site-packages\\tornado\\ioloop.py\", line 887, in start\n    handler_func(fd_obj, events)\n  File \"C:\\Users\\SoMa\\Anaconda3\\envs\\venvJupyter\\lib\\site-packages\\tornado\\stack_context.py\", line 275, in null_wrapper\n    return fn(*args, **kwargs)\n  File \"C:\\Users\\SoMa\\Anaconda3\\envs\\venvJupyter\\lib\\site-packages\\zmq\\eventloop\\zmqstream.py\", line 440, in _handle_events\n    self._handle_recv()\n  File \"C:\\Users\\SoMa\\Anaconda3\\envs\\venvJupyter\\lib\\site-packages\\zmq\\eventloop\\zmqstream.py\", line 472, in _handle_recv\n    self._run_callback(callback, msg)\n  File \"C:\\Users\\SoMa\\Anaconda3\\envs\\venvJupyter\\lib\\site-packages\\zmq\\eventloop\\zmqstream.py\", line 414, in _run_callback\n    callback(*args, **kwargs)\n  File \"C:\\Users\\SoMa\\Anaconda3\\envs\\venvJupyter\\lib\\site-packages\\tornado\\stack_context.py\", line 275, in null_wrapper\n    return fn(*args, **kwargs)\n  File \"C:\\Users\\SoMa\\Anaconda3\\envs\\venvJupyter\\lib\\site-packages\\ipykernel\\kernelbase.py\", line 276, in dispatcher\n    return self.dispatch_shell(stream, msg)\n  File \"C:\\Users\\SoMa\\Anaconda3\\envs\\venvJupyter\\lib\\site-packages\\ipykernel\\kernelbase.py\", line 228, in dispatch_shell\n    handler(stream, idents, msg)\n  File \"C:\\Users\\SoMa\\Anaconda3\\envs\\venvJupyter\\lib\\site-packages\\ipykernel\\kernelbase.py\", line 390, in execute_request\n    user_expressions, allow_stdin)\n  File \"C:\\Users\\SoMa\\Anaconda3\\envs\\venvJupyter\\lib\\site-packages\\ipykernel\\ipkernel.py\", line 196, in do_execute\n    res = shell.run_cell(code, store_history=store_history, silent=silent)\n  File \"C:\\Users\\SoMa\\Anaconda3\\envs\\venvJupyter\\lib\\site-packages\\ipykernel\\zmqshell.py\", line 501, in run_cell\n    return super(ZMQInteractiveShell, self).run_cell(*args, **kwargs)\n  File \"C:\\Users\\SoMa\\Anaconda3\\envs\\venvJupyter\\lib\\site-packages\\IPython\\core\\interactiveshell.py\", line 2717, in run_cell\n    interactivity=interactivity, compiler=compiler, result=result)\n  File \"C:\\Users\\SoMa\\Anaconda3\\envs\\venvJupyter\\lib\\site-packages\\IPython\\core\\interactiveshell.py\", line 2821, in run_ast_nodes\n    if self.run_code(code, result):\n  File \"C:\\Users\\SoMa\\Anaconda3\\envs\\venvJupyter\\lib\\site-packages\\IPython\\core\\interactiveshell.py\", line 2881, in run_code\n    exec(code_obj, self.user_global_ns, self.user_ns)\n  File \"<ipython-input-14-400fc554a718>\", line 1, in <module>\n    saver = tf.train.Saver()\n  File \"C:\\Users\\SoMa\\Anaconda3\\envs\\venvJupyter\\lib\\site-packages\\tensorflow\\python\\training\\saver.py\", line 1056, in __init__\n    self.build()\n  File \"C:\\Users\\SoMa\\Anaconda3\\envs\\venvJupyter\\lib\\site-packages\\tensorflow\\python\\training\\saver.py\", line 1086, in build\n    restore_sequentially=self._restore_sequentially)\n  File \"C:\\Users\\SoMa\\Anaconda3\\envs\\venvJupyter\\lib\\site-packages\\tensorflow\\python\\training\\saver.py\", line 691, in build\n    restore_sequentially, reshape)\n  File \"C:\\Users\\SoMa\\Anaconda3\\envs\\venvJupyter\\lib\\site-packages\\tensorflow\\python\\training\\saver.py\", line 407, in _AddRestoreOps\n    tensors = self.restore_op(filename_tensor, saveable, preferred_shard)\n  File \"C:\\Users\\SoMa\\Anaconda3\\envs\\venvJupyter\\lib\\site-packages\\tensorflow\\python\\training\\saver.py\", line 247, in restore_op\n    [spec.tensor.dtype])[0])\n  File \"C:\\Users\\SoMa\\Anaconda3\\envs\\venvJupyter\\lib\\site-packages\\tensorflow\\python\\ops\\gen_io_ops.py\", line 669, in restore_v2\n    dtypes=dtypes, name=name)\n  File \"C:\\Users\\SoMa\\Anaconda3\\envs\\venvJupyter\\lib\\site-packages\\tensorflow\\python\\framework\\op_def_library.py\", line 768, in apply_op\n    op_def=op_def)\n  File \"C:\\Users\\SoMa\\Anaconda3\\envs\\venvJupyter\\lib\\site-packages\\tensorflow\\python\\framework\\ops.py\", line 2336, in create_op\n    original_op=self._default_original_op, op_def=op_def)\n  File \"C:\\Users\\SoMa\\Anaconda3\\envs\\venvJupyter\\lib\\site-packages\\tensorflow\\python\\framework\\ops.py\", line 1228, in __init__\n    self._traceback = _extract_stack()\n\nNotFoundError (see above for traceback): Key convolution_2/bias/Adam not found in checkpoint\n\t [[Node: save/RestoreV2_5 = RestoreV2[dtypes=[DT_FLOAT], _device=\"/job:localhost/replica:0/task:0/cpu:0\"](_recv_save/Const_0, save/RestoreV2_5/tensor_names, save/RestoreV2_5/shape_and_slices)]]\n\t [[Node: save/RestoreV2_3/_43 = _Recv[client_terminated=false, recv_device=\"/job:localhost/replica:0/task:0/gpu:0\", send_device=\"/job:localhost/replica:0/task:0/cpu:0\", send_device_incarnation=1, tensor_name=\"edge_180_save/RestoreV2_3\", tensor_type=DT_FLOAT, _device=\"/job:localhost/replica:0/task:0/gpu:0\"]()]]\n",
     "output_type": "error",
     "traceback": [
      "\u001b[1;31m---------------------------------------------------------------------------\u001b[0m",
      "\u001b[1;31mNotFoundError\u001b[0m                             Traceback (most recent call last)",
      "\u001b[1;32mC:\\Users\\SoMa\\Anaconda3\\envs\\venvJupyter\\lib\\site-packages\\tensorflow\\python\\client\\session.py\u001b[0m in \u001b[0;36m_do_call\u001b[1;34m(self, fn, *args)\u001b[0m\n\u001b[0;32m   1038\u001b[0m     \u001b[1;32mtry\u001b[0m\u001b[1;33m:\u001b[0m\u001b[1;33m\u001b[0m\u001b[0m\n\u001b[1;32m-> 1039\u001b[1;33m       \u001b[1;32mreturn\u001b[0m \u001b[0mfn\u001b[0m\u001b[1;33m(\u001b[0m\u001b[1;33m*\u001b[0m\u001b[0margs\u001b[0m\u001b[1;33m)\u001b[0m\u001b[1;33m\u001b[0m\u001b[0m\n\u001b[0m\u001b[0;32m   1040\u001b[0m     \u001b[1;32mexcept\u001b[0m \u001b[0merrors\u001b[0m\u001b[1;33m.\u001b[0m\u001b[0mOpError\u001b[0m \u001b[1;32mas\u001b[0m \u001b[0me\u001b[0m\u001b[1;33m:\u001b[0m\u001b[1;33m\u001b[0m\u001b[0m\n",
      "\u001b[1;32mC:\\Users\\SoMa\\Anaconda3\\envs\\venvJupyter\\lib\\site-packages\\tensorflow\\python\\client\\session.py\u001b[0m in \u001b[0;36m_run_fn\u001b[1;34m(session, feed_dict, fetch_list, target_list, options, run_metadata)\u001b[0m\n\u001b[0;32m   1020\u001b[0m                                  \u001b[0mfeed_dict\u001b[0m\u001b[1;33m,\u001b[0m \u001b[0mfetch_list\u001b[0m\u001b[1;33m,\u001b[0m \u001b[0mtarget_list\u001b[0m\u001b[1;33m,\u001b[0m\u001b[1;33m\u001b[0m\u001b[0m\n\u001b[1;32m-> 1021\u001b[1;33m                                  status, run_metadata)\n\u001b[0m\u001b[0;32m   1022\u001b[0m \u001b[1;33m\u001b[0m\u001b[0m\n",
      "\u001b[1;32mC:\\Users\\SoMa\\Anaconda3\\envs\\venvJupyter\\lib\\contextlib.py\u001b[0m in \u001b[0;36m__exit__\u001b[1;34m(self, type, value, traceback)\u001b[0m\n\u001b[0;32m     65\u001b[0m             \u001b[1;32mtry\u001b[0m\u001b[1;33m:\u001b[0m\u001b[1;33m\u001b[0m\u001b[0m\n\u001b[1;32m---> 66\u001b[1;33m                 \u001b[0mnext\u001b[0m\u001b[1;33m(\u001b[0m\u001b[0mself\u001b[0m\u001b[1;33m.\u001b[0m\u001b[0mgen\u001b[0m\u001b[1;33m)\u001b[0m\u001b[1;33m\u001b[0m\u001b[0m\n\u001b[0m\u001b[0;32m     67\u001b[0m             \u001b[1;32mexcept\u001b[0m \u001b[0mStopIteration\u001b[0m\u001b[1;33m:\u001b[0m\u001b[1;33m\u001b[0m\u001b[0m\n",
      "\u001b[1;32mC:\\Users\\SoMa\\Anaconda3\\envs\\venvJupyter\\lib\\site-packages\\tensorflow\\python\\framework\\errors_impl.py\u001b[0m in \u001b[0;36mraise_exception_on_not_ok_status\u001b[1;34m()\u001b[0m\n\u001b[0;32m    465\u001b[0m           \u001b[0mcompat\u001b[0m\u001b[1;33m.\u001b[0m\u001b[0mas_text\u001b[0m\u001b[1;33m(\u001b[0m\u001b[0mpywrap_tensorflow\u001b[0m\u001b[1;33m.\u001b[0m\u001b[0mTF_Message\u001b[0m\u001b[1;33m(\u001b[0m\u001b[0mstatus\u001b[0m\u001b[1;33m)\u001b[0m\u001b[1;33m)\u001b[0m\u001b[1;33m,\u001b[0m\u001b[1;33m\u001b[0m\u001b[0m\n\u001b[1;32m--> 466\u001b[1;33m           pywrap_tensorflow.TF_GetCode(status))\n\u001b[0m\u001b[0;32m    467\u001b[0m   \u001b[1;32mfinally\u001b[0m\u001b[1;33m:\u001b[0m\u001b[1;33m\u001b[0m\u001b[0m\n",
      "\u001b[1;31mNotFoundError\u001b[0m: Key convolution_2/bias/Adam not found in checkpoint\n\t [[Node: save/RestoreV2_5 = RestoreV2[dtypes=[DT_FLOAT], _device=\"/job:localhost/replica:0/task:0/cpu:0\"](_recv_save/Const_0, save/RestoreV2_5/tensor_names, save/RestoreV2_5/shape_and_slices)]]\n\t [[Node: save/RestoreV2_3/_43 = _Recv[client_terminated=false, recv_device=\"/job:localhost/replica:0/task:0/gpu:0\", send_device=\"/job:localhost/replica:0/task:0/cpu:0\", send_device_incarnation=1, tensor_name=\"edge_180_save/RestoreV2_3\", tensor_type=DT_FLOAT, _device=\"/job:localhost/replica:0/task:0/gpu:0\"]()]]",
      "\nDuring handling of the above exception, another exception occurred:\n",
      "\u001b[1;31mNotFoundError\u001b[0m                             Traceback (most recent call last)",
      "\u001b[1;32m<ipython-input-16-8446c75475b0>\u001b[0m in \u001b[0;36m<module>\u001b[1;34m()\u001b[0m\n\u001b[1;32m----> 1\u001b[1;33m \u001b[0msaver\u001b[0m\u001b[1;33m.\u001b[0m\u001b[0mrestore\u001b[0m\u001b[1;33m(\u001b[0m\u001b[0msess\u001b[0m\u001b[1;33m,\u001b[0m \u001b[1;34m'mnist_ckpt/total-layers-model'\u001b[0m\u001b[1;33m)\u001b[0m\u001b[1;33m\u001b[0m\u001b[0m\n\u001b[0m",
      "\u001b[1;32mC:\\Users\\SoMa\\Anaconda3\\envs\\venvJupyter\\lib\\site-packages\\tensorflow\\python\\training\\saver.py\u001b[0m in \u001b[0;36mrestore\u001b[1;34m(self, sess, save_path)\u001b[0m\n\u001b[0;32m   1455\u001b[0m     \u001b[0mlogging\u001b[0m\u001b[1;33m.\u001b[0m\u001b[0minfo\u001b[0m\u001b[1;33m(\u001b[0m\u001b[1;34m\"Restoring parameters from %s\"\u001b[0m\u001b[1;33m,\u001b[0m \u001b[0msave_path\u001b[0m\u001b[1;33m)\u001b[0m\u001b[1;33m\u001b[0m\u001b[0m\n\u001b[0;32m   1456\u001b[0m     sess.run(self.saver_def.restore_op_name,\n\u001b[1;32m-> 1457\u001b[1;33m              {self.saver_def.filename_tensor_name: save_path})\n\u001b[0m\u001b[0;32m   1458\u001b[0m \u001b[1;33m\u001b[0m\u001b[0m\n\u001b[0;32m   1459\u001b[0m   \u001b[1;33m@\u001b[0m\u001b[0mstaticmethod\u001b[0m\u001b[1;33m\u001b[0m\u001b[0m\n",
      "\u001b[1;32mC:\\Users\\SoMa\\Anaconda3\\envs\\venvJupyter\\lib\\site-packages\\tensorflow\\python\\client\\session.py\u001b[0m in \u001b[0;36mrun\u001b[1;34m(self, fetches, feed_dict, options, run_metadata)\u001b[0m\n\u001b[0;32m    776\u001b[0m     \u001b[1;32mtry\u001b[0m\u001b[1;33m:\u001b[0m\u001b[1;33m\u001b[0m\u001b[0m\n\u001b[0;32m    777\u001b[0m       result = self._run(None, fetches, feed_dict, options_ptr,\n\u001b[1;32m--> 778\u001b[1;33m                          run_metadata_ptr)\n\u001b[0m\u001b[0;32m    779\u001b[0m       \u001b[1;32mif\u001b[0m \u001b[0mrun_metadata\u001b[0m\u001b[1;33m:\u001b[0m\u001b[1;33m\u001b[0m\u001b[0m\n\u001b[0;32m    780\u001b[0m         \u001b[0mproto_data\u001b[0m \u001b[1;33m=\u001b[0m \u001b[0mtf_session\u001b[0m\u001b[1;33m.\u001b[0m\u001b[0mTF_GetBuffer\u001b[0m\u001b[1;33m(\u001b[0m\u001b[0mrun_metadata_ptr\u001b[0m\u001b[1;33m)\u001b[0m\u001b[1;33m\u001b[0m\u001b[0m\n",
      "\u001b[1;32mC:\\Users\\SoMa\\Anaconda3\\envs\\venvJupyter\\lib\\site-packages\\tensorflow\\python\\client\\session.py\u001b[0m in \u001b[0;36m_run\u001b[1;34m(self, handle, fetches, feed_dict, options, run_metadata)\u001b[0m\n\u001b[0;32m    980\u001b[0m     \u001b[1;32mif\u001b[0m \u001b[0mfinal_fetches\u001b[0m \u001b[1;32mor\u001b[0m \u001b[0mfinal_targets\u001b[0m\u001b[1;33m:\u001b[0m\u001b[1;33m\u001b[0m\u001b[0m\n\u001b[0;32m    981\u001b[0m       results = self._do_run(handle, final_targets, final_fetches,\n\u001b[1;32m--> 982\u001b[1;33m                              feed_dict_string, options, run_metadata)\n\u001b[0m\u001b[0;32m    983\u001b[0m     \u001b[1;32melse\u001b[0m\u001b[1;33m:\u001b[0m\u001b[1;33m\u001b[0m\u001b[0m\n\u001b[0;32m    984\u001b[0m       \u001b[0mresults\u001b[0m \u001b[1;33m=\u001b[0m \u001b[1;33m[\u001b[0m\u001b[1;33m]\u001b[0m\u001b[1;33m\u001b[0m\u001b[0m\n",
      "\u001b[1;32mC:\\Users\\SoMa\\Anaconda3\\envs\\venvJupyter\\lib\\site-packages\\tensorflow\\python\\client\\session.py\u001b[0m in \u001b[0;36m_do_run\u001b[1;34m(self, handle, target_list, fetch_list, feed_dict, options, run_metadata)\u001b[0m\n\u001b[0;32m   1030\u001b[0m     \u001b[1;32mif\u001b[0m \u001b[0mhandle\u001b[0m \u001b[1;32mis\u001b[0m \u001b[1;32mNone\u001b[0m\u001b[1;33m:\u001b[0m\u001b[1;33m\u001b[0m\u001b[0m\n\u001b[0;32m   1031\u001b[0m       return self._do_call(_run_fn, self._session, feed_dict, fetch_list,\n\u001b[1;32m-> 1032\u001b[1;33m                            target_list, options, run_metadata)\n\u001b[0m\u001b[0;32m   1033\u001b[0m     \u001b[1;32melse\u001b[0m\u001b[1;33m:\u001b[0m\u001b[1;33m\u001b[0m\u001b[0m\n\u001b[0;32m   1034\u001b[0m       return self._do_call(_prun_fn, self._session, handle, feed_dict,\n",
      "\u001b[1;32mC:\\Users\\SoMa\\Anaconda3\\envs\\venvJupyter\\lib\\site-packages\\tensorflow\\python\\client\\session.py\u001b[0m in \u001b[0;36m_do_call\u001b[1;34m(self, fn, *args)\u001b[0m\n\u001b[0;32m   1050\u001b[0m         \u001b[1;32mexcept\u001b[0m \u001b[0mKeyError\u001b[0m\u001b[1;33m:\u001b[0m\u001b[1;33m\u001b[0m\u001b[0m\n\u001b[0;32m   1051\u001b[0m           \u001b[1;32mpass\u001b[0m\u001b[1;33m\u001b[0m\u001b[0m\n\u001b[1;32m-> 1052\u001b[1;33m       \u001b[1;32mraise\u001b[0m \u001b[0mtype\u001b[0m\u001b[1;33m(\u001b[0m\u001b[0me\u001b[0m\u001b[1;33m)\u001b[0m\u001b[1;33m(\u001b[0m\u001b[0mnode_def\u001b[0m\u001b[1;33m,\u001b[0m \u001b[0mop\u001b[0m\u001b[1;33m,\u001b[0m \u001b[0mmessage\u001b[0m\u001b[1;33m)\u001b[0m\u001b[1;33m\u001b[0m\u001b[0m\n\u001b[0m\u001b[0;32m   1053\u001b[0m \u001b[1;33m\u001b[0m\u001b[0m\n\u001b[0;32m   1054\u001b[0m   \u001b[1;32mdef\u001b[0m \u001b[0m_extend_graph\u001b[0m\u001b[1;33m(\u001b[0m\u001b[0mself\u001b[0m\u001b[1;33m)\u001b[0m\u001b[1;33m:\u001b[0m\u001b[1;33m\u001b[0m\u001b[0m\n",
      "\u001b[1;31mNotFoundError\u001b[0m: Key convolution_2/bias/Adam not found in checkpoint\n\t [[Node: save/RestoreV2_5 = RestoreV2[dtypes=[DT_FLOAT], _device=\"/job:localhost/replica:0/task:0/cpu:0\"](_recv_save/Const_0, save/RestoreV2_5/tensor_names, save/RestoreV2_5/shape_and_slices)]]\n\t [[Node: save/RestoreV2_3/_43 = _Recv[client_terminated=false, recv_device=\"/job:localhost/replica:0/task:0/gpu:0\", send_device=\"/job:localhost/replica:0/task:0/cpu:0\", send_device_incarnation=1, tensor_name=\"edge_180_save/RestoreV2_3\", tensor_type=DT_FLOAT, _device=\"/job:localhost/replica:0/task:0/gpu:0\"]()]]\n\nCaused by op 'save/RestoreV2_5', defined at:\n  File \"C:\\Users\\SoMa\\Anaconda3\\envs\\venvJupyter\\lib\\runpy.py\", line 193, in _run_module_as_main\n    \"__main__\", mod_spec)\n  File \"C:\\Users\\SoMa\\Anaconda3\\envs\\venvJupyter\\lib\\runpy.py\", line 85, in _run_code\n    exec(code, run_globals)\n  File \"C:\\Users\\SoMa\\Anaconda3\\envs\\venvJupyter\\lib\\site-packages\\ipykernel\\__main__.py\", line 3, in <module>\n    app.launch_new_instance()\n  File \"C:\\Users\\SoMa\\Anaconda3\\envs\\venvJupyter\\lib\\site-packages\\traitlets\\config\\application.py\", line 658, in launch_instance\n    app.start()\n  File \"C:\\Users\\SoMa\\Anaconda3\\envs\\venvJupyter\\lib\\site-packages\\ipykernel\\kernelapp.py\", line 474, in start\n    ioloop.IOLoop.instance().start()\n  File \"C:\\Users\\SoMa\\Anaconda3\\envs\\venvJupyter\\lib\\site-packages\\zmq\\eventloop\\ioloop.py\", line 177, in start\n    super(ZMQIOLoop, self).start()\n  File \"C:\\Users\\SoMa\\Anaconda3\\envs\\venvJupyter\\lib\\site-packages\\tornado\\ioloop.py\", line 887, in start\n    handler_func(fd_obj, events)\n  File \"C:\\Users\\SoMa\\Anaconda3\\envs\\venvJupyter\\lib\\site-packages\\tornado\\stack_context.py\", line 275, in null_wrapper\n    return fn(*args, **kwargs)\n  File \"C:\\Users\\SoMa\\Anaconda3\\envs\\venvJupyter\\lib\\site-packages\\zmq\\eventloop\\zmqstream.py\", line 440, in _handle_events\n    self._handle_recv()\n  File \"C:\\Users\\SoMa\\Anaconda3\\envs\\venvJupyter\\lib\\site-packages\\zmq\\eventloop\\zmqstream.py\", line 472, in _handle_recv\n    self._run_callback(callback, msg)\n  File \"C:\\Users\\SoMa\\Anaconda3\\envs\\venvJupyter\\lib\\site-packages\\zmq\\eventloop\\zmqstream.py\", line 414, in _run_callback\n    callback(*args, **kwargs)\n  File \"C:\\Users\\SoMa\\Anaconda3\\envs\\venvJupyter\\lib\\site-packages\\tornado\\stack_context.py\", line 275, in null_wrapper\n    return fn(*args, **kwargs)\n  File \"C:\\Users\\SoMa\\Anaconda3\\envs\\venvJupyter\\lib\\site-packages\\ipykernel\\kernelbase.py\", line 276, in dispatcher\n    return self.dispatch_shell(stream, msg)\n  File \"C:\\Users\\SoMa\\Anaconda3\\envs\\venvJupyter\\lib\\site-packages\\ipykernel\\kernelbase.py\", line 228, in dispatch_shell\n    handler(stream, idents, msg)\n  File \"C:\\Users\\SoMa\\Anaconda3\\envs\\venvJupyter\\lib\\site-packages\\ipykernel\\kernelbase.py\", line 390, in execute_request\n    user_expressions, allow_stdin)\n  File \"C:\\Users\\SoMa\\Anaconda3\\envs\\venvJupyter\\lib\\site-packages\\ipykernel\\ipkernel.py\", line 196, in do_execute\n    res = shell.run_cell(code, store_history=store_history, silent=silent)\n  File \"C:\\Users\\SoMa\\Anaconda3\\envs\\venvJupyter\\lib\\site-packages\\ipykernel\\zmqshell.py\", line 501, in run_cell\n    return super(ZMQInteractiveShell, self).run_cell(*args, **kwargs)\n  File \"C:\\Users\\SoMa\\Anaconda3\\envs\\venvJupyter\\lib\\site-packages\\IPython\\core\\interactiveshell.py\", line 2717, in run_cell\n    interactivity=interactivity, compiler=compiler, result=result)\n  File \"C:\\Users\\SoMa\\Anaconda3\\envs\\venvJupyter\\lib\\site-packages\\IPython\\core\\interactiveshell.py\", line 2821, in run_ast_nodes\n    if self.run_code(code, result):\n  File \"C:\\Users\\SoMa\\Anaconda3\\envs\\venvJupyter\\lib\\site-packages\\IPython\\core\\interactiveshell.py\", line 2881, in run_code\n    exec(code_obj, self.user_global_ns, self.user_ns)\n  File \"<ipython-input-14-400fc554a718>\", line 1, in <module>\n    saver = tf.train.Saver()\n  File \"C:\\Users\\SoMa\\Anaconda3\\envs\\venvJupyter\\lib\\site-packages\\tensorflow\\python\\training\\saver.py\", line 1056, in __init__\n    self.build()\n  File \"C:\\Users\\SoMa\\Anaconda3\\envs\\venvJupyter\\lib\\site-packages\\tensorflow\\python\\training\\saver.py\", line 1086, in build\n    restore_sequentially=self._restore_sequentially)\n  File \"C:\\Users\\SoMa\\Anaconda3\\envs\\venvJupyter\\lib\\site-packages\\tensorflow\\python\\training\\saver.py\", line 691, in build\n    restore_sequentially, reshape)\n  File \"C:\\Users\\SoMa\\Anaconda3\\envs\\venvJupyter\\lib\\site-packages\\tensorflow\\python\\training\\saver.py\", line 407, in _AddRestoreOps\n    tensors = self.restore_op(filename_tensor, saveable, preferred_shard)\n  File \"C:\\Users\\SoMa\\Anaconda3\\envs\\venvJupyter\\lib\\site-packages\\tensorflow\\python\\training\\saver.py\", line 247, in restore_op\n    [spec.tensor.dtype])[0])\n  File \"C:\\Users\\SoMa\\Anaconda3\\envs\\venvJupyter\\lib\\site-packages\\tensorflow\\python\\ops\\gen_io_ops.py\", line 669, in restore_v2\n    dtypes=dtypes, name=name)\n  File \"C:\\Users\\SoMa\\Anaconda3\\envs\\venvJupyter\\lib\\site-packages\\tensorflow\\python\\framework\\op_def_library.py\", line 768, in apply_op\n    op_def=op_def)\n  File \"C:\\Users\\SoMa\\Anaconda3\\envs\\venvJupyter\\lib\\site-packages\\tensorflow\\python\\framework\\ops.py\", line 2336, in create_op\n    original_op=self._default_original_op, op_def=op_def)\n  File \"C:\\Users\\SoMa\\Anaconda3\\envs\\venvJupyter\\lib\\site-packages\\tensorflow\\python\\framework\\ops.py\", line 1228, in __init__\n    self._traceback = _extract_stack()\n\nNotFoundError (see above for traceback): Key convolution_2/bias/Adam not found in checkpoint\n\t [[Node: save/RestoreV2_5 = RestoreV2[dtypes=[DT_FLOAT], _device=\"/job:localhost/replica:0/task:0/cpu:0\"](_recv_save/Const_0, save/RestoreV2_5/tensor_names, save/RestoreV2_5/shape_and_slices)]]\n\t [[Node: save/RestoreV2_3/_43 = _Recv[client_terminated=false, recv_device=\"/job:localhost/replica:0/task:0/gpu:0\", send_device=\"/job:localhost/replica:0/task:0/cpu:0\", send_device_incarnation=1, tensor_name=\"edge_180_save/RestoreV2_3\", tensor_type=DT_FLOAT, _device=\"/job:localhost/replica:0/task:0/gpu:0\"]()]]\n"
     ]
    }
   ],
   "source": [
    "saver.restore(sess, 'mnist_ckpt/total-layers-model')"
   ]
  },
  {
   "cell_type": "markdown",
   "metadata": {},
   "source": [
    "## 결론 : 저장(Save) 할때의 이름을 그대로 써주지 않으면, 순서대로는 동작하지 않는다."
   ]
  },
  {
   "cell_type": "code",
   "execution_count": null,
   "metadata": {
    "collapsed": true
   },
   "outputs": [],
   "source": []
  }
 ],
 "metadata": {
  "kernelspec": {
   "display_name": "Python 3",
   "language": "python",
   "name": "python3"
  },
  "language_info": {
   "codemirror_mode": {
    "name": "ipython",
    "version": 3
   },
   "file_extension": ".py",
   "mimetype": "text/x-python",
   "name": "python",
   "nbconvert_exporter": "python",
   "pygments_lexer": "ipython3",
   "version": "3.5.3"
  }
 },
 "nbformat": 4,
 "nbformat_minor": 2
}
