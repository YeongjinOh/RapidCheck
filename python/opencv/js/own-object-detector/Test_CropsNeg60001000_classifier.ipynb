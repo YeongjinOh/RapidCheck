{
 "cells": [
  {
   "cell_type": "code",
   "execution_count": 1,
   "metadata": {
    "collapsed": false
   },
   "outputs": [
    {
     "name": "stderr",
     "output_type": "stream",
     "text": [
      "Using TensorFlow backend.\n"
     ]
    }
   ],
   "source": [
    "import os\n",
    "import numpy as np\n",
    "from keras.models import Sequential\n",
    "from keras.layers import Convolution2D, MaxPooling2D, ZeroPadding2D\n",
    "from keras.layers import Activation, Dropout, Flatten, Dense\n",
    "from keras.preprocessing.image import ImageDataGenerator\n",
    "from keras import optimizers\n",
    "from keras.preprocessing import image\n",
    "from skimage.io import imshow, imread\n",
    "from skimage.transform import resize\n",
    "import glob\n",
    "import matplotlib.pyplot as plt\n",
    "%matplotlib inline"
   ]
  },
  {
   "cell_type": "code",
   "execution_count": 2,
   "metadata": {
    "collapsed": true
   },
   "outputs": [],
   "source": [
    "# dimensions of our images.\n",
    "img_width, img_height = 150, 150"
   ]
  },
  {
   "cell_type": "code",
   "execution_count": 20,
   "metadata": {
    "collapsed": true
   },
   "outputs": [],
   "source": [
    "def preprocessing_image(img):\n",
    "    print(img.shape)\n",
    "    img = resize(img, (150,150,3))\n",
    "    img /= 255\n",
    "    img = img.reshape((1,)+img.shape)\n",
    "    return img"
   ]
  },
  {
   "cell_type": "code",
   "execution_count": 3,
   "metadata": {
    "collapsed": true
   },
   "outputs": [],
   "source": [
    "model = Sequential()\n",
    "model.add(Convolution2D(32, 3, 3, input_shape=(img_width, img_height,3)))\n",
    "model.add(Activation('relu'))\n",
    "model.add(MaxPooling2D(pool_size=(2, 2)))\n",
    "\n",
    "model.add(Convolution2D(64, 3, 3))\n",
    "model.add(Activation('relu'))\n",
    "model.add(MaxPooling2D(pool_size=(2, 2)))\n",
    "\n",
    "model.add(Convolution2D(64, 3, 3))\n",
    "model.add(Activation('relu'))\n",
    "model.add(MaxPooling2D(pool_size=(2, 2)))\n",
    "\n",
    "model.add(Convolution2D(128, 3, 3))\n",
    "model.add(Activation('relu'))\n",
    "model.add(MaxPooling2D(pool_size=(2, 2)))\n",
    "\n",
    "model.add(Convolution2D(128, 3, 3))\n",
    "model.add(Activation('relu'))\n",
    "model.add(MaxPooling2D(pool_size=(2, 2)))\n",
    "\n",
    "model.add(Flatten())\n",
    "model.add(Dense(128))\n",
    "model.add(Activation('relu'))\n",
    "model.add(Dropout(0.5))\n",
    "model.add(Dense(10, activation='relu'))\n",
    "model.add(Dense(2, activation='softmax'))\n",
    "# model.add(Activation('relu'))\n",
    "# model.add(Dense(1))\n",
    "\n",
    "model.compile(loss='categorical_crossentropy',\n",
    "              optimizer='rmsprop',\n",
    "              metrics=['accuracy'])\n",
    "\n",
    "model.load_weights('models/color_softmax_car_cropneg60001000_30_epochs.h5')"
   ]
  },
  {
   "cell_type": "code",
   "execution_count": 4,
   "metadata": {
    "collapsed": false
   },
   "outputs": [
    {
     "name": "stdout",
     "output_type": "stream",
     "text": [
      "____________________________________________________________________________________________________\n",
      "Layer (type)                     Output Shape          Param #     Connected to                     \n",
      "====================================================================================================\n",
      "convolution2d_1 (Convolution2D)  (None, 148, 148, 32)  896         convolution2d_input_1[0][0]      \n",
      "____________________________________________________________________________________________________\n",
      "activation_1 (Activation)        (None, 148, 148, 32)  0           convolution2d_1[0][0]            \n",
      "____________________________________________________________________________________________________\n",
      "maxpooling2d_1 (MaxPooling2D)    (None, 74, 74, 32)    0           activation_1[0][0]               \n",
      "____________________________________________________________________________________________________\n",
      "convolution2d_2 (Convolution2D)  (None, 72, 72, 64)    18496       maxpooling2d_1[0][0]             \n",
      "____________________________________________________________________________________________________\n",
      "activation_2 (Activation)        (None, 72, 72, 64)    0           convolution2d_2[0][0]            \n",
      "____________________________________________________________________________________________________\n",
      "maxpooling2d_2 (MaxPooling2D)    (None, 36, 36, 64)    0           activation_2[0][0]               \n",
      "____________________________________________________________________________________________________\n",
      "convolution2d_3 (Convolution2D)  (None, 34, 34, 64)    36928       maxpooling2d_2[0][0]             \n",
      "____________________________________________________________________________________________________\n",
      "activation_3 (Activation)        (None, 34, 34, 64)    0           convolution2d_3[0][0]            \n",
      "____________________________________________________________________________________________________\n",
      "maxpooling2d_3 (MaxPooling2D)    (None, 17, 17, 64)    0           activation_3[0][0]               \n",
      "____________________________________________________________________________________________________\n",
      "convolution2d_4 (Convolution2D)  (None, 15, 15, 128)   73856       maxpooling2d_3[0][0]             \n",
      "____________________________________________________________________________________________________\n",
      "activation_4 (Activation)        (None, 15, 15, 128)   0           convolution2d_4[0][0]            \n",
      "____________________________________________________________________________________________________\n",
      "maxpooling2d_4 (MaxPooling2D)    (None, 7, 7, 128)     0           activation_4[0][0]               \n",
      "____________________________________________________________________________________________________\n",
      "convolution2d_5 (Convolution2D)  (None, 5, 5, 128)     147584      maxpooling2d_4[0][0]             \n",
      "____________________________________________________________________________________________________\n",
      "activation_5 (Activation)        (None, 5, 5, 128)     0           convolution2d_5[0][0]            \n",
      "____________________________________________________________________________________________________\n",
      "maxpooling2d_5 (MaxPooling2D)    (None, 2, 2, 128)     0           activation_5[0][0]               \n",
      "____________________________________________________________________________________________________\n",
      "flatten_1 (Flatten)              (None, 512)           0           maxpooling2d_5[0][0]             \n",
      "____________________________________________________________________________________________________\n",
      "dense_1 (Dense)                  (None, 128)           65664       flatten_1[0][0]                  \n",
      "____________________________________________________________________________________________________\n",
      "activation_6 (Activation)        (None, 128)           0           dense_1[0][0]                    \n",
      "____________________________________________________________________________________________________\n",
      "dropout_1 (Dropout)              (None, 128)           0           activation_6[0][0]               \n",
      "____________________________________________________________________________________________________\n",
      "dense_2 (Dense)                  (None, 10)            1290        dropout_1[0][0]                  \n",
      "____________________________________________________________________________________________________\n",
      "dense_3 (Dense)                  (None, 2)             22          dense_2[0][0]                    \n",
      "====================================================================================================\n",
      "Total params: 344,736\n",
      "Trainable params: 344,736\n",
      "Non-trainable params: 0\n",
      "____________________________________________________________________________________________________\n"
     ]
    }
   ],
   "source": [
    "model.summary()"
   ]
  },
  {
   "cell_type": "code",
   "execution_count": 19,
   "metadata": {
    "collapsed": false
   },
   "outputs": [
    {
     "name": "stdout",
     "output_type": "stream",
     "text": [
      "(150, 150, 3)\n",
      "1/1 [==============================] - 0s\n",
      "[0]\n",
      "1/1 [==============================] - 0s\n",
      "[[ 0.99899632  0.00100374]]\n",
      "(150, 150, 3)\n",
      "1/1 [==============================] - 0s\n",
      "[0]\n",
      "1/1 [==============================] - 0s\n",
      "[[ 0.99899381  0.00100623]]\n",
      "(150, 150, 3)\n",
      "1/1 [==============================] - 0s\n",
      "[0]\n",
      "1/1 [==============================] - 0s\n",
      "[[  9.99052107e-01   9.47882247e-04]]\n",
      "(150, 150, 3)\n",
      "1/1 [==============================] - 0s\n",
      "[0]\n",
      "1/1 [==============================] - 0s\n",
      "[[  9.99207675e-01   7.92295265e-04]]\n"
     ]
    }
   ],
   "source": [
    "img_list = ['./dataset/ColorCars/BackgroundCrops150150/1238_5.jpg',\n",
    "            './dataset/ColorCars/BackgroundCrops150150/1237_4.jpg',\n",
    "            './dataset/ColorCars/BackgroundCrops150150/1236_4.jpg',\n",
    "            './dataset/ColorCars/BackgroundCrops150150/1230_3.jpg']\n",
    "\n",
    "for ip in img_list:\n",
    "    img = imread(ip)\n",
    "    img = preprocessing_image(img)\n",
    "    print(model.predict_classes(img))\n",
    "    print(model.predict_proba(img))"
   ]
  },
  {
   "cell_type": "code",
   "execution_count": 11,
   "metadata": {
    "collapsed": false
   },
   "outputs": [
    {
     "name": "stdout",
     "output_type": "stream",
     "text": [
      "1/1 [==============================] - 0s\n",
      "[0]\n",
      "1/1 [==============================] - 0s\n",
      "[[  9.99022007e-01   9.77955875e-04]]\n"
     ]
    }
   ],
   "source": [
    "ip = './dataset/non_car_test1.jpg'\n",
    "img = imread(ip)\n",
    "img = preprocessing_image(img)\n",
    "print(model.predict_classes(img))\n",
    "print(model.predict_proba(img))"
   ]
  },
  {
   "cell_type": "code",
   "execution_count": 24,
   "metadata": {
    "collapsed": false
   },
   "outputs": [
    {
     "name": "stdout",
     "output_type": "stream",
     "text": [
      "(400, 600, 3)\n",
      "(400, 600, 3)\n",
      "1/1 [==============================] - 0s\n",
      "[0]\n",
      "1/1 [==============================] - 0s\n",
      "[[  9.99036670e-01   9.63319675e-04]]\n",
      "(675, 900, 3)\n",
      "(675, 900, 3)\n",
      "1/1 [==============================] - 0s\n",
      "[0]\n",
      "1/1 [==============================] - 0s\n",
      "[[ 0.99890685  0.00109317]]\n",
      "(480, 640, 3)\n",
      "(480, 640, 3)\n",
      "1/1 [==============================] - 0s\n",
      "[0]\n",
      "1/1 [==============================] - 0s\n",
      "[[ 0.99896502  0.00103495]]\n",
      "(1386, 2100, 3)\n",
      "(1386, 2100, 3)\n",
      "1/1 [==============================] - 0s\n",
      "[0]\n",
      "1/1 [==============================] - 0s\n",
      "[[  9.99046743e-01   9.53197421e-04]]\n"
     ]
    },
    {
     "data": {
      "image/png": "[encoded data removed]",
      "text/plain": [
       "<matplotlib.figure.Figure at 0x189b7323ef0>"
      ]
     },
     "metadata": {},
     "output_type": "display_data"
    }
   ],
   "source": [
    "# img_list = ['./dataset/ColorCars/TrainOrigins/08144.jpg',\n",
    "#             './dataset/ColorCars/TrainOrigins/08143.jpg',\n",
    "#             './dataset/ColorCars/TrainOrigins/08142.jpg',\n",
    "#             './dataset/ColorCars/TrainOrigins/08141.jpg']\n",
    "\n",
    "img_list = ['./dataset/ColorCars/TrainOrigins/00001.jpg',\n",
    "            './dataset/ColorCars/TrainOrigins/00002.jpg',\n",
    "            './dataset/ColorCars/TrainOrigins/00003.jpg',\n",
    "            './dataset/ColorCars/TrainOrigins/00004.jpg']\n",
    "\n",
    "for ip in img_list:\n",
    "    img = imread(ip)\n",
    "    imshow(img)\n",
    "    print(img.shape)\n",
    "    img = preprocessing_image(img)\n",
    "    print(model.predict_classes(img))\n",
    "    print(model.predict_proba(img))"
   ]
  },
  {
   "cell_type": "code",
   "execution_count": null,
   "metadata": {
    "collapsed": true
   },
   "outputs": [],
   "source": []
  }
 ],
 "metadata": {
  "kernelspec": {
   "display_name": "Python 3",
   "language": "python",
   "name": "python3"
  },
  "language_info": {
   "codemirror_mode": {
    "name": "ipython",
    "version": 3
   },
   "file_extension": ".py",
   "mimetype": "text/x-python",
   "name": "python",
   "nbconvert_exporter": "python",
   "pygments_lexer": "ipython3",
   "version": "3.5.3"
  }
 },
 "nbformat": 4,
 "nbformat_minor": 2
}
