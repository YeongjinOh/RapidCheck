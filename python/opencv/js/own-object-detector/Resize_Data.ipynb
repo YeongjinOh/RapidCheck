{
 "cells": [
  {
   "cell_type": "code",
   "execution_count": 8,
   "metadata": {
    "collapsed": false
   },
   "outputs": [],
   "source": [
    "import glob\n",
    "import os\n",
    "from shutil import copyfile, rmtree\n",
    "import argparse as ap\n",
    "from skimage.transform import resize\n",
    "from skimage.color import rgb2gray\n",
    "from skimage.io import imread, imsave"
   ]
  },
  {
   "cell_type": "code",
   "execution_count": 13,
   "metadata": {
    "collapsed": false
   },
   "outputs": [
    {
     "data": {
      "text/plain": [
       "{'bg_origin_dir_path': './dataset/ColorCars/BackgroundOrigins',\n",
       " 'debug': False,\n",
       " 'is_gray': True,\n",
       " 'train_origin_dir_path': './dataset/ColorCars/TrainOrigins'}"
      ]
     },
     "execution_count": 13,
     "metadata": {},
     "output_type": "execute_result"
    }
   ],
   "source": [
    "args = {}\n",
    "args['train_origin_dir_path'] = './dataset/ColorCars/TrainOrigins'\n",
    "args['bg_origin_dir_path'] = './dataset/ColorCars/BackgroundOrigins'\n",
    "args['debug'] = False\n",
    "args['is_gray'] = True\n",
    "args"
   ]
  },
  {
   "cell_type": "code",
   "execution_count": 3,
   "metadata": {
    "collapsed": false
   },
   "outputs": [
    {
     "name": "stdout",
     "output_type": "stream",
     "text": [
      "Making ./dataset/ColorCars/TrainResized_gray150150 directory..\n",
      "Making ./dataset/ColorCars/BackgroundResized_gray150150 directory..\n"
     ]
    }
   ],
   "source": [
    "train_resize_dir_path = './dataset/ColorCars/TrainResized_gray150150'\n",
    "bg_resize_dir_path = './dataset/ColorCars/BackgroundResized_gray150150'\n",
    "dir_paths = [train_resize_dir_path, bg_resize_dir_path]\n",
    "\n",
    "for each_path in dir_paths:\n",
    "    if os.path.isdir(each_path):\n",
    "        rmtree(each_path)\n",
    "        os.makedirs(each_path)\n",
    "        print(\"Clean %s directory..\" % each_path)\n",
    "    elif not os.path.isdir(each_path):\n",
    "        os.makedirs(each_path)\n",
    "        print(\"Making %s directory..\" % each_path)"
   ]
  },
  {
   "cell_type": "markdown",
   "metadata": {},
   "source": [
    "### To ignore warning message while converting image size"
   ]
  },
  {
   "cell_type": "code",
   "execution_count": 4,
   "metadata": {
    "collapsed": true
   },
   "outputs": [],
   "source": [
    "import warnings\n",
    "warnings.filterwarnings('ignore')"
   ]
  },
  {
   "cell_type": "code",
   "execution_count": 14,
   "metadata": {
    "collapsed": false
   },
   "outputs": [
    {
     "name": "stdout",
     "output_type": "stream",
     "text": [
      "0 image done..\n",
      "100 image done..\n",
      "200 image done..\n",
      "300 image done..\n",
      "400 image done..\n",
      "500 image done..\n",
      "600 image done..\n",
      "700 image done..\n",
      "800 image done..\n",
      "900 image done..\n",
      "1000 image done..\n",
      "1100 image done..\n",
      "1200 image done..\n",
      "1300 image done..\n",
      "1400 image done..\n",
      "1500 image done..\n",
      "1600 image done..\n",
      "1700 image done..\n",
      "1800 image done..\n",
      "1900 image done..\n",
      "2000 image done..\n",
      "2100 image done..\n",
      "2200 image done..\n",
      "2300 image done..\n",
      "2400 image done..\n",
      "2500 image done..\n",
      "2600 image done..\n",
      "2700 image done..\n",
      "2800 image done..\n",
      "2900 image done..\n",
      "3000 image done..\n",
      "3100 image done..\n",
      "3200 image done..\n",
      "3300 image done..\n",
      "3400 image done..\n",
      "3500 image done..\n",
      "3600 image done..\n",
      "3700 image done..\n",
      "3800 image done..\n",
      "3900 image done..\n",
      "4000 image done..\n",
      "4100 image done..\n",
      "4200 image done..\n",
      "4300 image done..\n",
      "4400 image done..\n",
      "4500 image done..\n",
      "4600 image done..\n",
      "4700 image done..\n",
      "4800 image done..\n",
      "4900 image done..\n",
      "5000 image done..\n",
      "5100 image done..\n",
      "5200 image done..\n",
      "5300 image done..\n",
      "5400 image done..\n",
      "5500 image done..\n",
      "5600 image done..\n",
      "5700 image done..\n",
      "5800 image done..\n",
      "5900 image done..\n",
      "6000 image done..\n",
      "6100 image done..\n",
      "6200 image done..\n",
      "6300 image done..\n",
      "6400 image done..\n",
      "6500 image done..\n",
      "6600 image done..\n",
      "6700 image done..\n",
      "6800 image done..\n",
      "6900 image done..\n",
      "7000 image done..\n",
      "7100 image done..\n",
      "7200 image done..\n",
      "7300 image done..\n",
      "7400 image done..\n",
      "7500 image done..\n",
      "7600 image done..\n",
      "7700 image done..\n",
      "7800 image done..\n",
      "7900 image done..\n",
      "8000 image done..\n",
      "8100 image done..\n",
      "Image Resize Done\n",
      "Image Original file nums :  8144\n",
      "Image Resize file nums :  8144\n"
     ]
    }
   ],
   "source": [
    "for i, im_path in enumerate(glob.glob(os.path.join(args['train_origin_dir_path'], \"*\"))):\n",
    "    im_resized_path = os.path.join(train_resize_dir_path, im_path.split('\\\\')[-1])\n",
    "    img = imread(im_path, as_gray=True)\n",
    "    if args['is_gray']:\n",
    "        img = rgb2gray(img)\n",
    "    imgResized = resize(img, (150, 150))\n",
    "    imsave(im_resized_path, imgResized)\n",
    "    if args['debug']:\n",
    "        print(\"orignal img path : \", im_path)\n",
    "        print(\"orignal img info >> \", type(img), img.shape, img.dtype)\n",
    "        print(\"resize img info >> \", type(imgResized), imgResized.shape, imgResized.dtype)\n",
    "        print(\"resize img path : \", im_resized_path)\n",
    "    if i % 100 == 0:\n",
    "        print(\"{} image done..\".format(i))\n",
    "print(\"Image Resize Done\")\n",
    "print(\"Image Original file nums : \", len(os.listdir(args['train_origin_dir_path'])))\n",
    "print(\"Image Resize file nums : \", len(os.listdir(train_resize_dir_path)))"
   ]
  },
  {
   "cell_type": "code",
   "execution_count": 15,
   "metadata": {
    "collapsed": false
   },
   "outputs": [
    {
     "name": "stdout",
     "output_type": "stream",
     "text": [
      "0 image done..\n",
      "100 image done..\n",
      "200 image done..\n",
      "300 image done..\n",
      "400 image done..\n",
      "500 image done..\n",
      "600 image done..\n",
      "700 image done..\n",
      "800 image done..\n",
      "900 image done..\n",
      "1000 image done..\n",
      "1100 image done..\n",
      "1200 image done..\n",
      "1300 image done..\n",
      "Image Resize Done\n",
      "Image Original file nums :  1370\n",
      "Image Resize file nums :  1370\n"
     ]
    }
   ],
   "source": [
    "for i, im_path in enumerate(glob.glob(os.path.join(args['bg_origin_dir_path'], \"*\"))):\n",
    "    im_resized_path = os.path.join(bg_resize_dir_path, im_path.split('\\\\')[-1])\n",
    "    img = imread(im_path, as_gray=True)\n",
    "    if args['is_gray']:\n",
    "        img = rgb2gray(img)\n",
    "    imgResized = resize(img, (150, 150))\n",
    "    imsave(im_resized_path, imgResized)\n",
    "    if args['debug']:\n",
    "        print(\"orignal img path : \", im_path)\n",
    "        print(\"orignal img info >> \", type(img), img.shape, img.dtype)\n",
    "        print(\"resize img info >> \", type(imgResized), imgResized.shape, imgResized.dtype)\n",
    "        print(\"resize img path : \", im_resized_path)\n",
    "    if i % 100 == 0:\n",
    "        print(\"{} image done..\".format(i))\n",
    "\n",
    "print(\"Image Resize Done\")\n",
    "print(\"Image Original file nums : \", len(os.listdir(args['bg_origin_dir_path'])))\n",
    "print(\"Image Resize file nums : \", len(os.listdir(bg_resize_dir_path)))"
   ]
  },
  {
   "cell_type": "code",
   "execution_count": null,
   "metadata": {
    "collapsed": true
   },
   "outputs": [],
   "source": []
  }
 ],
 "metadata": {
  "kernelspec": {
   "display_name": "Python 3",
   "language": "python",
   "name": "python3"
  },
  "language_info": {
   "codemirror_mode": {
    "name": "ipython",
    "version": 3
   },
   "file_extension": ".py",
   "mimetype": "text/x-python",
   "name": "python",
   "nbconvert_exporter": "python",
   "pygments_lexer": "ipython3",
   "version": "3.5.3"
  }
 },
 "nbformat": 4,
 "nbformat_minor": 2
}
