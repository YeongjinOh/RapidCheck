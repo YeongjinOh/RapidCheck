{
 "cells": [
  {
   "cell_type": "code",
   "execution_count": 2,
   "metadata": {
    "collapsed": true
   },
   "outputs": [],
   "source": [
    "import glob\n",
    "import os\n",
    "from shutil import copyfile, rmtree"
   ]
  },
  {
   "cell_type": "code",
   "execution_count": 3,
   "metadata": {
    "collapsed": false
   },
   "outputs": [
    {
     "data": {
      "text/plain": [
       "{'is_window': True, 'size': '150150'}"
      ]
     },
     "execution_count": 3,
     "metadata": {},
     "output_type": "execute_result"
    }
   ],
   "source": [
    "args = {}\n",
    "args['size'] = '150150'\n",
    "args['is_window'] = True\n",
    "if args['is_window']:\n",
    "    split_letter = '\\\\'\n",
    "else:\n",
    "    split_letter = '/'\n",
    "args"
   ]
  },
  {
   "cell_type": "code",
   "execution_count": 7,
   "metadata": {
    "collapsed": false
   },
   "outputs": [
    {
     "name": "stdout",
     "output_type": "stream",
     "text": [
      "pos :  8144\n",
      "neg :  7434\n"
     ]
    }
   ],
   "source": [
    "train_img_path = './dataset/ColorCars/TrainResized{}/'.format(args['size'])\n",
    "bg_img_path = './dataset/ColorCars/BackgroundCrops{}/'.format(args['size'])\n",
    "\n",
    "train_dir_path = './dataset/ColorCars/Trains{}/'.format(args['size'])\n",
    "validation_dir_path = './dataset/ColorCars/Validations{}/'.format(args['size'])\n",
    "print(\"pos : \", len(os.listdir(train_img_path)))\n",
    "print(\"neg : \", len(os.listdir(bg_img_path)))"
   ]
  },
  {
   "cell_type": "code",
   "execution_count": 8,
   "metadata": {
    "collapsed": false
   },
   "outputs": [
    {
     "name": "stdout",
     "output_type": "stream",
     "text": [
      "Clean ./dataset/ColorCars/Trains150150/pos directory..\n",
      "Clean ./dataset/ColorCars/Trains150150/neg directory..\n",
      "Clean ./dataset/ColorCars/Validations150150/pos directory..\n",
      "Clean ./dataset/ColorCars/Validations150150/neg directory..\n",
      "['neg', 'pos']\n",
      "6000\n",
      "1000\n",
      "6000\n",
      "1000\n",
      "pos cnt  7000\n",
      "neg cnt  7000\n"
     ]
    }
   ],
   "source": [
    "pos_img_cnt = 0 \n",
    "neg_img_cnt = 0\n",
    "\n",
    "pos_train_dir_path = train_dir_path + 'pos'\n",
    "neg_train_dir_path = train_dir_path + 'neg'\n",
    "\n",
    "pos_validation_dir_path = validation_dir_path + 'pos'\n",
    "neg_validation_dir_path = validation_dir_path + 'neg'\n",
    "\n",
    "dir_paths = [pos_train_dir_path, neg_train_dir_path, \n",
    "            pos_validation_dir_path, neg_validation_dir_path]\n",
    "\n",
    "nb_train_samples = 6000\n",
    "nb_validation_samples = 1000\n",
    "nb_epoch = 50\n",
    "\n",
    "for each_path in dir_paths:\n",
    "    if os.path.isdir(each_path):\n",
    "        rmtree(each_path)\n",
    "        os.makedirs(each_path)\n",
    "        print(\"Clean %s directory..\" % each_path)\n",
    "    elif not os.path.isdir(each_path):\n",
    "        os.makedirs(each_path)\n",
    "        print(\"Making %s directory..\" % each_path)\n",
    "\n",
    "print(os.listdir(train_dir_path))\n",
    "\n",
    "for im_path in glob.glob(os.path.join(train_img_path, \"*\")):\n",
    "    img_name = im_path.split(split_letter)[-1]\n",
    "    # print(img_name)\n",
    "    if pos_img_cnt < nb_train_samples:\n",
    "        copyfile(im_path, pos_train_dir_path + split_letter + img_name)\n",
    "    else:\n",
    "        if pos_img_cnt >= (nb_train_samples + nb_validation_samples):\n",
    "            break\n",
    "        copyfile(im_path, pos_validation_dir_path + split_letter + img_name)\n",
    "    pos_img_cnt += 1\n",
    "\n",
    "print(len(os.listdir(pos_train_dir_path)))\n",
    "print(len(os.listdir(pos_validation_dir_path)))\n",
    "\n",
    "for im_path in glob.glob(os.path.join(bg_img_path, \"*\")):\n",
    "    img_name = im_path.split(split_letter)[-1]\n",
    "    # print(img_name)\n",
    "    if neg_img_cnt < nb_train_samples:\n",
    "        copyfile(im_path, neg_train_dir_path + split_letter + img_name)\n",
    "    else:\n",
    "        if neg_img_cnt >= nb_train_samples + nb_validation_samples:\n",
    "            break\n",
    "        copyfile(im_path, neg_validation_dir_path + split_letter + img_name)\n",
    "    neg_img_cnt += 1\n",
    "\n",
    "print(len(os.listdir(neg_train_dir_path)))\n",
    "print(len(os.listdir(neg_validation_dir_path)))\n",
    "\n",
    "print(\"pos cnt \", pos_img_cnt)\n",
    "print(\"neg cnt \", neg_img_cnt)"
   ]
  },
  {
   "cell_type": "code",
   "execution_count": null,
   "metadata": {
    "collapsed": true
   },
   "outputs": [],
   "source": []
  }
 ],
 "metadata": {
  "kernelspec": {
   "display_name": "Python 3",
   "language": "python",
   "name": "python3"
  },
  "language_info": {
   "codemirror_mode": {
    "name": "ipython",
    "version": 3
   },
   "file_extension": ".py",
   "mimetype": "text/x-python",
   "name": "python",
   "nbconvert_exporter": "python",
   "pygments_lexer": "ipython3",
   "version": "3.5.3"
  }
 },
 "nbformat": 4,
 "nbformat_minor": 2
}
