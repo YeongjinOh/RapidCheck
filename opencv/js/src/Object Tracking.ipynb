{
 "cells": [
  {
   "cell_type": "code",
   "execution_count": 1,
   "metadata": {
    "collapsed": true
   },
   "outputs": [],
   "source": [
    "from collections import deque\n",
    "import numpy as np\n",
    "import imutils\n",
    "import cv2"
   ]
  },
  {
   "cell_type": "code",
   "execution_count": 5,
   "metadata": {
    "collapsed": false
   },
   "outputs": [],
   "source": [
    "greenLower = (29, 86, 6)\n",
    "greenUpper = (64, 255, 255)\n",
    "pts = deque(maxlen=64)\n",
    "\n",
    "camera = cv2.VideoCapture(0)\n",
    "\n",
    "kernels = np.ones((5,5), np.uint8)\n",
    "\n",
    "while True:\n",
    "    (grabbed, frame) = camera.read()\n",
    "    \n",
    "    frame = imutils.resize(frame, width=600)\n",
    "    hsv_frame = cv2.cvtColor(frame, cv2.COLOR_BGR2HSV)\n",
    "    cv2.imshow('hsv', hsv_frame)\n",
    "    \n",
    "    mask = cv2.inRange(hsv_frame, greenLower, greenUpper)\n",
    "    cv2.imshow('mask', mask)\n",
    "    mask = cv2.morphologyEx(mask, cv2.MORPH_OPEN, kernels, iterations=2)\n",
    "    cv2.imshow('opening', mask)\n",
    "    \n",
    "    if cv2.waitKey(3) & 0xFF == 27:\n",
    "        break\n",
    "\n",
    "camera.release()\n",
    "cv2.destroyAllWindows()"
   ]
  },
  {
   "cell_type": "code",
   "execution_count": null,
   "metadata": {
    "collapsed": true
   },
   "outputs": [],
   "source": []
  }
 ],
 "metadata": {
  "kernelspec": {
   "display_name": "Python 3",
   "language": "python",
   "name": "python3"
  },
  "language_info": {
   "codemirror_mode": {
    "name": "ipython",
    "version": 3
   },
   "file_extension": ".py",
   "mimetype": "text/x-python",
   "name": "python",
   "nbconvert_exporter": "python",
   "pygments_lexer": "ipython3",
   "version": "3.5.1"
  }
 },
 "nbformat": 4,
 "nbformat_minor": 2
}
